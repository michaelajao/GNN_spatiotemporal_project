{
 "cells": [
  {
   "cell_type": "code",
   "execution_count": 1,
   "metadata": {},
   "outputs": [
    {
     "name": "stderr",
     "output_type": "stream",
     "text": [
      "[2025-01-26 15:01:22] INFO: Using device: cuda\n"
     ]
    }
   ],
   "source": [
    "# Imports and Setup\n",
    "import os\n",
    "import math\n",
    "import random\n",
    "import logging\n",
    "import warnings\n",
    "import numpy as np\n",
    "import pandas as pd\n",
    "import matplotlib.pyplot as plt\n",
    "import seaborn as sns\n",
    "import networkx as nx\n",
    "\n",
    "import torch\n",
    "import torch.nn as nn\n",
    "import torch.nn.functional as F\n",
    "import torch.optim as optim\n",
    "from torch.utils.data import Dataset, DataLoader, Subset\n",
    "from sklearn.metrics import mean_absolute_error, mean_squared_error, r2_score\n",
    "from sklearn.preprocessing import StandardScaler\n",
    "from scipy.stats import pearsonr  # Correct import\n",
    "from tqdm import tqdm, TqdmWarning\n",
    "\n",
    "# Import custom modules\n",
    "from EpiGNN.data_merge import merge_and_save\n",
    "from EpiGNN.epignn_model import EpiGNN\n",
    "\n",
    "# Suppress specific warnings\n",
    "warnings.filterwarnings(\"ignore\", category=TqdmWarning)\n",
    "warnings.filterwarnings(\"ignore\", category=UserWarning, module=\"torch.optim.lr_scheduler\")\n",
    "warnings.filterwarnings(\"ignore\", category=UserWarning, module=\"torch.nn.functional\")\n",
    "\n",
    "# Set plotting style for publication-quality figures\n",
    "plt.style.use('seaborn-v0_8-paper')\n",
    "plt.rcParams.update({\n",
    "    'figure.figsize': (10, 6),\n",
    "    'axes.titlesize': 16,\n",
    "    'axes.labelsize': 14,\n",
    "    'xtick.labelsize': 12,\n",
    "    'ytick.labelsize': 12,\n",
    "    'legend.fontsize': 12,\n",
    "    'font.size': 12,\n",
    "    'figure.dpi': 300  # High resolution (DPI) for publication\n",
    "})\n",
    "\n",
    "sns.set(style=\"whitegrid\")\n",
    "plt.rcParams.update({\"figure.max_open_warning\": 0})\n",
    "\n",
    "# Initialize logging\n",
    "project_root = os.path.abspath(os.path.join(os.getcwd(), \"../GNN_spatiotemporal_project\"))  # Adjust as needed\n",
    "log_file = os.path.join(project_root, \"experiment.log\")\n",
    "os.makedirs(os.path.dirname(log_file), exist_ok=True)\n",
    "\n",
    "logging.basicConfig(\n",
    "    level=logging.INFO,\n",
    "    format=\"[%(asctime)s] %(levelname)s: %(message)s\",\n",
    "    datefmt=\"%Y-%m-%d %H:%M:%S\",\n",
    "    handlers=[\n",
    "        logging.FileHandler(log_file),\n",
    "        logging.StreamHandler()\n",
    "    ],\n",
    ")\n",
    "\n",
    "# Set random seeds for reproducibility\n",
    "def seed_everything(seed=123):\n",
    "    random.seed(seed)\n",
    "    os.environ[\"PYTHONHASHSEED\"] = str(seed)\n",
    "    np.random.seed(seed)\n",
    "    torch.manual_seed(seed)\n",
    "    torch.cuda.manual_seed(seed)\n",
    "    torch.cuda.manual_seed_all(seed)  # if you are using multi-GPU.\n",
    "    torch.backends.cudnn.benchmark = False\n",
    "    torch.backends.cudnn.deterministic = True\n",
    "\n",
    "seed_everything()\n",
    "\n",
    "# Define device\n",
    "device = torch.device(\"cuda\" if torch.cuda.is_available() else \"cpu\")\n",
    "logging.info(f\"Using device: {device}\")\n"
   ]
  },
  {
   "cell_type": "code",
   "execution_count": 2,
   "metadata": {},
   "outputs": [],
   "source": [
    "# Utility Functions\n",
    "\n",
    "def compute_geographic_adjacency(regions, latitudes, longitudes, threshold=300):\n",
    "    \"\"\"\n",
    "    Compute a static adjacency matrix based on geographic distances.\n",
    "\n",
    "    Parameters:\n",
    "    - regions (list): List of region names.\n",
    "    - latitudes (list): List of latitudes corresponding to regions.\n",
    "    - longitudes (list): List of longitudes corresponding to regions.\n",
    "    - threshold (float): Distance threshold to determine adjacency.\n",
    "\n",
    "    Returns:\n",
    "    - adj_mat (torch.Tensor): Adjacency matrix (num_nodes, num_nodes).\n",
    "    \"\"\"\n",
    "    from math import radians, sin, cos, asin, sqrt\n",
    "    from scipy.spatial.distance import pdist, squareform\n",
    "\n",
    "    def haversine_distance(u, v):\n",
    "        lat1, lon1 = map(radians, [u[0], u[1]])\n",
    "        lat2, lon2 = map(radians, [v[0], v[1]])\n",
    "        dlon = lon2 - lon1\n",
    "        dlat = lat2 - lat1\n",
    "        a = (sin(dlat / 2) ** 2) + cos(lat1) * cos(lat2) * (sin(dlon / 2) ** 2)\n",
    "        c = 2 * asin(sqrt(a))\n",
    "        return c * 6371  # Radius of Earth in kilometers\n",
    "\n",
    "    coords = np.column_stack((latitudes, longitudes))\n",
    "    dist_mat = squareform(pdist(coords, metric=haversine_distance))\n",
    "    adj_mat = (dist_mat <= threshold).astype(np.float32)\n",
    "    np.fill_diagonal(adj_mat, 1.0)  # Ensure self-connections\n",
    "    return torch.tensor(adj_mat, dtype=torch.float32)\n",
    "\n",
    "\n",
    "def getLaplaceMat(bs, m, adj):\n",
    "    \"\"\"\n",
    "    Computes the Laplacian matrix.\n",
    "\n",
    "    Parameters:\n",
    "    - bs (int): Batch size.\n",
    "    - m (int): Number of nodes.\n",
    "    - adj (torch.Tensor): Adjacency matrix (batch_size, m, m).\n",
    "\n",
    "    Returns:\n",
    "    - laplace (torch.Tensor): Normalized Laplacian matrix (batch_size, m, m).\n",
    "    \"\"\"\n",
    "    eye = torch.eye(m, device=adj.device).unsqueeze(0).repeat(bs, 1, 1)\n",
    "    adj_bin = (adj > 0).float()\n",
    "    deg = torch.sum(adj_bin, dim=2)  # (batch_size, m)\n",
    "    deg_inv = 1.0 / (deg + 1e-12)  # Avoid division by zero\n",
    "    deg_inv_mat = eye * deg_inv.unsqueeze(2)  # (batch_size, m, m)\n",
    "    laplace = torch.bmm(deg_inv_mat, adj_bin)  # (batch_size, m, m)\n",
    "    return laplace\n"
   ]
  },
  {
   "cell_type": "code",
   "execution_count": 3,
   "metadata": {},
   "outputs": [],
   "source": [
    "# Dataset Class\n",
    "\n",
    "class DailyDataset(Dataset):\n",
    "    \"\"\"\n",
    "    Dataset class for daily COVID-19 data using a sliding-window approach.\n",
    "\n",
    "    - X: shape (num_timesteps_input, num_nodes, num_features)\n",
    "    - Y: shape (num_timesteps_output, num_nodes)\n",
    "    \"\"\"\n",
    "    def __init__(self, data: pd.DataFrame, num_timesteps_input=20, num_timesteps_output=7, scaler=None):\n",
    "        super(DailyDataset, self).__init__()\n",
    "        self.data = data.copy()\n",
    "        self.num_timesteps_input = num_timesteps_input\n",
    "        self.num_timesteps_output = num_timesteps_output\n",
    "\n",
    "        # Region indexing\n",
    "        self.regions = self.data[\"areaName\"].unique()\n",
    "        self.num_nodes = len(self.regions)\n",
    "        self.region_to_idx = {r: i for i, r in enumerate(self.regions)}\n",
    "        self.data[\"region_idx\"] = self.data[\"areaName\"].map(self.region_to_idx)\n",
    "\n",
    "        # Relevant features\n",
    "        self.features = [\"new_confirmed\", \"new_deceased\", \"newAdmissions\", \"hospitalCases\", \"covidOccupiedMVBeds\"]\n",
    "\n",
    "        # Pivot: index=date, columns=region_idx, values=features => shape (#days, #nodes, #features)\n",
    "        pivoted = self.data.pivot(index=\"date\", columns=\"region_idx\", values=self.features)\n",
    "        pivoted.ffill(inplace=True)  # Forward fill\n",
    "        pivoted.fillna(0, inplace=True)\n",
    "\n",
    "        self.num_days = pivoted.shape[0]\n",
    "        self.num_features = len(self.features)\n",
    "        self.feature_array = pivoted.values.reshape(self.num_days, self.num_nodes, self.num_features)\n",
    "\n",
    "        self.scaler = scaler\n",
    "        if self.scaler is not None:\n",
    "            arr_2d = self.feature_array.reshape(-1, self.num_features)\n",
    "            arr_2d = self.scaler.fit_transform(arr_2d)\n",
    "            self.feature_array = arr_2d.reshape(self.num_days, self.num_nodes, self.num_features)\n",
    "\n",
    "    def __len__(self):\n",
    "        return self.num_days - self.num_timesteps_input - self.num_timesteps_output + 1\n",
    "\n",
    "    def __getitem__(self, idx):\n",
    "        X = self.feature_array[idx : idx + self.num_timesteps_input]  # (T_in, num_nodes, num_feats)\n",
    "        Y = self.feature_array[idx + self.num_timesteps_input : idx + self.num_timesteps_input + self.num_timesteps_output, :, 4]  # covidOccupiedMVBeds\n",
    "        return torch.tensor(X, dtype=torch.float32), torch.tensor(Y, dtype=torch.float32)\n"
   ]
  },
  {
   "cell_type": "code",
   "execution_count": 4,
   "metadata": {},
   "outputs": [
    {
     "name": "stderr",
     "output_type": "stream",
     "text": [
      "[2025-01-26 15:01:23] INFO: Starting data merging and preprocessing...\n",
      "[2025-01-26 15:01:23] INFO: Data loaded and coordinates assigned. Sorted by areaName and date.\n",
      "[2025-01-26 15:01:23] INFO: Processed daily data saved -> c:\\Users\\ajaoo\\Desktop\\Projects\\GNN_spatiotemporal_project\\data\\processed\\daily_nhs_covid_data.csv\n"
     ]
    },
    {
     "data": {
      "text/html": [
       "<div>\n",
       "<style scoped>\n",
       "    .dataframe tbody tr th:only-of-type {\n",
       "        vertical-align: middle;\n",
       "    }\n",
       "\n",
       "    .dataframe tbody tr th {\n",
       "        vertical-align: top;\n",
       "    }\n",
       "\n",
       "    .dataframe thead th {\n",
       "        text-align: right;\n",
       "    }\n",
       "</style>\n",
       "<table border=\"1\" class=\"dataframe\">\n",
       "  <thead>\n",
       "    <tr style=\"text-align: right;\">\n",
       "      <th></th>\n",
       "      <th>areaName</th>\n",
       "      <th>date</th>\n",
       "      <th>covidOccupiedMVBeds</th>\n",
       "      <th>cumAdmissions</th>\n",
       "      <th>hospitalCases</th>\n",
       "      <th>newAdmissions</th>\n",
       "      <th>new_confirmed</th>\n",
       "      <th>new_deceased</th>\n",
       "      <th>cumulative_confirmed</th>\n",
       "      <th>cumulative_deceased</th>\n",
       "      <th>population</th>\n",
       "      <th>openstreetmap_id</th>\n",
       "      <th>latitude</th>\n",
       "      <th>longitude</th>\n",
       "    </tr>\n",
       "  </thead>\n",
       "  <tbody>\n",
       "    <tr>\n",
       "      <th>0</th>\n",
       "      <td>East of England</td>\n",
       "      <td>2020-04-01</td>\n",
       "      <td>0.0</td>\n",
       "      <td>1400</td>\n",
       "      <td>833.0</td>\n",
       "      <td>167</td>\n",
       "      <td>334.0</td>\n",
       "      <td>75.0</td>\n",
       "      <td>2938.0</td>\n",
       "      <td>455.0</td>\n",
       "      <td>6235410</td>\n",
       "      <td>151336</td>\n",
       "      <td>52.1766</td>\n",
       "      <td>0.425889</td>\n",
       "    </tr>\n",
       "    <tr>\n",
       "      <th>1</th>\n",
       "      <td>East of England</td>\n",
       "      <td>2020-04-02</td>\n",
       "      <td>119.0</td>\n",
       "      <td>1584</td>\n",
       "      <td>841.0</td>\n",
       "      <td>184</td>\n",
       "      <td>372.0</td>\n",
       "      <td>71.0</td>\n",
       "      <td>3310.0</td>\n",
       "      <td>526.0</td>\n",
       "      <td>6235410</td>\n",
       "      <td>151336</td>\n",
       "      <td>52.1766</td>\n",
       "      <td>0.425889</td>\n",
       "    </tr>\n",
       "    <tr>\n",
       "      <th>2</th>\n",
       "      <td>East of England</td>\n",
       "      <td>2020-04-03</td>\n",
       "      <td>162.0</td>\n",
       "      <td>1776</td>\n",
       "      <td>914.0</td>\n",
       "      <td>192</td>\n",
       "      <td>350.0</td>\n",
       "      <td>85.0</td>\n",
       "      <td>3660.0</td>\n",
       "      <td>611.0</td>\n",
       "      <td>6235410</td>\n",
       "      <td>151336</td>\n",
       "      <td>52.1766</td>\n",
       "      <td>0.425889</td>\n",
       "    </tr>\n",
       "    <tr>\n",
       "      <th>3</th>\n",
       "      <td>East of England</td>\n",
       "      <td>2020-04-04</td>\n",
       "      <td>171.0</td>\n",
       "      <td>1939</td>\n",
       "      <td>988.0</td>\n",
       "      <td>163</td>\n",
       "      <td>268.0</td>\n",
       "      <td>70.0</td>\n",
       "      <td>3928.0</td>\n",
       "      <td>681.0</td>\n",
       "      <td>6235410</td>\n",
       "      <td>151336</td>\n",
       "      <td>52.1766</td>\n",
       "      <td>0.425889</td>\n",
       "    </tr>\n",
       "    <tr>\n",
       "      <th>4</th>\n",
       "      <td>East of England</td>\n",
       "      <td>2020-04-05</td>\n",
       "      <td>219.0</td>\n",
       "      <td>2159</td>\n",
       "      <td>1230.0</td>\n",
       "      <td>220</td>\n",
       "      <td>281.0</td>\n",
       "      <td>91.0</td>\n",
       "      <td>4209.0</td>\n",
       "      <td>772.0</td>\n",
       "      <td>6235410</td>\n",
       "      <td>151336</td>\n",
       "      <td>52.1766</td>\n",
       "      <td>0.425889</td>\n",
       "    </tr>\n",
       "  </tbody>\n",
       "</table>\n",
       "</div>"
      ],
      "text/plain": [
       "          areaName       date  covidOccupiedMVBeds  cumAdmissions  \\\n",
       "0  East of England 2020-04-01                  0.0           1400   \n",
       "1  East of England 2020-04-02                119.0           1584   \n",
       "2  East of England 2020-04-03                162.0           1776   \n",
       "3  East of England 2020-04-04                171.0           1939   \n",
       "4  East of England 2020-04-05                219.0           2159   \n",
       "\n",
       "   hospitalCases  newAdmissions  new_confirmed  new_deceased  \\\n",
       "0          833.0            167          334.0          75.0   \n",
       "1          841.0            184          372.0          71.0   \n",
       "2          914.0            192          350.0          85.0   \n",
       "3          988.0            163          268.0          70.0   \n",
       "4         1230.0            220          281.0          91.0   \n",
       "\n",
       "   cumulative_confirmed  cumulative_deceased  population  openstreetmap_id  \\\n",
       "0                2938.0                455.0     6235410            151336   \n",
       "1                3310.0                526.0     6235410            151336   \n",
       "2                3660.0                611.0     6235410            151336   \n",
       "3                3928.0                681.0     6235410            151336   \n",
       "4                4209.0                772.0     6235410            151336   \n",
       "\n",
       "   latitude  longitude  \n",
       "0   52.1766   0.425889  \n",
       "1   52.1766   0.425889  \n",
       "2   52.1766   0.425889  \n",
       "3   52.1766   0.425889  \n",
       "4   52.1766   0.425889  "
      ]
     },
     "execution_count": 4,
     "metadata": {},
     "output_type": "execute_result"
    }
   ],
   "source": [
    "# Jupyter Notebook Cell 3: Data Loading and Preprocessing\n",
    "\n",
    "# Define paths\n",
    "raw_csv_path = os.path.join(project_root, \"data\", \"raw\", \"merged_nhs_covid_data.csv\")\n",
    "processed_csv_path = os.path.join(project_root, \"data\", \"processed\", \"daily_nhs_covid_data.csv\")\n",
    "\n",
    "# Merge and preprocess data\n",
    "logging.info(\"Starting data merging and preprocessing...\")\n",
    "df_processed = merge_and_save(raw_csv_path, processed_csv_path)\n",
    "\n",
    "# Display first few rows\n",
    "df_processed.head()\n"
   ]
  },
  {
   "cell_type": "code",
   "execution_count": 5,
   "metadata": {},
   "outputs": [
    {
     "name": "stderr",
     "output_type": "stream",
     "text": [
      "[2025-01-26 15:01:23] INFO: Dataset length: 869\n",
      "[2025-01-26 15:01:23] INFO: Train size: 608, Val size: 130, Test size: 131\n"
     ]
    }
   ],
   "source": [
    "# Dataset Preparation\n",
    "\n",
    "# Initialize scaler\n",
    "scaler = StandardScaler()\n",
    "\n",
    "# Create dataset\n",
    "dataset = DailyDataset(\n",
    "    data=df_processed,\n",
    "    num_timesteps_input=20,\n",
    "    num_timesteps_output=7,  # You can adjust based on experiments\n",
    "    scaler=scaler\n",
    ")\n",
    "\n",
    "ds_len = len(dataset)\n",
    "logging.info(f\"Dataset length: {ds_len}\")\n",
    "\n",
    "if ds_len <= 0:\n",
    "    logging.error(\"Dataset length is insufficient. Exiting.\")\n",
    "    raise ValueError(\"Insufficient data.\")\n",
    "\n",
    "# Define train/val/test splits\n",
    "train_size = int(0.7 * ds_len)\n",
    "val_size = int(0.15 * ds_len)\n",
    "test_size = ds_len - train_size - val_size\n",
    "\n",
    "train_idx = list(range(0, train_size))\n",
    "val_idx = list(range(train_size, train_size + val_size))\n",
    "test_idx = list(range(train_size + val_size, ds_len))\n",
    "\n",
    "train_subset = Subset(dataset, train_idx)\n",
    "val_subset = Subset(dataset, val_idx)\n",
    "test_subset = Subset(dataset, test_idx)\n",
    "\n",
    "logging.info(f\"Train size: {len(train_subset)}, Val size: {len(val_subset)}, Test size: {len(test_subset)}\")\n",
    "\n",
    "# Initialize DataLoaders\n",
    "BATCH_SIZE = 32\n",
    "train_loader = DataLoader(train_subset, batch_size=BATCH_SIZE, shuffle=True, drop_last=False)\n",
    "val_loader = DataLoader(val_subset, batch_size=BATCH_SIZE, shuffle=False, drop_last=False)\n",
    "test_loader = DataLoader(test_subset, batch_size=BATCH_SIZE, shuffle=False, drop_last=False)\n"
   ]
  },
  {
   "cell_type": "code",
   "execution_count": 6,
   "metadata": {},
   "outputs": [
    {
     "name": "stderr",
     "output_type": "stream",
     "text": [
      "[2025-01-26 15:01:23] INFO: Computing static adjacency matrix based on geographic distances...\n",
      "[2025-01-26 15:01:23] INFO: Static Adjacency Matrix:\n",
      "[2025-01-26 15:01:23] INFO: [[1. 1. 1. 0. 1. 1. 0.]\n",
      " [1. 1. 1. 0. 0. 1. 1.]\n",
      " [1. 1. 1. 1. 1. 1. 1.]\n",
      " [0. 0. 1. 1. 1. 0. 0.]\n",
      " [1. 0. 1. 1. 1. 1. 0.]\n",
      " [1. 1. 1. 0. 1. 1. 1.]\n",
      " [0. 1. 1. 0. 0. 1. 1.]]\n",
      "[2025-01-26 15:01:23] INFO: Saving static adjacency graph figure...\n",
      "[2025-01-26 15:01:23] INFO: Saved adjacency figure -> c:\\Users\\ajaoo\\Desktop\\Projects\\GNN_spatiotemporal_project\\figures\\static_adjacency\\geographic_adjacency_graph_static.png\n"
     ]
    }
   ],
   "source": [
    "# Model Initialization\n",
    "\n",
    "# Compute static adjacency matrix\n",
    "logging.info(\"Computing static adjacency matrix based on geographic distances...\")\n",
    "regions = dataset.regions.tolist()\n",
    "latitudes = [df_processed[df_processed[\"areaName\"] == r][\"latitude\"].iloc[0] for r in regions]\n",
    "longitudes = [df_processed[df_processed[\"areaName\"] == r][\"longitude\"].iloc[0] for r in regions]\n",
    "adj_static = compute_geographic_adjacency(regions, latitudes, longitudes, threshold=300).to(device)\n",
    "\n",
    "logging.info(\"Static Adjacency Matrix:\")\n",
    "logging.info(adj_static.cpu().numpy())\n",
    "\n",
    "# Visualize static adjacency graph\n",
    "logging.info(\"Saving static adjacency graph figure...\")\n",
    "fig_dir = os.path.join(project_root, \"figures\", \"static_adjacency\")\n",
    "os.makedirs(fig_dir, exist_ok=True)\n",
    "\n",
    "A_np = adj_static.cpu().numpy()\n",
    "G = nx.from_numpy_array(A_np)\n",
    "mapping = {i: r for i, r in enumerate(regions)}\n",
    "G = nx.relabel_nodes(G, mapping)\n",
    "pos = {r: (longitudes[i], latitudes[i]) for i, r in enumerate(regions)}\n",
    "\n",
    "plt.figure(figsize=(10, 8))\n",
    "nx.draw_networkx(\n",
    "    G,\n",
    "    pos,\n",
    "    with_labels=True,\n",
    "    node_size=700,\n",
    "    node_color=\"lightblue\",\n",
    "    edge_color=\"gray\",\n",
    "    font_size=10\n",
    ")\n",
    "plt.title(\"Static Adjacency (Geographic)\", fontsize=12)\n",
    "plt.axis(\"off\")\n",
    "out_figpath = os.path.join(fig_dir, \"geographic_adjacency_graph_static.png\")\n",
    "plt.savefig(out_figpath, dpi=300, bbox_inches=\"tight\")\n",
    "plt.close()\n",
    "logging.info(f\"Saved adjacency figure -> {out_figpath}\")\n",
    "\n",
    "# Define experiment parameters\n",
    "horizons = [3, 7, 14]\n",
    "adjacency_types = [\"static\", \"dynamic\", \"hybrid\"]\n",
    "experiment_id = 1\n",
    "summary_metrics = []\n"
   ]
  },
  {
   "cell_type": "code",
   "execution_count": 7,
   "metadata": {},
   "outputs": [],
   "source": [
    "# Training and Evaluation Functions\n",
    "\n",
    "def train_epoch(model, optimizer, criterion, train_loader, adjacency_type, adj_static):\n",
    "    model.train()\n",
    "    epoch_loss = 0.0\n",
    "    for batch_X, batch_Y in train_loader:\n",
    "        batch_X, batch_Y = batch_X.to(device), batch_Y.to(device)\n",
    "        optimizer.zero_grad()\n",
    "\n",
    "        bs_cur = batch_X.size(0)\n",
    "\n",
    "        # Prepare adjacency matrix\n",
    "        if adjacency_type == \"static\":\n",
    "            adj_input = adj_static.unsqueeze(0).repeat(bs_cur, 1, 1).to(device)\n",
    "        elif adjacency_type == \"dynamic\":\n",
    "            adj_input = torch.eye(dataset.num_nodes, device=device).unsqueeze(0).repeat(bs_cur, 1, 1)\n",
    "        elif adjacency_type == \"hybrid\":\n",
    "            adj_input = adj_static.unsqueeze(0).repeat(bs_cur, 1, 1).to(device)\n",
    "        else:\n",
    "            raise ValueError(\"Invalid adjacency_type. Choose from 'static', 'dynamic', 'hybrid'.\")\n",
    "\n",
    "        # Forward pass\n",
    "        pred = model(batch_X, adj_input, adjacency_type=adjacency_type)\n",
    "        loss = criterion(pred, batch_Y)\n",
    "        loss.backward()\n",
    "        nn.utils.clip_grad_norm_(model.parameters(), max_norm=1.0)\n",
    "        optimizer.step()\n",
    "\n",
    "        epoch_loss += loss.item()\n",
    "    avg_loss = epoch_loss / len(train_loader) if len(train_loader) > 0 else 0.0\n",
    "    return avg_loss\n",
    "\n",
    "\n",
    "def validate_epoch(model, criterion, val_loader, adjacency_type, adj_static):\n",
    "    model.eval()\n",
    "    epoch_loss = 0.0\n",
    "    all_val_preds = []\n",
    "    all_val_actuals = []\n",
    "    with torch.no_grad():\n",
    "        for batch_Xv, batch_Yv in val_loader:\n",
    "            batch_Xv, batch_Yv = batch_Xv.to(device), batch_Yv.to(device)\n",
    "            bs_cur = batch_Xv.size(0)\n",
    "\n",
    "            # Prepare adjacency matrix\n",
    "            if adjacency_type == \"static\":\n",
    "                adj_input = adj_static.unsqueeze(0).repeat(bs_cur, 1, 1).to(device)\n",
    "            elif adjacency_type == \"dynamic\":\n",
    "                adj_input = torch.eye(dataset.num_nodes, device=device).unsqueeze(0).repeat(bs_cur, 1, 1)\n",
    "            elif adjacency_type == \"hybrid\":\n",
    "                adj_input = adj_static.unsqueeze(0).repeat(bs_cur, 1, 1).to(device)\n",
    "            else:\n",
    "                raise ValueError(\"Invalid adjacency_type. Choose from 'static', 'dynamic', 'hybrid'.\")\n",
    "\n",
    "            # Forward pass\n",
    "            pred = model(batch_Xv, adj_input, adjacency_type=adjacency_type)\n",
    "            loss = criterion(pred, batch_Yv)\n",
    "            epoch_loss += loss.item()\n",
    "\n",
    "            all_val_preds.append(pred.cpu().numpy())\n",
    "            all_val_actuals.append(batch_Yv.cpu().numpy())\n",
    "\n",
    "    avg_loss = epoch_loss / len(val_loader) if len(val_loader) > 0 else 0.0\n",
    "\n",
    "    # Compute R² scores\n",
    "    if all_val_preds and all_val_actuals:\n",
    "        val_preds_arr = np.concatenate(all_val_preds, axis=0)  # (N, horizon, m)\n",
    "        val_acts_arr = np.concatenate(all_val_actuals, axis=0)  # (N, horizon, m)\n",
    "        preds_2d = val_preds_arr.reshape(-1, dataset.num_nodes)\n",
    "        acts_2d = val_acts_arr.reshape(-1, dataset.num_nodes)\n",
    "\n",
    "        r2_vals = []\n",
    "        for nd in range(dataset.num_nodes):\n",
    "            if np.isnan(preds_2d[:, nd]).any() or np.isnan(acts_2d[:, nd]).any():\n",
    "                r2_vals.append(float(\"nan\"))\n",
    "            else:\n",
    "                r2_vals.append(r2_score(acts_2d[:, nd], preds_2d[:, nd]))\n",
    "    else:\n",
    "        r2_vals = [float(\"nan\")] * dataset.num_nodes\n",
    "\n",
    "    return avg_loss, r2_vals\n",
    "\n",
    "\n",
    "def test_model(model, criterion, test_loader, adjacency_type, adj_static, scaler):\n",
    "    model.eval()\n",
    "    test_loss = 0.0\n",
    "    test_preds = []\n",
    "    test_acts = []\n",
    "    with torch.no_grad():\n",
    "        for batch_Xt, batch_Yt in test_loader:\n",
    "            batch_Xt, batch_Yt = batch_Xt.to(device), batch_Yt.to(device)\n",
    "            bs_cur = batch_Xt.size(0)\n",
    "\n",
    "            # Prepare adjacency matrix\n",
    "            if adjacency_type == \"static\":\n",
    "                adj_input = adj_static.unsqueeze(0).repeat(bs_cur, 1, 1).to(device)\n",
    "            elif adjacency_type == \"dynamic\":\n",
    "                adj_input = torch.eye(dataset.num_nodes, device=device).unsqueeze(0).repeat(bs_cur, 1, 1)\n",
    "            elif adjacency_type == \"hybrid\":\n",
    "                adj_input = adj_static.unsqueeze(0).repeat(bs_cur, 1, 1).to(device)\n",
    "            else:\n",
    "                raise ValueError(\"Invalid adjacency_type. Choose from 'static', 'dynamic', 'hybrid'.\")\n",
    "\n",
    "            # Forward pass\n",
    "            predt = model(batch_Xt, adj_input, adjacency_type=adjacency_type)\n",
    "            tloss = criterion(predt, batch_Yt)\n",
    "            test_loss += tloss.item()\n",
    "\n",
    "            test_preds.append(predt.cpu().numpy())\n",
    "            test_acts.append(batch_Yt.cpu().numpy())\n",
    "\n",
    "    avg_test_loss = test_loss / len(test_loader) if len(test_loader) > 0 else float(\"nan\")\n",
    "\n",
    "    # Combine Predictions\n",
    "    if test_preds and test_acts:\n",
    "        preds_arr = np.concatenate(test_preds, axis=0)  # (N, horizon, m)\n",
    "        acts_arr = np.concatenate(test_acts, axis=0)    # (N, horizon, m)\n",
    "    else:\n",
    "        preds_arr = np.array([])\n",
    "        acts_arr = np.array([])\n",
    "\n",
    "    # Inverse Transform\n",
    "    if preds_arr.size > 0 and scaler is not None:\n",
    "        sc_covid = scaler.scale_[4]\n",
    "        mn_covid = scaler.mean_[4]\n",
    "        preds_arr = preds_arr * sc_covid + mn_covid\n",
    "        acts_arr = acts_arr * sc_covid + mn_covid\n",
    "\n",
    "    # Compute Final Metrics\n",
    "    if preds_arr.size > 0:\n",
    "        preds_2d = preds_arr.reshape(-1, dataset.num_nodes)\n",
    "        acts_2d = acts_arr.reshape(-1, dataset.num_nodes)\n",
    "\n",
    "        mae_per_node = mean_absolute_error(acts_2d, preds_2d, multioutput=\"raw_values\")\n",
    "        mse_per_node = mean_squared_error(acts_2d, preds_2d, multioutput=\"raw_values\")\n",
    "        rmse_per_node = np.sqrt(mse_per_node)\n",
    "        r2_per_node = r2_score(acts_2d, preds_2d, multioutput=\"raw_values\")\n",
    "\n",
    "        pcc_per_node = []\n",
    "        for i in range(dataset.num_nodes):\n",
    "            if np.std(acts_2d[:, i]) < 1e-6 or np.std(preds_2d[:, i]) < 1e-6:\n",
    "                pcc_per_node.append(0.0)\n",
    "            else:\n",
    "                pcc_val, _ = pearsonr(acts_2d[:, i], preds_2d[:, i])\n",
    "                if np.isnan(pcc_val):\n",
    "                    pcc_val = 0.0\n",
    "                pcc_per_node.append(pcc_val)\n",
    "    else:\n",
    "        mae_per_node = [float(\"nan\")] * dataset.num_nodes\n",
    "        rmse_per_node = [float(\"nan\")] * dataset.num_nodes\n",
    "        r2_per_node = [float(\"nan\")] * dataset.num_nodes\n",
    "        pcc_per_node = [float(\"nan\")] * dataset.num_nodes\n",
    "\n",
    "    return avg_test_loss, mae_per_node, rmse_per_node, r2_per_node, pcc_per_node\n"
   ]
  },
  {
   "cell_type": "code",
   "execution_count": 8,
   "metadata": {},
   "outputs": [
    {
     "name": "stderr",
     "output_type": "stream",
     "text": [
      "[2025-01-26 15:01:23] INFO: \n",
      "=== Starting experiments for horizon=3 ===\n",
      "[2025-01-26 15:01:23] INFO: \n",
      "--- Experiment 1: Adjacency Type = static, Horizon = 3 ---\n",
      "[2025-01-26 15:01:35] INFO: Epoch 1/1000 - Adjacency: static - Train Loss: 0.7002 | Val Loss: 3.4704 | R² per node: [-0.6758123636245728, -2422.012939453125, -264.85302734375, -33.81964874267578, -1.4946305751800537, -97.09881591796875, -1716.926025390625]\n",
      "[2025-01-26 15:01:36] INFO: [BEST] Saved model -> c:\\Users\\ajaoo\\Desktop\\Projects\\GNN_spatiotemporal_project\\models\\experiment1_static_h3\\best_model.pth\n",
      "[2025-01-26 15:01:36] INFO: Epoch 2/1000 - Adjacency: static - Train Loss: 0.1838 | Val Loss: 2.7069 | R² per node: [-0.3048616647720337, -3154.885009765625, -147.53614807128906, -22.85842514038086, -0.06080830097198486, -108.9895248413086, -1463.3603515625]\n",
      "[2025-01-26 15:01:36] INFO: [BEST] Saved model -> c:\\Users\\ajaoo\\Desktop\\Projects\\GNN_spatiotemporal_project\\models\\experiment1_static_h3\\best_model.pth\n",
      "[2025-01-26 15:01:36] INFO: Epoch 3/1000 - Adjacency: static - Train Loss: 0.0996 | Val Loss: 2.4869 | R² per node: [-0.2129596471786499, -2352.933349609375, -83.71243286132812, -4.773375988006592, -0.03817272186279297, -42.807838439941406, -569.5582275390625]\n",
      "[2025-01-26 15:01:36] INFO: [BEST] Saved model -> c:\\Users\\ajaoo\\Desktop\\Projects\\GNN_spatiotemporal_project\\models\\experiment1_static_h3\\best_model.pth\n",
      "[2025-01-26 15:01:37] INFO: Epoch 4/1000 - Adjacency: static - Train Loss: 0.0752 | Val Loss: 2.4215 | R² per node: [-0.18058156967163086, -2450.048583984375, -92.37247467041016, -6.615769863128662, 0.3560795783996582, -45.94230651855469, -593.2380981445312]\n",
      "[2025-01-26 15:01:37] INFO: [BEST] Saved model -> c:\\Users\\ajaoo\\Desktop\\Projects\\GNN_spatiotemporal_project\\models\\experiment1_static_h3\\best_model.pth\n",
      "[2025-01-26 15:01:37] INFO: Epoch 5/1000 - Adjacency: static - Train Loss: 0.0634 | Val Loss: 2.3686 | R² per node: [-0.15504670143127441, -1075.058837890625, -138.4374542236328, -14.016669273376465, 0.5391984581947327, -55.222259521484375, -796.88330078125]\n",
      "[2025-01-26 15:01:37] INFO: [BEST] Saved model -> c:\\Users\\ajaoo\\Desktop\\Projects\\GNN_spatiotemporal_project\\models\\experiment1_static_h3\\best_model.pth\n",
      "[2025-01-26 15:01:37] INFO: Epoch 6/1000 - Adjacency: static - Train Loss: 0.0612 | Val Loss: 2.3260 | R² per node: [-0.13736248016357422, -2307.57177734375, -75.47684478759766, -9.08405876159668, 0.47836852073669434, -34.130191802978516, -483.57257080078125]\n",
      "[2025-01-26 15:01:37] INFO: [BEST] Saved model -> c:\\Users\\ajaoo\\Desktop\\Projects\\GNN_spatiotemporal_project\\models\\experiment1_static_h3\\best_model.pth\n",
      "[2025-01-26 15:01:38] INFO: Epoch 7/1000 - Adjacency: static - Train Loss: 0.0517 | Val Loss: 2.2437 | R² per node: [-0.101540207862854, -562.999755859375, -69.10456085205078, -8.541275978088379, 0.6212440729141235, -23.318824768066406, -400.6551513671875]\n",
      "[2025-01-26 15:01:38] INFO: [BEST] Saved model -> c:\\Users\\ajaoo\\Desktop\\Projects\\GNN_spatiotemporal_project\\models\\experiment1_static_h3\\best_model.pth\n",
      "[2025-01-26 15:01:38] INFO: Epoch 8/1000 - Adjacency: static - Train Loss: 0.0476 | Val Loss: 2.2162 | R² per node: [-0.08054196834564209, -1486.477294921875, -131.78945922851562, -17.77800941467285, 0.7135909795761108, -60.19295120239258, -788.9036865234375]\n",
      "[2025-01-26 15:01:38] INFO: [BEST] Saved model -> c:\\Users\\ajaoo\\Desktop\\Projects\\GNN_spatiotemporal_project\\models\\experiment1_static_h3\\best_model.pth\n",
      "[2025-01-26 15:01:39] INFO: Epoch 9/1000 - Adjacency: static - Train Loss: 0.0473 | Val Loss: 2.1670 | R² per node: [-0.05861949920654297, -1209.91162109375, -101.98162841796875, -13.05009651184082, 0.714015007019043, -45.51276397705078, -621.1971435546875]\n",
      "[2025-01-26 15:01:39] INFO: [BEST] Saved model -> c:\\Users\\ajaoo\\Desktop\\Projects\\GNN_spatiotemporal_project\\models\\experiment1_static_h3\\best_model.pth\n",
      "[2025-01-26 15:01:39] INFO: Epoch 10/1000 - Adjacency: static - Train Loss: 0.0433 | Val Loss: 2.1602 | R² per node: [-0.06184959411621094, -857.7879638671875, -54.541831970214844, -7.4397430419921875, 0.7335579991340637, -16.497241973876953, -339.63031005859375]\n",
      "[2025-01-26 15:01:39] INFO: [BEST] Saved model -> c:\\Users\\ajaoo\\Desktop\\Projects\\GNN_spatiotemporal_project\\models\\experiment1_static_h3\\best_model.pth\n",
      "[2025-01-26 15:01:39] INFO: Epoch 11/1000 - Adjacency: static - Train Loss: 0.0440 | Val Loss: 2.1461 | R² per node: [-0.052657365798950195, -853.560791015625, -81.41047668457031, -11.916836738586426, 0.798603892326355, -29.310405731201172, -502.9293212890625]\n",
      "[2025-01-26 15:01:39] INFO: [BEST] Saved model -> c:\\Users\\ajaoo\\Desktop\\Projects\\GNN_spatiotemporal_project\\models\\experiment1_static_h3\\best_model.pth\n",
      "[2025-01-26 15:01:40] INFO: Epoch 12/1000 - Adjacency: static - Train Loss: 0.0401 | Val Loss: 2.0891 | R² per node: [-0.018718957901000977, -1151.1900634765625, -121.48552703857422, -21.890043258666992, 0.7867199182510376, -53.681461334228516, -798.322509765625]\n",
      "[2025-01-26 15:01:40] INFO: [BEST] Saved model -> c:\\Users\\ajaoo\\Desktop\\Projects\\GNN_spatiotemporal_project\\models\\experiment1_static_h3\\best_model.pth\n",
      "[2025-01-26 15:01:40] INFO: Epoch 13/1000 - Adjacency: static - Train Loss: 0.0401 | Val Loss: 2.0525 | R² per node: [-0.004695296287536621, -894.8746337890625, -90.18045806884766, -13.873401641845703, 0.7947075963020325, -31.130306243896484, -536.0254516601562]\n",
      "[2025-01-26 15:01:40] INFO: [BEST] Saved model -> c:\\Users\\ajaoo\\Desktop\\Projects\\GNN_spatiotemporal_project\\models\\experiment1_static_h3\\best_model.pth\n",
      "[2025-01-26 15:01:41] INFO: Epoch 14/1000 - Adjacency: static - Train Loss: 0.0362 | Val Loss: 2.0288 | R² per node: [0.002243936061859131, -641.0746459960938, -46.865745544433594, -6.991596698760986, 0.8115202188491821, -16.152673721313477, -285.5489501953125]\n",
      "[2025-01-26 15:01:41] INFO: [BEST] Saved model -> c:\\Users\\ajaoo\\Desktop\\Projects\\GNN_spatiotemporal_project\\models\\experiment1_static_h3\\best_model.pth\n",
      "[2025-01-26 15:01:41] INFO: Epoch 15/1000 - Adjacency: static - Train Loss: 0.0311 | Val Loss: 2.0423 | R² per node: [-0.005567073822021484, -555.0524291992188, -41.8356819152832, -6.186981201171875, 0.7880785465240479, -14.493571281433105, -255.79708862304688]\n",
      "[2025-01-26 15:01:41] INFO: Epoch 16/1000 - Adjacency: static - Train Loss: 0.0309 | Val Loss: 1.9883 | R² per node: [0.022005081176757812, -655.435546875, -46.27006912231445, -7.178536415100098, 0.8326979875564575, -13.493958473205566, -270.80633544921875]\n",
      "[2025-01-26 15:01:41] INFO: [BEST] Saved model -> c:\\Users\\ajaoo\\Desktop\\Projects\\GNN_spatiotemporal_project\\models\\experiment1_static_h3\\best_model.pth\n",
      "[2025-01-26 15:01:42] INFO: Epoch 17/1000 - Adjacency: static - Train Loss: 0.0319 | Val Loss: 1.9639 | R² per node: [0.035528361797332764, -1133.8345947265625, -44.93896484375, -8.376709938049316, 0.7634825706481934, -18.010988235473633, -331.6690979003906]\n",
      "[2025-01-26 15:01:42] INFO: [BEST] Saved model -> c:\\Users\\ajaoo\\Desktop\\Projects\\GNN_spatiotemporal_project\\models\\experiment1_static_h3\\best_model.pth\n",
      "[2025-01-26 15:01:42] INFO: Epoch 18/1000 - Adjacency: static - Train Loss: 0.0290 | Val Loss: 1.9557 | R² per node: [0.03554677963256836, -654.4113159179688, -19.795188903808594, -3.3773279190063477, 0.8384606242179871, -3.0963850021362305, -129.81045532226562]\n",
      "[2025-01-26 15:01:42] INFO: [BEST] Saved model -> c:\\Users\\ajaoo\\Desktop\\Projects\\GNN_spatiotemporal_project\\models\\experiment1_static_h3\\best_model.pth\n",
      "[2025-01-26 15:01:43] INFO: Epoch 19/1000 - Adjacency: static - Train Loss: 0.0323 | Val Loss: 1.9487 | R² per node: [0.03857988119125366, -768.601318359375, -9.405060768127441, -1.2388031482696533, 0.7523776292800903, -1.673356294631958, -83.25855255126953]\n",
      "[2025-01-26 15:01:43] INFO: [BEST] Saved model -> c:\\Users\\ajaoo\\Desktop\\Projects\\GNN_spatiotemporal_project\\models\\experiment1_static_h3\\best_model.pth\n",
      "[2025-01-26 15:01:43] INFO: Epoch 20/1000 - Adjacency: static - Train Loss: 0.0289 | Val Loss: 1.9382 | R² per node: [0.04374384880065918, -425.21636962890625, -14.980090141296387, -2.4681313037872314, 0.7713108062744141, -4.0898237228393555, -106.3954849243164]\n",
      "[2025-01-26 15:01:43] INFO: [BEST] Saved model -> c:\\Users\\ajaoo\\Desktop\\Projects\\GNN_spatiotemporal_project\\models\\experiment1_static_h3\\best_model.pth\n",
      "[2025-01-26 15:01:43] INFO: Epoch 21/1000 - Adjacency: static - Train Loss: 0.0294 | Val Loss: 1.9781 | R² per node: [0.02461397647857666, -532.0928955078125, -21.475252151489258, -3.569888114929199, 0.7452714443206787, -5.737462043762207, -139.68357849121094]\n",
      "[2025-01-26 15:01:44] INFO: Epoch 22/1000 - Adjacency: static - Train Loss: 0.0277 | Val Loss: 1.8996 | R² per node: [0.06793659925460815, -806.2119750976562, -47.851112365722656, -10.711932182312012, 0.8010868430137634, -17.805700302124023, -335.2850036621094]\n",
      "[2025-01-26 15:01:44] INFO: [BEST] Saved model -> c:\\Users\\ajaoo\\Desktop\\Projects\\GNN_spatiotemporal_project\\models\\experiment1_static_h3\\best_model.pth\n",
      "[2025-01-26 15:01:44] INFO: Epoch 23/1000 - Adjacency: static - Train Loss: 0.0258 | Val Loss: 1.8970 | R² per node: [0.06437194347381592, -612.298095703125, -14.538627624511719, -2.1270666122436523, 0.8392072916030884, -3.453014373779297, -114.054931640625]\n",
      "[2025-01-26 15:01:44] INFO: [BEST] Saved model -> c:\\Users\\ajaoo\\Desktop\\Projects\\GNN_spatiotemporal_project\\models\\experiment1_static_h3\\best_model.pth\n",
      "[2025-01-26 15:01:45] INFO: Epoch 24/1000 - Adjacency: static - Train Loss: 0.0238 | Val Loss: 1.8990 | R² per node: [0.06615161895751953, -743.0401611328125, -38.74700927734375, -6.894679069519043, 0.8316302299499512, -12.226115226745605, -275.0904846191406]\n",
      "[2025-01-26 15:01:45] INFO: Epoch 25/1000 - Adjacency: static - Train Loss: 0.0230 | Val Loss: 1.8800 | R² per node: [0.07737451791763306, -538.3121337890625, -56.98841857910156, -12.302145957946777, 0.8024942874908447, -13.738985061645508, -367.1929931640625]\n",
      "[2025-01-26 15:01:45] INFO: [BEST] Saved model -> c:\\Users\\ajaoo\\Desktop\\Projects\\GNN_spatiotemporal_project\\models\\experiment1_static_h3\\best_model.pth\n",
      "[2025-01-26 15:01:45] INFO: Epoch 26/1000 - Adjacency: static - Train Loss: 0.0230 | Val Loss: 1.8568 | R² per node: [0.08544468879699707, -943.6022338867188, -16.417150497436523, -4.043930530548096, 0.8305721879005432, -5.396862506866455, -128.41590881347656]\n",
      "[2025-01-26 15:01:45] INFO: [BEST] Saved model -> c:\\Users\\ajaoo\\Desktop\\Projects\\GNN_spatiotemporal_project\\models\\experiment1_static_h3\\best_model.pth\n",
      "[2025-01-26 15:01:46] INFO: Epoch 27/1000 - Adjacency: static - Train Loss: 0.0231 | Val Loss: 1.8911 | R² per node: [0.06594759225845337, -512.2799072265625, -4.426368713378906, -0.5216144323348999, 0.8156483769416809, -1.2552709579467773, -42.00913619995117]\n",
      "[2025-01-26 15:01:46] INFO: Epoch 28/1000 - Adjacency: static - Train Loss: 0.0224 | Val Loss: 1.9163 | R² per node: [0.05588442087173462, -612.6409912109375, -25.2626953125, -5.198567867279053, 0.8536349534988403, -6.634631156921387, -182.36415100097656]\n",
      "[2025-01-26 15:01:47] INFO: Epoch 29/1000 - Adjacency: static - Train Loss: 0.0222 | Val Loss: 1.8371 | R² per node: [0.0957520604133606, -770.8379516601562, -14.317647933959961, -4.044802188873291, 0.8316906690597534, -5.114327430725098, -120.67509460449219]\n",
      "[2025-01-26 15:01:47] INFO: [BEST] Saved model -> c:\\Users\\ajaoo\\Desktop\\Projects\\GNN_spatiotemporal_project\\models\\experiment1_static_h3\\best_model.pth\n",
      "[2025-01-26 15:01:47] INFO: Epoch 30/1000 - Adjacency: static - Train Loss: 0.0217 | Val Loss: 1.9464 | R² per node: [0.03841257095336914, -417.75164794921875, -6.163812637329102, -1.0230212211608887, 0.8579583764076233, -0.9370883703231812, -52.15974807739258]\n",
      "[2025-01-26 15:01:47] INFO: Epoch 31/1000 - Adjacency: static - Train Loss: 0.0211 | Val Loss: 1.8382 | R² per node: [0.09490823745727539, -813.8486328125, -17.227027893066406, -4.4295477867126465, 0.8488506078720093, -4.956670761108398, -117.91259002685547]\n",
      "[2025-01-26 15:01:48] INFO: Epoch 32/1000 - Adjacency: static - Train Loss: 0.0197 | Val Loss: 1.9113 | R² per node: [0.057124555110931396, -545.551025390625, -15.237831115722656, -2.9261422157287598, 0.8477407097816467, -3.6808996200561523, -111.82930755615234]\n",
      "[2025-01-26 15:01:48] INFO: Epoch 33/1000 - Adjacency: static - Train Loss: 0.0199 | Val Loss: 1.8562 | R² per node: [0.08548915386199951, -680.7813110351562, -20.628368377685547, -5.241847515106201, 0.857025146484375, -4.974271297454834, -141.115234375]\n"
     ]
    },
    {
     "name": "stdout",
     "output_type": "stream",
     "text": [
      "Epoch 00033: reducing learning rate of group 0 to 5.0000e-04.\n"
     ]
    },
    {
     "name": "stderr",
     "output_type": "stream",
     "text": [
      "[2025-01-26 15:01:48] INFO: Epoch 34/1000 - Adjacency: static - Train Loss: 0.0196 | Val Loss: 1.8650 | R² per node: [0.07945507764816284, -598.989501953125, -4.623220920562744, -1.0561623573303223, 0.847765326499939, -1.658681869506836, -40.28131103515625]\n",
      "[2025-01-26 15:01:49] INFO: Epoch 35/1000 - Adjacency: static - Train Loss: 0.0190 | Val Loss: 1.8406 | R² per node: [0.09533941745758057, -857.849853515625, -34.44659423828125, -9.46485710144043, 0.8380333185195923, -9.79060173034668, -240.20692443847656]\n",
      "[2025-01-26 15:01:49] INFO: Epoch 36/1000 - Adjacency: static - Train Loss: 0.0192 | Val Loss: 1.8759 | R² per node: [0.07493025064468384, -620.5691528320312, -15.221723556518555, -3.8012566566467285, 0.8449312448501587, -4.00363826751709, -115.55049896240234]\n",
      "[2025-01-26 15:01:50] INFO: Epoch 37/1000 - Adjacency: static - Train Loss: 0.0171 | Val Loss: 1.8324 | R² per node: [0.09783333539962769, -738.1430053710938, -21.54330825805664, -5.422885894775391, 0.8465930223464966, -3.6505751609802246, -148.40164184570312]\n",
      "[2025-01-26 15:01:50] INFO: [BEST] Saved model -> c:\\Users\\ajaoo\\Desktop\\Projects\\GNN_spatiotemporal_project\\models\\experiment1_static_h3\\best_model.pth\n",
      "[2025-01-26 15:01:50] INFO: Epoch 38/1000 - Adjacency: static - Train Loss: 0.0178 | Val Loss: 1.8121 | R² per node: [0.10683101415634155, -613.8001708984375, -11.557232856750488, -3.1703004837036133, 0.8404813408851624, -1.6360490322113037, -86.1762924194336]\n",
      "[2025-01-26 15:01:50] INFO: [BEST] Saved model -> c:\\Users\\ajaoo\\Desktop\\Projects\\GNN_spatiotemporal_project\\models\\experiment1_static_h3\\best_model.pth\n",
      "[2025-01-26 15:01:50] INFO: Epoch 39/1000 - Adjacency: static - Train Loss: 0.0180 | Val Loss: 1.8477 | R² per node: [0.08805203437805176, -567.1826782226562, -6.2739996910095215, -1.3868227005004883, 0.8432539701461792, -1.028874397277832, -44.52567672729492]\n",
      "[2025-01-26 15:01:51] INFO: Epoch 40/1000 - Adjacency: static - Train Loss: 0.0166 | Val Loss: 1.7939 | R² per node: [0.11813461780548096, -1017.9935302734375, -25.82689666748047, -6.897035121917725, 0.838341236114502, -5.8445587158203125, -177.6395721435547]\n",
      "[2025-01-26 15:01:51] INFO: [BEST] Saved model -> c:\\Users\\ajaoo\\Desktop\\Projects\\GNN_spatiotemporal_project\\models\\experiment1_static_h3\\best_model.pth\n",
      "[2025-01-26 15:01:51] INFO: Epoch 41/1000 - Adjacency: static - Train Loss: 0.0181 | Val Loss: 1.8914 | R² per node: [0.06609809398651123, -598.693603515625, -4.202835559844971, -0.887673020362854, 0.8330806493759155, -1.715731143951416, -31.273380279541016]\n",
      "[2025-01-26 15:01:52] INFO: Epoch 42/1000 - Adjacency: static - Train Loss: 0.0177 | Val Loss: 1.7974 | R² per node: [0.1146664023399353, -726.2445678710938, -20.52911376953125, -5.237828254699707, 0.8567610383033752, -3.2093873023986816, -133.80960083007812]\n",
      "[2025-01-26 15:01:52] INFO: Epoch 43/1000 - Adjacency: static - Train Loss: 0.0177 | Val Loss: 1.7677 | R² per node: [0.1283268928527832, -626.5842895507812, -4.725654125213623, -1.1234145164489746, 0.8495192527770996, -1.2621281147003174, -35.61137008666992]\n",
      "[2025-01-26 15:01:52] INFO: [BEST] Saved model -> c:\\Users\\ajaoo\\Desktop\\Projects\\GNN_spatiotemporal_project\\models\\experiment1_static_h3\\best_model.pth\n",
      "[2025-01-26 15:01:52] INFO: Epoch 44/1000 - Adjacency: static - Train Loss: 0.0181 | Val Loss: 1.8401 | R² per node: [0.09166878461837769, -648.918701171875, -2.956744909286499, -0.9059185981750488, 0.8534651398658752, -1.8414406776428223, -16.603424072265625]\n",
      "[2025-01-26 15:01:53] INFO: Epoch 45/1000 - Adjacency: static - Train Loss: 0.0186 | Val Loss: 1.8387 | R² per node: [0.09218090772628784, -634.9788208007812, -2.135899782180786, -0.3915424346923828, 0.8315589427947998, -1.8188207149505615, -17.999902725219727]\n",
      "[2025-01-26 15:01:53] INFO: Epoch 46/1000 - Adjacency: static - Train Loss: 0.0170 | Val Loss: 1.8082 | R² per node: [0.10853010416030884, -563.47705078125, -13.26770305633545, -3.6183266639709473, 0.8544292449951172, -1.9971365928649902, -90.52933502197266]\n",
      "[2025-01-26 15:01:54] INFO: Epoch 47/1000 - Adjacency: static - Train Loss: 0.0201 | Val Loss: 1.8195 | R² per node: [0.10228574275970459, -574.9349365234375, -6.010061740875244, -1.4758691787719727, 0.8446465134620667, -1.2165532112121582, -49.72966003417969]\n"
     ]
    },
    {
     "name": "stdout",
     "output_type": "stream",
     "text": [
      "Epoch 00047: reducing learning rate of group 0 to 2.5000e-04.\n"
     ]
    },
    {
     "name": "stderr",
     "output_type": "stream",
     "text": [
      "[2025-01-26 15:01:54] INFO: Epoch 48/1000 - Adjacency: static - Train Loss: 0.0166 | Val Loss: 1.8259 | R² per node: [0.09879624843597412, -650.3216552734375, -7.105660438537598, -1.786970615386963, 0.8483396768569946, -1.047170877456665, -57.056129455566406]\n",
      "[2025-01-26 15:01:54] INFO: Epoch 49/1000 - Adjacency: static - Train Loss: 0.0168 | Val Loss: 1.8703 | R² per node: [0.07646548748016357, -655.1217041015625, -4.397331714630127, -1.1419947147369385, 0.8577903509140015, -0.7724193334579468, -35.109310150146484]\n",
      "[2025-01-26 15:01:55] INFO: Epoch 50/1000 - Adjacency: static - Train Loss: 0.0178 | Val Loss: 1.8784 | R² per node: [0.07380503416061401, -799.1649169921875, -15.00277328491211, -4.031994342803955, 0.862812876701355, -2.945380449295044, -105.57488250732422]\n",
      "[2025-01-26 15:01:55] INFO: Epoch 51/1000 - Adjacency: static - Train Loss: 0.0161 | Val Loss: 1.8511 | R² per node: [0.08731752634048462, -759.8582153320312, -11.000727653503418, -3.3083252906799316, 0.8541123867034912, -2.1116364002227783, -79.63642120361328]\n"
     ]
    },
    {
     "name": "stdout",
     "output_type": "stream",
     "text": [
      "Epoch 00051: reducing learning rate of group 0 to 1.2500e-04.\n"
     ]
    },
    {
     "name": "stderr",
     "output_type": "stream",
     "text": [
      "[2025-01-26 15:01:55] INFO: Epoch 52/1000 - Adjacency: static - Train Loss: 0.0150 | Val Loss: 1.8444 | R² per node: [0.0908275842666626, -752.95068359375, -13.17844295501709, -3.775146961212158, 0.8593252301216125, -2.4321296215057373, -93.96116638183594]\n",
      "[2025-01-26 15:01:56] INFO: Epoch 53/1000 - Adjacency: static - Train Loss: 0.0157 | Val Loss: 1.8541 | R² per node: [0.08479660749435425, -669.0442504882812, -6.434499263763428, -1.8384535312652588, 0.8594186305999756, -1.0829801559448242, -47.48635482788086]\n",
      "[2025-01-26 15:01:56] INFO: Epoch 54/1000 - Adjacency: static - Train Loss: 0.0144 | Val Loss: 1.8500 | R² per node: [0.08765506744384766, -672.9019775390625, -12.166211128234863, -3.4149885177612305, 0.8590182065963745, -2.1205432415008545, -87.01374053955078]\n",
      "[2025-01-26 15:01:57] INFO: Epoch 55/1000 - Adjacency: static - Train Loss: 0.0140 | Val Loss: 1.8579 | R² per node: [0.08298677206039429, -670.98046875, -6.314663887023926, -1.8475077152252197, 0.8480342626571655, -1.1721916198730469, -46.7633056640625]\n"
     ]
    },
    {
     "name": "stdout",
     "output_type": "stream",
     "text": [
      "Epoch 00055: reducing learning rate of group 0 to 6.2500e-05.\n"
     ]
    },
    {
     "name": "stderr",
     "output_type": "stream",
     "text": [
      "[2025-01-26 15:01:57] INFO: Epoch 56/1000 - Adjacency: static - Train Loss: 0.0154 | Val Loss: 1.8432 | R² per node: [0.0906442403793335, -686.8658447265625, -8.021355628967285, -2.3507606983184814, 0.8635145425796509, -1.3815817832946777, -57.43490219116211]\n",
      "[2025-01-26 15:01:57] INFO: Epoch 57/1000 - Adjacency: static - Train Loss: 0.0144 | Val Loss: 1.8455 | R² per node: [0.08948034048080444, -693.606201171875, -9.059499740600586, -2.5568127632141113, 0.8603899478912354, -1.590097427368164, -65.85909271240234]\n",
      "[2025-01-26 15:01:58] INFO: Epoch 58/1000 - Adjacency: static - Train Loss: 0.0149 | Val Loss: 1.8495 | R² per node: [0.08718836307525635, -656.4996337890625, -6.872868061065674, -1.973041296005249, 0.8614600896835327, -1.0903754234313965, -49.5672607421875]\n",
      "[2025-01-26 15:01:58] INFO: Epoch 59/1000 - Adjacency: static - Train Loss: 0.0152 | Val Loss: 1.8443 | R² per node: [0.09041881561279297, -701.4802856445312, -10.844385147094727, -3.05259370803833, 0.8589726686477661, -1.9558022022247314, -77.80188751220703]\n"
     ]
    },
    {
     "name": "stdout",
     "output_type": "stream",
     "text": [
      "Epoch 00059: reducing learning rate of group 0 to 3.1250e-05.\n"
     ]
    },
    {
     "name": "stderr",
     "output_type": "stream",
     "text": [
      "[2025-01-26 15:01:59] INFO: Epoch 60/1000 - Adjacency: static - Train Loss: 0.0142 | Val Loss: 1.8458 | R² per node: [0.08912241458892822, -649.3533935546875, -7.9581403732299805, -2.1654679775238037, 0.8577922582626343, -1.17769455909729, -58.04430389404297]\n",
      "[2025-01-26 15:01:59] INFO: Epoch 61/1000 - Adjacency: static - Train Loss: 0.0142 | Val Loss: 1.8458 | R² per node: [0.08916455507278442, -685.8700561523438, -8.102417945861816, -2.163257122039795, 0.8553940057754517, -1.2140567302703857, -58.63471984863281]\n",
      "[2025-01-26 15:01:59] INFO: Epoch 62/1000 - Adjacency: static - Train Loss: 0.0140 | Val Loss: 1.8415 | R² per node: [0.09149587154388428, -698.0812377929688, -8.355809211730957, -2.3021647930145264, 0.8576272130012512, -1.3630428314208984, -59.297611236572266]\n",
      "[2025-01-26 15:02:00] INFO: Epoch 63/1000 - Adjacency: static - Train Loss: 0.0138 | Val Loss: 1.8437 | R² per node: [0.09017455577850342, -682.4951171875, -7.59367561340332, -2.0855090618133545, 0.8578025102615356, -1.3770513534545898, -56.10697937011719]\n",
      "[2025-01-26 15:02:00] INFO: Early stopping triggered.\n"
     ]
    },
    {
     "name": "stdout",
     "output_type": "stream",
     "text": [
      "Epoch 00063: reducing learning rate of group 0 to 1.5625e-05.\n"
     ]
    },
    {
     "name": "stderr",
     "output_type": "stream",
     "text": [
      "[2025-01-26 15:02:00] INFO: Saved loss curves -> c:\\Users\\ajaoo\\Desktop\\Projects\\GNN_spatiotemporal_project\\figures\\experiment1_static_h3\\training_validation_loss\\train_val_loss_experiment1_static_h3.png\n",
      "[2025-01-26 15:02:00] INFO: Experiment 1, Adjacency=static, Horizon=3 => Test MSE: 0.0110\n",
      "[2025-01-26 15:02:00] INFO: Final model saved -> c:\\Users\\ajaoo\\Desktop\\Projects\\GNN_spatiotemporal_project\\models\\experiment1_static_h3\\epignn_final_model.pth\n",
      "[2025-01-26 15:02:00] INFO: \n",
      "--- Experiment 2: Adjacency Type = dynamic, Horizon = 3 ---\n",
      "[2025-01-26 15:02:01] INFO: Epoch 1/1000 - Adjacency: dynamic - Train Loss: 0.5844 | Val Loss: 3.4950 | R² per node: [-0.6618196964263916, -4811.26025390625, -291.15826416015625, -102.74565124511719, -1.2535855770111084, -215.58311462402344, -3202.857666015625]\n",
      "[2025-01-26 15:02:01] INFO: [BEST] Saved model -> c:\\Users\\ajaoo\\Desktop\\Projects\\GNN_spatiotemporal_project\\models\\experiment2_dynamic_h3\\best_model.pth\n",
      "[2025-01-26 15:02:01] INFO: Epoch 2/1000 - Adjacency: dynamic - Train Loss: 0.2198 | Val Loss: 2.8752 | R² per node: [-0.39211976528167725, -3738.76220703125, -68.7200698852539, -35.31544876098633, 0.0794670581817627, -115.63301086425781, -910.0753173828125]\n",
      "[2025-01-26 15:02:01] INFO: [BEST] Saved model -> c:\\Users\\ajaoo\\Desktop\\Projects\\GNN_spatiotemporal_project\\models\\experiment2_dynamic_h3\\best_model.pth\n",
      "[2025-01-26 15:02:02] INFO: Epoch 3/1000 - Adjacency: dynamic - Train Loss: 0.1091 | Val Loss: 2.4420 | R² per node: [-0.1893296241760254, -1546.48046875, -30.451887130737305, -15.029153823852539, 0.3586992025375366, -24.686986923217773, -394.96051025390625]\n",
      "[2025-01-26 15:02:02] INFO: [BEST] Saved model -> c:\\Users\\ajaoo\\Desktop\\Projects\\GNN_spatiotemporal_project\\models\\experiment2_dynamic_h3\\best_model.pth\n",
      "[2025-01-26 15:02:02] INFO: Epoch 4/1000 - Adjacency: dynamic - Train Loss: 0.0683 | Val Loss: 2.2327 | R² per node: [-0.09675705432891846, -690.9312744140625, -15.208826065063477, -7.739873886108398, 0.472295343875885, -15.576066970825195, -213.97958374023438]\n",
      "[2025-01-26 15:02:02] INFO: [BEST] Saved model -> c:\\Users\\ajaoo\\Desktop\\Projects\\GNN_spatiotemporal_project\\models\\experiment2_dynamic_h3\\best_model.pth\n",
      "[2025-01-26 15:02:02] INFO: Epoch 5/1000 - Adjacency: dynamic - Train Loss: 0.0570 | Val Loss: 2.1604 | R² per node: [-0.06534719467163086, -465.0583190917969, -7.419732093811035, -2.5757133960723877, 0.6450640559196472, -8.28692626953125, -117.31365203857422]\n",
      "[2025-01-26 15:02:02] INFO: [BEST] Saved model -> c:\\Users\\ajaoo\\Desktop\\Projects\\GNN_spatiotemporal_project\\models\\experiment2_dynamic_h3\\best_model.pth\n",
      "[2025-01-26 15:02:03] INFO: Epoch 6/1000 - Adjacency: dynamic - Train Loss: 0.0491 | Val Loss: 2.1468 | R² per node: [-0.059203386306762695, -396.41357421875, -4.080142498016357, -1.9015603065490723, 0.7453906536102295, -12.591560363769531, -71.67284393310547]\n",
      "[2025-01-26 15:02:03] INFO: [BEST] Saved model -> c:\\Users\\ajaoo\\Desktop\\Projects\\GNN_spatiotemporal_project\\models\\experiment2_dynamic_h3\\best_model.pth\n",
      "[2025-01-26 15:02:03] INFO: Epoch 7/1000 - Adjacency: dynamic - Train Loss: 0.0418 | Val Loss: 2.0907 | R² per node: [-0.031339049339294434, -477.1053466796875, -6.009037971496582, -2.979459762573242, 0.7966982126235962, -14.979225158691406, -101.53616333007812]\n",
      "[2025-01-26 15:02:03] INFO: [BEST] Saved model -> c:\\Users\\ajaoo\\Desktop\\Projects\\GNN_spatiotemporal_project\\models\\experiment2_dynamic_h3\\best_model.pth\n",
      "[2025-01-26 15:02:04] INFO: Epoch 8/1000 - Adjacency: dynamic - Train Loss: 0.0428 | Val Loss: 2.0446 | R² per node: [-0.0009751319885253906, -1830.6705322265625, -8.33598518371582, -5.285653591156006, 0.5540947318077087, -46.6348762512207, -145.61781311035156]\n",
      "[2025-01-26 15:02:04] INFO: [BEST] Saved model -> c:\\Users\\ajaoo\\Desktop\\Projects\\GNN_spatiotemporal_project\\models\\experiment2_dynamic_h3\\best_model.pth\n",
      "[2025-01-26 15:02:04] INFO: Epoch 9/1000 - Adjacency: dynamic - Train Loss: 0.0405 | Val Loss: 2.0327 | R² per node: [-0.002340078353881836, -826.0287475585938, -4.135024547576904, -1.5384571552276611, 0.8191267848014832, -18.183156967163086, -39.25136184692383]\n",
      "[2025-01-26 15:02:04] INFO: [BEST] Saved model -> c:\\Users\\ajaoo\\Desktop\\Projects\\GNN_spatiotemporal_project\\models\\experiment2_dynamic_h3\\best_model.pth\n",
      "[2025-01-26 15:02:05] INFO: Epoch 10/1000 - Adjacency: dynamic - Train Loss: 0.0378 | Val Loss: 2.0304 | R² per node: [-0.002408742904663086, -513.0162963867188, -4.31787109375, -2.268389940261841, 0.8495870232582092, -17.152236938476562, -62.54697799682617]\n",
      "[2025-01-26 15:02:05] INFO: [BEST] Saved model -> c:\\Users\\ajaoo\\Desktop\\Projects\\GNN_spatiotemporal_project\\models\\experiment2_dynamic_h3\\best_model.pth\n",
      "[2025-01-26 15:02:05] INFO: Epoch 11/1000 - Adjacency: dynamic - Train Loss: 0.0372 | Val Loss: 1.9919 | R² per node: [0.02178657054901123, -807.8604125976562, -15.712726593017578, -8.961773872375488, 0.683534562587738, -42.30474090576172, -203.6630859375]\n",
      "[2025-01-26 15:02:05] INFO: [BEST] Saved model -> c:\\Users\\ajaoo\\Desktop\\Projects\\GNN_spatiotemporal_project\\models\\experiment2_dynamic_h3\\best_model.pth\n",
      "[2025-01-26 15:02:05] INFO: Epoch 12/1000 - Adjacency: dynamic - Train Loss: 0.0380 | Val Loss: 2.0443 | R² per node: [-0.009655952453613281, -397.3986511230469, -3.065258026123047, -1.7813425064086914, 0.8646347522735596, -18.015262603759766, -57.799354553222656]\n",
      "[2025-01-26 15:02:06] INFO: Epoch 13/1000 - Adjacency: dynamic - Train Loss: 0.0340 | Val Loss: 1.9615 | R² per node: [0.03186684846878052, -553.4175415039062, -2.928701162338257, -1.5594110488891602, 0.8472416996955872, -20.227737426757812, -42.01047134399414]\n",
      "[2025-01-26 15:02:06] INFO: [BEST] Saved model -> c:\\Users\\ajaoo\\Desktop\\Projects\\GNN_spatiotemporal_project\\models\\experiment2_dynamic_h3\\best_model.pth\n",
      "[2025-01-26 15:02:06] INFO: Epoch 14/1000 - Adjacency: dynamic - Train Loss: 0.0310 | Val Loss: 1.9417 | R² per node: [0.04236400127410889, -821.6987915039062, -2.350313186645508, -1.403047800064087, 0.8631654977798462, -23.83260726928711, -38.51753234863281]\n",
      "[2025-01-26 15:02:06] INFO: [BEST] Saved model -> c:\\Users\\ajaoo\\Desktop\\Projects\\GNN_spatiotemporal_project\\models\\experiment2_dynamic_h3\\best_model.pth\n",
      "[2025-01-26 15:02:07] INFO: Epoch 15/1000 - Adjacency: dynamic - Train Loss: 0.0295 | Val Loss: 1.9075 | R² per node: [0.061138927936553955, -746.231689453125, -10.402961730957031, -6.025562286376953, 0.772750198841095, -32.01666259765625, -136.36631774902344]\n",
      "[2025-01-26 15:02:07] INFO: [BEST] Saved model -> c:\\Users\\ajaoo\\Desktop\\Projects\\GNN_spatiotemporal_project\\models\\experiment2_dynamic_h3\\best_model.pth\n",
      "[2025-01-26 15:02:07] INFO: Epoch 16/1000 - Adjacency: dynamic - Train Loss: 0.0296 | Val Loss: 1.8991 | R² per node: [0.06593221426010132, -1036.204833984375, -10.705863952636719, -6.041574478149414, 0.8162262439727783, -37.85987854003906, -138.13491821289062]\n",
      "[2025-01-26 15:02:07] INFO: [BEST] Saved model -> c:\\Users\\ajaoo\\Desktop\\Projects\\GNN_spatiotemporal_project\\models\\experiment2_dynamic_h3\\best_model.pth\n",
      "[2025-01-26 15:02:07] INFO: Epoch 17/1000 - Adjacency: dynamic - Train Loss: 0.0263 | Val Loss: 1.8699 | R² per node: [0.07890397310256958, -1063.696044921875, -3.197988986968994, -2.182825803756714, 0.8448783159255981, -25.19808578491211, -56.96575927734375]\n",
      "[2025-01-26 15:02:07] INFO: [BEST] Saved model -> c:\\Users\\ajaoo\\Desktop\\Projects\\GNN_spatiotemporal_project\\models\\experiment2_dynamic_h3\\best_model.pth\n",
      "[2025-01-26 15:02:08] INFO: Epoch 18/1000 - Adjacency: dynamic - Train Loss: 0.0271 | Val Loss: 1.8384 | R² per node: [0.09403097629547119, -902.313720703125, -5.764027118682861, -3.179875373840332, 0.843340277671814, -23.847009658813477, -83.39733123779297]\n",
      "[2025-01-26 15:02:08] INFO: [BEST] Saved model -> c:\\Users\\ajaoo\\Desktop\\Projects\\GNN_spatiotemporal_project\\models\\experiment2_dynamic_h3\\best_model.pth\n",
      "[2025-01-26 15:02:08] INFO: Epoch 19/1000 - Adjacency: dynamic - Train Loss: 0.0265 | Val Loss: 1.8485 | R² per node: [0.0899726152420044, -1473.7457275390625, -3.1905837059020996, -1.6938412189483643, 0.8343702554702759, -20.031757354736328, -41.97328186035156]\n",
      "[2025-01-26 15:02:09] INFO: Epoch 20/1000 - Adjacency: dynamic - Train Loss: 0.0246 | Val Loss: 1.7984 | R² per node: [0.11593776941299438, -1406.7503662109375, -3.8112502098083496, -2.252772808074951, 0.6882907152175903, -22.405961990356445, -50.386207580566406]\n",
      "[2025-01-26 15:02:09] INFO: [BEST] Saved model -> c:\\Users\\ajaoo\\Desktop\\Projects\\GNN_spatiotemporal_project\\models\\experiment2_dynamic_h3\\best_model.pth\n",
      "[2025-01-26 15:02:09] INFO: Epoch 21/1000 - Adjacency: dynamic - Train Loss: 0.0246 | Val Loss: 1.7698 | R² per node: [0.1305442452430725, -1848.9205322265625, -2.9101545810699463, -1.1192042827606201, 0.706365704536438, -19.872299194335938, -35.172054290771484]\n",
      "[2025-01-26 15:02:09] INFO: [BEST] Saved model -> c:\\Users\\ajaoo\\Desktop\\Projects\\GNN_spatiotemporal_project\\models\\experiment2_dynamic_h3\\best_model.pth\n",
      "[2025-01-26 15:02:09] INFO: Epoch 22/1000 - Adjacency: dynamic - Train Loss: 0.0273 | Val Loss: 1.7898 | R² per node: [0.12410628795623779, -3350.124267578125, -5.974171161651611, -3.8290786743164062, 0.7405015826225281, -32.63591384887695, -75.90342712402344]\n",
      "[2025-01-26 15:02:10] INFO: Epoch 23/1000 - Adjacency: dynamic - Train Loss: 0.0239 | Val Loss: 1.7779 | R² per node: [0.1282210350036621, -3274.712890625, -2.1367454528808594, -0.4657214879989624, 0.7372796535491943, -13.197644233703613, -19.467662811279297]\n",
      "[2025-01-26 15:02:10] INFO: Epoch 24/1000 - Adjacency: dynamic - Train Loss: 0.0229 | Val Loss: 1.7834 | R² per node: [0.12130081653594971, -1549.4920654296875, -3.215412139892578, -1.4074392318725586, 0.8936895132064819, -13.247452735900879, -40.73482131958008]\n",
      "[2025-01-26 15:02:11] INFO: Epoch 25/1000 - Adjacency: dynamic - Train Loss: 0.0224 | Val Loss: 1.7450 | R² per node: [0.14261245727539062, -2145.859130859375, -4.401893138885498, -2.3196592330932617, 0.8360757827758789, -21.364425659179688, -52.774925231933594]\n",
      "[2025-01-26 15:02:11] INFO: [BEST] Saved model -> c:\\Users\\ajaoo\\Desktop\\Projects\\GNN_spatiotemporal_project\\models\\experiment2_dynamic_h3\\best_model.pth\n",
      "[2025-01-26 15:02:11] INFO: Epoch 26/1000 - Adjacency: dynamic - Train Loss: 0.0218 | Val Loss: 1.7283 | R² per node: [0.155586838722229, -3333.483642578125, -12.651135444641113, -6.473524570465088, 0.8108081817626953, -38.627132415771484, -133.233642578125]\n",
      "[2025-01-26 15:02:11] INFO: [BEST] Saved model -> c:\\Users\\ajaoo\\Desktop\\Projects\\GNN_spatiotemporal_project\\models\\experiment2_dynamic_h3\\best_model.pth\n",
      "[2025-01-26 15:02:11] INFO: Epoch 27/1000 - Adjacency: dynamic - Train Loss: 0.0228 | Val Loss: 1.7565 | R² per node: [0.13603097200393677, -2235.623046875, -8.300407409667969, -2.2420523166656494, 0.8646758794784546, -7.14802360534668, -54.80857849121094]\n",
      "[2025-01-26 15:02:12] INFO: Epoch 28/1000 - Adjacency: dynamic - Train Loss: 0.0201 | Val Loss: 1.6971 | R² per node: [0.16678589582443237, -2135.1572265625, -6.415057182312012, -3.3281588554382324, 0.7994383573532104, -23.23879623413086, -69.12053680419922]\n",
      "[2025-01-26 15:02:12] INFO: [BEST] Saved model -> c:\\Users\\ajaoo\\Desktop\\Projects\\GNN_spatiotemporal_project\\models\\experiment2_dynamic_h3\\best_model.pth\n",
      "[2025-01-26 15:02:12] INFO: Epoch 29/1000 - Adjacency: dynamic - Train Loss: 0.0209 | Val Loss: 1.6991 | R² per node: [0.16560512781143188, -2766.197509765625, -2.161121368408203, -0.7961714267730713, 0.8743271231651306, -16.2347354888916, -24.41690444946289]\n",
      "[2025-01-26 15:02:13] INFO: Epoch 30/1000 - Adjacency: dynamic - Train Loss: 0.0217 | Val Loss: 1.7020 | R² per node: [0.16484969854354858, -2592.768798828125, -29.571321487426758, -7.359620094299316, 0.9203544855117798, -3.489924907684326, -190.23435974121094]\n",
      "[2025-01-26 15:02:13] INFO: Epoch 31/1000 - Adjacency: dynamic - Train Loss: 0.0221 | Val Loss: 1.6839 | R² per node: [0.17379379272460938, -2692.769775390625, -8.63880729675293, -3.589634895324707, 0.8610368371009827, -20.907203674316406, -85.3968276977539]\n",
      "[2025-01-26 15:02:13] INFO: [BEST] Saved model -> c:\\Users\\ajaoo\\Desktop\\Projects\\GNN_spatiotemporal_project\\models\\experiment2_dynamic_h3\\best_model.pth\n",
      "[2025-01-26 15:02:13] INFO: Epoch 32/1000 - Adjacency: dynamic - Train Loss: 0.0186 | Val Loss: 1.6840 | R² per node: [0.16897565126419067, -1252.1005859375, -2.8976528644561768, -0.4533296823501587, 0.9173253178596497, -4.112236499786377, -21.557313919067383]\n",
      "[2025-01-26 15:02:14] INFO: Epoch 33/1000 - Adjacency: dynamic - Train Loss: 0.0211 | Val Loss: 1.6672 | R² per node: [0.18432140350341797, -4053.661376953125, -2.3389832973480225, -0.8914380073547363, 0.8351901173591614, -15.124521255493164, -25.168697357177734]\n",
      "[2025-01-26 15:02:14] INFO: [BEST] Saved model -> c:\\Users\\ajaoo\\Desktop\\Projects\\GNN_spatiotemporal_project\\models\\experiment2_dynamic_h3\\best_model.pth\n",
      "[2025-01-26 15:02:14] INFO: Epoch 34/1000 - Adjacency: dynamic - Train Loss: 0.0180 | Val Loss: 1.6791 | R² per node: [0.17727547883987427, -4235.16943359375, -3.8616600036621094, -0.6477081775665283, 0.9250165224075317, -5.057685375213623, -27.286304473876953]\n",
      "[2025-01-26 15:02:15] INFO: Epoch 35/1000 - Adjacency: dynamic - Train Loss: 0.0185 | Val Loss: 1.6231 | R² per node: [0.2047215700149536, -3636.912109375, -1.569108247756958, -0.010662317276000977, 0.8335965871810913, -9.230476379394531, -13.559684753417969]\n",
      "[2025-01-26 15:02:15] INFO: [BEST] Saved model -> c:\\Users\\ajaoo\\Desktop\\Projects\\GNN_spatiotemporal_project\\models\\experiment2_dynamic_h3\\best_model.pth\n",
      "[2025-01-26 15:02:15] INFO: Epoch 36/1000 - Adjacency: dynamic - Train Loss: 0.0184 | Val Loss: 1.6700 | R² per node: [0.17941927909851074, -2974.30810546875, -2.305307626724243, -0.31330251693725586, 0.9225723147392273, -7.873908042907715, -19.164037704467773]\n",
      "[2025-01-26 15:02:15] INFO: Epoch 37/1000 - Adjacency: dynamic - Train Loss: 0.0173 | Val Loss: 1.6426 | R² per node: [0.19053101539611816, -1756.8890380859375, -5.676339149475098, -1.187272548675537, 0.9305102825164795, -2.60632061958313, -36.93294143676758]\n",
      "[2025-01-26 15:02:16] INFO: Epoch 38/1000 - Adjacency: dynamic - Train Loss: 0.0197 | Val Loss: 1.6077 | R² per node: [0.211750328540802, -3419.098388671875, -3.040475368499756, -0.8675768375396729, 0.887438178062439, -12.522723197937012, -32.34138488769531]\n",
      "[2025-01-26 15:02:16] INFO: [BEST] Saved model -> c:\\Users\\ajaoo\\Desktop\\Projects\\GNN_spatiotemporal_project\\models\\experiment2_dynamic_h3\\best_model.pth\n",
      "[2025-01-26 15:02:16] INFO: Epoch 39/1000 - Adjacency: dynamic - Train Loss: 0.0167 | Val Loss: 1.6334 | R² per node: [0.19572752714157104, -2101.330078125, -3.2275242805480957, -0.49284613132476807, 0.9168093204498291, -4.760173320770264, -22.390535354614258]\n",
      "[2025-01-26 15:02:17] INFO: Epoch 40/1000 - Adjacency: dynamic - Train Loss: 0.0166 | Val Loss: 1.5810 | R² per node: [0.22812128067016602, -3743.5517578125, -6.739974021911621, -3.1928110122680664, 0.764996349811554, -24.54025650024414, -71.49996948242188]\n",
      "[2025-01-26 15:02:17] INFO: [BEST] Saved model -> c:\\Users\\ajaoo\\Desktop\\Projects\\GNN_spatiotemporal_project\\models\\experiment2_dynamic_h3\\best_model.pth\n",
      "[2025-01-26 15:02:17] INFO: Epoch 41/1000 - Adjacency: dynamic - Train Loss: 0.0169 | Val Loss: 1.6567 | R² per node: [0.18280619382858276, -1187.53662109375, -7.153319358825684, -1.9881951808929443, 0.8973923921585083, -3.7855987548828125, -50.26631546020508]\n",
      "[2025-01-26 15:02:17] INFO: Epoch 42/1000 - Adjacency: dynamic - Train Loss: 0.0184 | Val Loss: 1.5958 | R² per node: [0.21563255786895752, -2445.8671875, -2.3041913509368896, -0.48642241954803467, 0.9251386523246765, -10.910375595092773, -26.406360626220703]\n",
      "[2025-01-26 15:02:18] INFO: Epoch 43/1000 - Adjacency: dynamic - Train Loss: 0.0158 | Val Loss: 1.6004 | R² per node: [0.2115594744682312, -1502.6575927734375, -12.355215072631836, -3.357071876525879, 0.9218600392341614, -2.3030145168304443, -82.64179992675781]\n",
      "[2025-01-26 15:02:18] INFO: Epoch 44/1000 - Adjacency: dynamic - Train Loss: 0.0172 | Val Loss: 1.6000 | R² per node: [0.2131991982460022, -2219.180419921875, -5.608832836151123, -1.741919755935669, 0.938014030456543, -12.565156936645508, -49.3165168762207]\n"
     ]
    },
    {
     "name": "stdout",
     "output_type": "stream",
     "text": [
      "Epoch 00044: reducing learning rate of group 0 to 5.0000e-04.\n"
     ]
    },
    {
     "name": "stderr",
     "output_type": "stream",
     "text": [
      "[2025-01-26 15:02:18] INFO: Epoch 45/1000 - Adjacency: dynamic - Train Loss: 0.0165 | Val Loss: 1.5833 | R² per node: [0.21980786323547363, -1523.8079833984375, -3.792483329772949, -0.7804250717163086, 0.9214785695075989, -8.320159912109375, -34.801082611083984]\n",
      "[2025-01-26 15:02:19] INFO: Epoch 46/1000 - Adjacency: dynamic - Train Loss: 0.0139 | Val Loss: 1.5957 | R² per node: [0.2161213755607605, -2849.802734375, -4.098160743713379, -0.7300493717193604, 0.9376623630523682, -10.105297088623047, -33.272987365722656]\n",
      "[2025-01-26 15:02:19] INFO: Epoch 47/1000 - Adjacency: dynamic - Train Loss: 0.0148 | Val Loss: 1.5809 | R² per node: [0.22048068046569824, -1517.73779296875, -2.3427340984344482, -0.20679223537445068, 0.925126314163208, -5.681038856506348, -18.049083709716797]\n",
      "[2025-01-26 15:02:19] INFO: [BEST] Saved model -> c:\\Users\\ajaoo\\Desktop\\Projects\\GNN_spatiotemporal_project\\models\\experiment2_dynamic_h3\\best_model.pth\n",
      "[2025-01-26 15:02:20] INFO: Epoch 48/1000 - Adjacency: dynamic - Train Loss: 0.0128 | Val Loss: 1.5718 | R² per node: [0.22645562887191772, -2110.6904296875, -2.1068224906921387, -0.22860074043273926, 0.9185147881507874, -8.998573303222656, -18.9718017578125]\n",
      "[2025-01-26 15:02:20] INFO: [BEST] Saved model -> c:\\Users\\ajaoo\\Desktop\\Projects\\GNN_spatiotemporal_project\\models\\experiment2_dynamic_h3\\best_model.pth\n",
      "[2025-01-26 15:02:20] INFO: Epoch 49/1000 - Adjacency: dynamic - Train Loss: 0.0138 | Val Loss: 1.5674 | R² per node: [0.22728115320205688, -1593.1065673828125, -1.8273708820343018, -0.08718979358673096, 0.9274646043777466, -4.638156414031982, -14.656185150146484]\n",
      "[2025-01-26 15:02:20] INFO: [BEST] Saved model -> c:\\Users\\ajaoo\\Desktop\\Projects\\GNN_spatiotemporal_project\\models\\experiment2_dynamic_h3\\best_model.pth\n",
      "[2025-01-26 15:02:20] INFO: Epoch 50/1000 - Adjacency: dynamic - Train Loss: 0.0136 | Val Loss: 1.5698 | R² per node: [0.22636103630065918, -1696.9293212890625, -2.456038236618042, -0.29275262355804443, 0.9293408393859863, -4.188875675201416, -19.020057678222656]\n",
      "[2025-01-26 15:02:21] INFO: Epoch 51/1000 - Adjacency: dynamic - Train Loss: 0.0135 | Val Loss: 1.5481 | R² per node: [0.23844796419143677, -2206.434326171875, -2.47269344329834, -0.29956650733947754, 0.9034290313720703, -8.097261428833008, -21.291519165039062]\n",
      "[2025-01-26 15:02:21] INFO: [BEST] Saved model -> c:\\Users\\ajaoo\\Desktop\\Projects\\GNN_spatiotemporal_project\\models\\experiment2_dynamic_h3\\best_model.pth\n",
      "[2025-01-26 15:02:21] INFO: Epoch 52/1000 - Adjacency: dynamic - Train Loss: 0.0139 | Val Loss: 1.5380 | R² per node: [0.24465352296829224, -2632.009765625, -1.7773213386535645, -0.21406161785125732, 0.8932546377182007, -9.942402839660645, -17.8133544921875]\n",
      "[2025-01-26 15:02:21] INFO: [BEST] Saved model -> c:\\Users\\ajaoo\\Desktop\\Projects\\GNN_spatiotemporal_project\\models\\experiment2_dynamic_h3\\best_model.pth\n",
      "[2025-01-26 15:02:21] INFO: Epoch 53/1000 - Adjacency: dynamic - Train Loss: 0.0134 | Val Loss: 1.5417 | R² per node: [0.24207597970962524, -2430.807861328125, -2.332148790359497, -0.2634679079055786, 0.9186707735061646, -8.494680404663086, -20.530241012573242]\n",
      "[2025-01-26 15:02:22] INFO: Epoch 54/1000 - Adjacency: dynamic - Train Loss: 0.0137 | Val Loss: 1.5811 | R² per node: [0.22141718864440918, -1966.4407958984375, -3.6162800788879395, -0.3823763132095337, 0.9205078482627869, -5.727355003356934, -28.746143341064453]\n",
      "[2025-01-26 15:02:22] INFO: Epoch 55/1000 - Adjacency: dynamic - Train Loss: 0.0132 | Val Loss: 1.5491 | R² per node: [0.23698633909225464, -1785.194580078125, -3.969846725463867, -0.6023790836334229, 0.9293836951255798, -7.247929573059082, -31.829551696777344]\n",
      "[2025-01-26 15:02:22] INFO: Epoch 56/1000 - Adjacency: dynamic - Train Loss: 0.0126 | Val Loss: 1.5421 | R² per node: [0.24141520261764526, -2201.87109375, -3.3820247650146484, -0.4452495574951172, 0.9258223176002502, -8.139208793640137, -30.527568817138672]\n"
     ]
    },
    {
     "name": "stdout",
     "output_type": "stream",
     "text": [
      "Epoch 00056: reducing learning rate of group 0 to 2.5000e-04.\n"
     ]
    },
    {
     "name": "stderr",
     "output_type": "stream",
     "text": [
      "[2025-01-26 15:02:23] INFO: Epoch 57/1000 - Adjacency: dynamic - Train Loss: 0.0123 | Val Loss: 1.5348 | R² per node: [0.24372363090515137, -1647.7899169921875, -2.957087993621826, -0.3162708282470703, 0.9273614287376404, -6.5716681480407715, -25.542659759521484]\n",
      "[2025-01-26 15:02:23] INFO: [BEST] Saved model -> c:\\Users\\ajaoo\\Desktop\\Projects\\GNN_spatiotemporal_project\\models\\experiment2_dynamic_h3\\best_model.pth\n",
      "[2025-01-26 15:02:23] INFO: Epoch 58/1000 - Adjacency: dynamic - Train Loss: 0.0122 | Val Loss: 1.5387 | R² per node: [0.24274128675460815, -1970.9625244140625, -4.446347236633301, -0.8039261102676392, 0.923088550567627, -8.83724308013916, -37.644866943359375]\n",
      "[2025-01-26 15:02:23] INFO: Epoch 59/1000 - Adjacency: dynamic - Train Loss: 0.0123 | Val Loss: 1.5339 | R² per node: [0.24472486972808838, -1898.39794921875, -2.7438549995422363, -0.3158087730407715, 0.9249876737594604, -6.904685020446777, -22.43109893798828]\n",
      "[2025-01-26 15:02:24] INFO: [BEST] Saved model -> c:\\Users\\ajaoo\\Desktop\\Projects\\GNN_spatiotemporal_project\\models\\experiment2_dynamic_h3\\best_model.pth\n",
      "[2025-01-26 15:02:24] INFO: Epoch 60/1000 - Adjacency: dynamic - Train Loss: 0.0121 | Val Loss: 1.5403 | R² per node: [0.24075663089752197, -1532.896240234375, -3.2606348991394043, -0.36583662033081055, 0.9192565679550171, -6.163893222808838, -25.68023681640625]\n",
      "[2025-01-26 15:02:24] INFO: Epoch 61/1000 - Adjacency: dynamic - Train Loss: 0.0127 | Val Loss: 1.5529 | R² per node: [0.23481744527816772, -1733.6431884765625, -3.057872772216797, -0.25733494758605957, 0.9257624745368958, -5.964165210723877, -24.041479110717773]\n",
      "[2025-01-26 15:02:25] INFO: Epoch 62/1000 - Adjacency: dynamic - Train Loss: 0.0123 | Val Loss: 1.5427 | R² per node: [0.24010896682739258, -1771.119140625, -3.326291084289551, -0.35732245445251465, 0.9245017170906067, -6.562196254730225, -26.863128662109375]\n",
      "[2025-01-26 15:02:25] INFO: Epoch 63/1000 - Adjacency: dynamic - Train Loss: 0.0119 | Val Loss: 1.5276 | R² per node: [0.24814343452453613, -1836.2894287109375, -3.9625840187072754, -0.7348842620849609, 0.9048117995262146, -9.400907516479492, -34.22636413574219]\n",
      "[2025-01-26 15:02:25] INFO: [BEST] Saved model -> c:\\Users\\ajaoo\\Desktop\\Projects\\GNN_spatiotemporal_project\\models\\experiment2_dynamic_h3\\best_model.pth\n",
      "[2025-01-26 15:02:25] INFO: Epoch 64/1000 - Adjacency: dynamic - Train Loss: 0.0132 | Val Loss: 1.5464 | R² per node: [0.23791873455047607, -1671.494384765625, -3.445467472076416, -0.3501551151275635, 0.9182075262069702, -4.6750969886779785, -26.584280014038086]\n",
      "[2025-01-26 15:02:26] INFO: Epoch 65/1000 - Adjacency: dynamic - Train Loss: 0.0118 | Val Loss: 1.5347 | R² per node: [0.24370843172073364, -1548.97509765625, -3.833667755126953, -0.48453307151794434, 0.9141795039176941, -6.7556304931640625, -32.02095413208008]\n",
      "[2025-01-26 15:02:26] INFO: Epoch 66/1000 - Adjacency: dynamic - Train Loss: 0.0119 | Val Loss: 1.5209 | R² per node: [0.2514684796333313, -1880.89990234375, -3.533662796020508, -0.5313116312026978, 0.9051980376243591, -7.7052717208862305, -32.70558166503906]\n",
      "[2025-01-26 15:02:26] INFO: [BEST] Saved model -> c:\\Users\\ajaoo\\Desktop\\Projects\\GNN_spatiotemporal_project\\models\\experiment2_dynamic_h3\\best_model.pth\n",
      "[2025-01-26 15:02:27] INFO: Epoch 67/1000 - Adjacency: dynamic - Train Loss: 0.0131 | Val Loss: 1.5074 | R² per node: [0.25785499811172485, -1843.3616943359375, -2.6254653930664062, -0.21864104270935059, 0.8989184498786926, -6.730671405792236, -22.417980194091797]\n",
      "[2025-01-26 15:02:27] INFO: [BEST] Saved model -> c:\\Users\\ajaoo\\Desktop\\Projects\\GNN_spatiotemporal_project\\models\\experiment2_dynamic_h3\\best_model.pth\n",
      "[2025-01-26 15:02:27] INFO: Epoch 68/1000 - Adjacency: dynamic - Train Loss: 0.0126 | Val Loss: 1.5258 | R² per node: [0.24921375513076782, -1933.78369140625, -5.1043477058410645, -0.8059757947921753, 0.90953528881073, -8.068297386169434, -42.824546813964844]\n",
      "[2025-01-26 15:02:27] INFO: Epoch 69/1000 - Adjacency: dynamic - Train Loss: 0.0125 | Val Loss: 1.5332 | R² per node: [0.2439945936203003, -1390.3387451171875, -3.300142765045166, -0.3141157627105713, 0.919605016708374, -4.820286273956299, -25.351266860961914]\n",
      "[2025-01-26 15:02:28] INFO: Epoch 70/1000 - Adjacency: dynamic - Train Loss: 0.0118 | Val Loss: 1.5090 | R² per node: [0.2576979398727417, -1942.67822265625, -5.46380090713501, -0.8780213594436646, 0.8920750617980957, -8.877726554870605, -44.866050720214844]\n",
      "[2025-01-26 15:02:28] INFO: Epoch 71/1000 - Adjacency: dynamic - Train Loss: 0.0125 | Val Loss: 1.5261 | R² per node: [0.24864286184310913, -1721.1671142578125, -4.834475517272949, -0.698051929473877, 0.9009227752685547, -7.589617729187012, -36.96039962768555]\n"
     ]
    },
    {
     "name": "stdout",
     "output_type": "stream",
     "text": [
      "Epoch 00071: reducing learning rate of group 0 to 1.2500e-04.\n"
     ]
    },
    {
     "name": "stderr",
     "output_type": "stream",
     "text": [
      "[2025-01-26 15:02:28] INFO: Epoch 72/1000 - Adjacency: dynamic - Train Loss: 0.0116 | Val Loss: 1.5305 | R² per node: [0.24551796913146973, -1454.389404296875, -3.380444049835205, -0.30831992626190186, 0.9068359136581421, -5.053717613220215, -25.795207977294922]\n",
      "[2025-01-26 15:02:29] INFO: Epoch 73/1000 - Adjacency: dynamic - Train Loss: 0.0117 | Val Loss: 1.5241 | R² per node: [0.2493109107017517, -1625.8173828125, -5.078230381011963, -0.7076091766357422, 0.9012135863304138, -7.355408668518066, -38.6759147644043]\n",
      "[2025-01-26 15:02:29] INFO: Epoch 74/1000 - Adjacency: dynamic - Train Loss: 0.0116 | Val Loss: 1.5222 | R² per node: [0.2497326135635376, -1523.093505859375, -3.373122215270996, -0.30585741996765137, 0.9057257175445557, -4.9323811531066895, -26.860807418823242]\n",
      "[2025-01-26 15:02:30] INFO: Epoch 75/1000 - Adjacency: dynamic - Train Loss: 0.0123 | Val Loss: 1.5365 | R² per node: [0.24241501092910767, -1385.8953857421875, -3.7915472984313965, -0.3690786361694336, 0.9078459739685059, -5.0900444984436035, -30.193439483642578]\n"
     ]
    },
    {
     "name": "stdout",
     "output_type": "stream",
     "text": [
      "Epoch 00075: reducing learning rate of group 0 to 6.2500e-05.\n"
     ]
    },
    {
     "name": "stderr",
     "output_type": "stream",
     "text": [
      "[2025-01-26 15:02:30] INFO: Epoch 76/1000 - Adjacency: dynamic - Train Loss: 0.0118 | Val Loss: 1.5261 | R² per node: [0.24820399284362793, -1648.7030029296875, -4.061831951141357, -0.4681284427642822, 0.9103108644485474, -6.458579063415527, -33.434326171875]\n",
      "[2025-01-26 15:02:30] INFO: Epoch 77/1000 - Adjacency: dynamic - Train Loss: 0.0116 | Val Loss: 1.5272 | R² per node: [0.24730610847473145, -1485.2564697265625, -4.317409992218018, -0.4724644422531128, 0.9086358547210693, -5.931037902832031, -33.497100830078125]\n",
      "[2025-01-26 15:02:31] INFO: Epoch 78/1000 - Adjacency: dynamic - Train Loss: 0.0127 | Val Loss: 1.5270 | R² per node: [0.24727022647857666, -1433.729736328125, -3.7917752265930176, -0.40110671520233154, 0.8930632472038269, -4.889798164367676, -30.542591094970703]\n",
      "[2025-01-26 15:02:31] INFO: Epoch 79/1000 - Adjacency: dynamic - Train Loss: 0.0122 | Val Loss: 1.5217 | R² per node: [0.2503950595855713, -1586.2196044921875, -5.00132942199707, -0.6363415718078613, 0.900766909122467, -6.85897970199585, -39.89115905761719]\n"
     ]
    },
    {
     "name": "stdout",
     "output_type": "stream",
     "text": [
      "Epoch 00079: reducing learning rate of group 0 to 3.1250e-05.\n"
     ]
    },
    {
     "name": "stderr",
     "output_type": "stream",
     "text": [
      "[2025-01-26 15:02:32] INFO: Epoch 80/1000 - Adjacency: dynamic - Train Loss: 0.0111 | Val Loss: 1.5250 | R² per node: [0.2486373782157898, -1515.0350341796875, -5.271286964416504, -0.6996997594833374, 0.8993737101554871, -6.583288669586182, -40.62437057495117]\n",
      "[2025-01-26 15:02:32] INFO: Epoch 81/1000 - Adjacency: dynamic - Train Loss: 0.0107 | Val Loss: 1.5257 | R² per node: [0.2481173872947693, -1496.8065185546875, -4.412879943847656, -0.4713066816329956, 0.9018656611442566, -5.5645365715026855, -34.774627685546875]\n",
      "[2025-01-26 15:02:32] INFO: Epoch 82/1000 - Adjacency: dynamic - Train Loss: 0.0108 | Val Loss: 1.5253 | R² per node: [0.24858617782592773, -1581.8695068359375, -4.999680995941162, -0.604320764541626, 0.8994220495223999, -6.168939590454102, -38.63715362548828]\n",
      "[2025-01-26 15:02:33] INFO: Epoch 83/1000 - Adjacency: dynamic - Train Loss: 0.0114 | Val Loss: 1.5239 | R² per node: [0.24940544366836548, -1629.9925537109375, -4.970452785491943, -0.6416928768157959, 0.8973131775856018, -6.6165313720703125, -38.565879821777344]\n"
     ]
    },
    {
     "name": "stdout",
     "output_type": "stream",
     "text": [
      "Epoch 00083: reducing learning rate of group 0 to 1.5625e-05.\n"
     ]
    },
    {
     "name": "stderr",
     "output_type": "stream",
     "text": [
      "[2025-01-26 15:02:33] INFO: Epoch 84/1000 - Adjacency: dynamic - Train Loss: 0.0108 | Val Loss: 1.5250 | R² per node: [0.24880105257034302, -1608.2000732421875, -5.2863640785217285, -0.6897810697555542, 0.899382472038269, -6.660620212554932, -40.19855499267578]\n",
      "[2025-01-26 15:02:34] INFO: Epoch 85/1000 - Adjacency: dynamic - Train Loss: 0.0110 | Val Loss: 1.5248 | R² per node: [0.24870824813842773, -1554.5416259765625, -4.656738758087158, -0.5425454378128052, 0.9004249572753906, -5.93726110458374, -36.316810607910156]\n",
      "[2025-01-26 15:02:34] INFO: Epoch 86/1000 - Adjacency: dynamic - Train Loss: 0.0122 | Val Loss: 1.5229 | R² per node: [0.25039196014404297, -1762.13720703125, -5.489607334136963, -0.7836556434631348, 0.8743897080421448, -6.95609188079834, -41.04536056518555]\n",
      "[2025-01-26 15:02:34] INFO: Epoch 87/1000 - Adjacency: dynamic - Train Loss: 0.0116 | Val Loss: 1.5268 | R² per node: [0.24770110845565796, -1578.2626953125, -4.4303460121154785, -0.46939337253570557, 0.9014264345169067, -5.582214832305908, -34.62028121948242]\n",
      "[2025-01-26 15:02:34] INFO: Early stopping triggered.\n"
     ]
    },
    {
     "name": "stdout",
     "output_type": "stream",
     "text": [
      "Epoch 00087: reducing learning rate of group 0 to 7.8125e-06.\n"
     ]
    },
    {
     "name": "stderr",
     "output_type": "stream",
     "text": [
      "[2025-01-26 15:02:35] INFO: Saved loss curves -> c:\\Users\\ajaoo\\Desktop\\Projects\\GNN_spatiotemporal_project\\figures\\experiment2_dynamic_h3\\training_validation_loss\\train_val_loss_experiment2_dynamic_h3.png\n",
      "[2025-01-26 15:02:35] INFO: Experiment 2, Adjacency=dynamic, Horizon=3 => Test MSE: 0.0036\n",
      "[2025-01-26 15:02:35] INFO: Final model saved -> c:\\Users\\ajaoo\\Desktop\\Projects\\GNN_spatiotemporal_project\\models\\experiment2_dynamic_h3\\epignn_final_model.pth\n",
      "[2025-01-26 15:02:35] INFO: \n",
      "--- Experiment 3: Adjacency Type = hybrid, Horizon = 3 ---\n",
      "[2025-01-26 15:02:35] INFO: Epoch 1/1000 - Adjacency: hybrid - Train Loss: 0.5648 | Val Loss: 3.1981 | R² per node: [-0.5502712726593018, -2466.53271484375, -94.23468017578125, -39.72190475463867, -1.0893518924713135, -91.98540496826172, -1147.885986328125]\n",
      "[2025-01-26 15:02:35] INFO: [BEST] Saved model -> c:\\Users\\ajaoo\\Desktop\\Projects\\GNN_spatiotemporal_project\\models\\experiment3_hybrid_h3\\best_model.pth\n",
      "[2025-01-26 15:02:36] INFO: Epoch 2/1000 - Adjacency: hybrid - Train Loss: 0.1563 | Val Loss: 2.6547 | R² per node: [-0.29364025592803955, -722.5986938476562, -48.9359245300293, -7.912970542907715, -0.0998525619506836, -33.172386169433594, -307.8828430175781]\n",
      "[2025-01-26 15:02:36] INFO: [BEST] Saved model -> c:\\Users\\ajaoo\\Desktop\\Projects\\GNN_spatiotemporal_project\\models\\experiment3_hybrid_h3\\best_model.pth\n",
      "[2025-01-26 15:02:36] INFO: Epoch 3/1000 - Adjacency: hybrid - Train Loss: 0.0844 | Val Loss: 2.3868 | R² per node: [-0.15620434284210205, -5982.31982421875, -88.60594940185547, -6.868699073791504, 0.25278162956237793, -48.44792556762695, -402.8688049316406]\n",
      "[2025-01-26 15:02:36] INFO: [BEST] Saved model -> c:\\Users\\ajaoo\\Desktop\\Projects\\GNN_spatiotemporal_project\\models\\experiment3_hybrid_h3\\best_model.pth\n",
      "[2025-01-26 15:02:36] INFO: Epoch 4/1000 - Adjacency: hybrid - Train Loss: 0.0609 | Val Loss: 2.2878 | R² per node: [-0.10753858089447021, -9044.1923828125, -28.0579833984375, -1.1756799221038818, 0.22377997636795044, -17.327312469482422, -64.87774658203125]\n",
      "[2025-01-26 15:02:36] INFO: [BEST] Saved model -> c:\\Users\\ajaoo\\Desktop\\Projects\\GNN_spatiotemporal_project\\models\\experiment3_hybrid_h3\\best_model.pth\n",
      "[2025-01-26 15:02:37] INFO: Epoch 5/1000 - Adjacency: hybrid - Train Loss: 0.0595 | Val Loss: 2.2251 | R² per node: [-0.07844913005828857, -8163.79736328125, -31.941299438476562, -0.7711081504821777, 0.4715649485588074, -16.83724021911621, -88.19654083251953]\n",
      "[2025-01-26 15:02:37] INFO: [BEST] Saved model -> c:\\Users\\ajaoo\\Desktop\\Projects\\GNN_spatiotemporal_project\\models\\experiment3_hybrid_h3\\best_model.pth\n",
      "[2025-01-26 15:02:37] INFO: Epoch 6/1000 - Adjacency: hybrid - Train Loss: 0.0535 | Val Loss: 2.1801 | R² per node: [-0.05070817470550537, -11268.9404296875, -43.664878845214844, -1.234844446182251, 0.4893673062324524, -21.002357482910156, -121.7754898071289]\n",
      "[2025-01-26 15:02:37] INFO: [BEST] Saved model -> c:\\Users\\ajaoo\\Desktop\\Projects\\GNN_spatiotemporal_project\\models\\experiment3_hybrid_h3\\best_model.pth\n",
      "[2025-01-26 15:02:38] INFO: Epoch 7/1000 - Adjacency: hybrid - Train Loss: 0.0460 | Val Loss: 2.1475 | R² per node: [-0.0484006404876709, -4872.2900390625, -23.633750915527344, -0.35604405403137207, 0.32515740394592285, -12.079996109008789, -53.62449645996094]\n",
      "[2025-01-26 15:02:38] INFO: [BEST] Saved model -> c:\\Users\\ajaoo\\Desktop\\Projects\\GNN_spatiotemporal_project\\models\\experiment3_hybrid_h3\\best_model.pth\n",
      "[2025-01-26 15:02:38] INFO: Epoch 8/1000 - Adjacency: hybrid - Train Loss: 0.0413 | Val Loss: 2.1043 | R² per node: [-0.024746298789978027, -6633.69091796875, -20.01158332824707, -0.4221680164337158, 0.5514405965805054, -12.469371795654297, -38.5439338684082]\n",
      "[2025-01-26 15:02:38] INFO: [BEST] Saved model -> c:\\Users\\ajaoo\\Desktop\\Projects\\GNN_spatiotemporal_project\\models\\experiment3_hybrid_h3\\best_model.pth\n",
      "[2025-01-26 15:02:38] INFO: Epoch 9/1000 - Adjacency: hybrid - Train Loss: 0.0430 | Val Loss: 2.1024 | R² per node: [-0.017052412033081055, -10527.6689453125, -7.544654846191406, -2.691276788711548, 0.5504117012023926, -7.383033752441406, -16.40226173400879]\n",
      "[2025-01-26 15:02:38] INFO: [BEST] Saved model -> c:\\Users\\ajaoo\\Desktop\\Projects\\GNN_spatiotemporal_project\\models\\experiment3_hybrid_h3\\best_model.pth\n",
      "[2025-01-26 15:02:39] INFO: Epoch 10/1000 - Adjacency: hybrid - Train Loss: 0.0458 | Val Loss: 2.0678 | R² per node: [0.0061667561531066895, -10034.0458984375, -66.87452697753906, -4.771232604980469, 0.600894570350647, -52.156272888183594, -275.9664001464844]\n",
      "[2025-01-26 15:02:39] INFO: [BEST] Saved model -> c:\\Users\\ajaoo\\Desktop\\Projects\\GNN_spatiotemporal_project\\models\\experiment3_hybrid_h3\\best_model.pth\n",
      "[2025-01-26 15:02:39] INFO: Epoch 11/1000 - Adjacency: hybrid - Train Loss: 0.0363 | Val Loss: 2.0271 | R² per node: [0.00975733995437622, -5132.6240234375, -8.326902389526367, -1.1163623332977295, 0.5899884104728699, -9.595565795898438, -19.10603141784668]\n",
      "[2025-01-26 15:02:39] INFO: [BEST] Saved model -> c:\\Users\\ajaoo\\Desktop\\Projects\\GNN_spatiotemporal_project\\models\\experiment3_hybrid_h3\\best_model.pth\n",
      "[2025-01-26 15:02:40] INFO: Epoch 12/1000 - Adjacency: hybrid - Train Loss: 0.0355 | Val Loss: 2.0305 | R² per node: [0.04443168640136719, -22681.595703125, -28.08724021911621, -0.7782504558563232, 0.6251821517944336, -28.73906135559082, -89.90050506591797]\n",
      "[2025-01-26 15:02:40] INFO: Epoch 13/1000 - Adjacency: hybrid - Train Loss: 0.0312 | Val Loss: 2.0122 | R² per node: [0.03711777925491333, -15208.0029296875, -15.672924041748047, -0.27638089656829834, 0.6356975436210632, -16.67119026184082, -45.08854293823242]\n",
      "[2025-01-26 15:02:40] INFO: [BEST] Saved model -> c:\\Users\\ajaoo\\Desktop\\Projects\\GNN_spatiotemporal_project\\models\\experiment3_hybrid_h3\\best_model.pth\n",
      "[2025-01-26 15:02:40] INFO: Epoch 14/1000 - Adjacency: hybrid - Train Loss: 0.0333 | Val Loss: 1.9666 | R² per node: [0.0675385594367981, -16642.14453125, -54.80539321899414, -4.503512859344482, 0.6338739395141602, -48.8988151550293, -227.406005859375]\n",
      "[2025-01-26 15:02:40] INFO: [BEST] Saved model -> c:\\Users\\ajaoo\\Desktop\\Projects\\GNN_spatiotemporal_project\\models\\experiment3_hybrid_h3\\best_model.pth\n",
      "[2025-01-26 15:02:41] INFO: Epoch 15/1000 - Adjacency: hybrid - Train Loss: 0.0312 | Val Loss: 1.9955 | R² per node: [0.04366415739059448, -14970.4619140625, -4.185715198516846, -0.9475212097167969, 0.6518619060516357, -10.080568313598633, -15.490226745605469]\n",
      "[2025-01-26 15:02:41] INFO: Epoch 16/1000 - Adjacency: hybrid - Train Loss: 0.0270 | Val Loss: 1.9605 | R² per node: [0.0715678334236145, -19454.671875, -20.408140182495117, -0.957905650138855, 0.6771121025085449, -23.768247604370117, -69.57463836669922]\n",
      "[2025-01-26 15:02:41] INFO: [BEST] Saved model -> c:\\Users\\ajaoo\\Desktop\\Projects\\GNN_spatiotemporal_project\\models\\experiment3_hybrid_h3\\best_model.pth\n",
      "[2025-01-26 15:02:42] INFO: Epoch 17/1000 - Adjacency: hybrid - Train Loss: 0.0290 | Val Loss: 1.9242 | R² per node: [0.08623522520065308, -15424.0234375, -49.02817916870117, -4.812255859375, 0.617496132850647, -46.46875, -218.57122802734375]\n",
      "[2025-01-26 15:02:42] INFO: [BEST] Saved model -> c:\\Users\\ajaoo\\Desktop\\Projects\\GNN_spatiotemporal_project\\models\\experiment3_hybrid_h3\\best_model.pth\n",
      "[2025-01-26 15:02:42] INFO: Epoch 18/1000 - Adjacency: hybrid - Train Loss: 0.0275 | Val Loss: 1.9237 | R² per node: [0.07398343086242676, -11768.599609375, -13.684412956237793, -0.5412847995758057, 0.7350949048995972, -27.37442398071289, -56.76874542236328]\n",
      "[2025-01-26 15:02:42] INFO: [BEST] Saved model -> c:\\Users\\ajaoo\\Desktop\\Projects\\GNN_spatiotemporal_project\\models\\experiment3_hybrid_h3\\best_model.pth\n",
      "[2025-01-26 15:02:42] INFO: Epoch 19/1000 - Adjacency: hybrid - Train Loss: 0.0280 | Val Loss: 1.9281 | R² per node: [0.08614391088485718, -19046.298828125, -8.312345504760742, -0.47849059104919434, 0.7224199771881104, -17.0682315826416, -34.091793060302734]\n",
      "[2025-01-26 15:02:43] INFO: Epoch 20/1000 - Adjacency: hybrid - Train Loss: 0.0272 | Val Loss: 1.8898 | R² per node: [0.08994859457015991, -9969.4609375, -35.0522575378418, -3.576565742492676, 0.6820694208145142, -34.628299713134766, -165.76510620117188]\n",
      "[2025-01-26 15:02:43] INFO: [BEST] Saved model -> c:\\Users\\ajaoo\\Desktop\\Projects\\GNN_spatiotemporal_project\\models\\experiment3_hybrid_h3\\best_model.pth\n",
      "[2025-01-26 15:02:43] INFO: Epoch 21/1000 - Adjacency: hybrid - Train Loss: 0.0261 | Val Loss: 1.8927 | R² per node: [0.09234869480133057, -12524.541015625, -19.980566024780273, -1.287034511566162, 0.7026241421699524, -29.05694007873535, -88.10359954833984]\n",
      "[2025-01-26 15:02:43] INFO: Epoch 22/1000 - Adjacency: hybrid - Train Loss: 0.0253 | Val Loss: 1.9152 | R² per node: [0.07938605546951294, -12879.515625, -9.932207107543945, -0.6228307485580444, 0.7815417051315308, -19.00993537902832, -44.833961486816406]\n",
      "[2025-01-26 15:02:44] INFO: Epoch 23/1000 - Adjacency: hybrid - Train Loss: 0.0245 | Val Loss: 1.8997 | R² per node: [0.07954347133636475, -9300.412109375, -3.164973735809326, -1.0949628353118896, 0.7359253168106079, -11.551980018615723, -24.306703567504883]\n",
      "[2025-01-26 15:02:44] INFO: Epoch 24/1000 - Adjacency: hybrid - Train Loss: 0.0256 | Val Loss: 1.9069 | R² per node: [0.08076894283294678, -11430.298828125, -9.657520294189453, -0.8173822164535522, 0.7993258237838745, -24.810991287231445, -53.990509033203125]\n"
     ]
    },
    {
     "name": "stdout",
     "output_type": "stream",
     "text": [
      "Epoch 00024: reducing learning rate of group 0 to 5.0000e-04.\n"
     ]
    },
    {
     "name": "stderr",
     "output_type": "stream",
     "text": [
      "[2025-01-26 15:02:45] INFO: Epoch 25/1000 - Adjacency: hybrid - Train Loss: 0.0229 | Val Loss: 1.8682 | R² per node: [0.10266971588134766, -11465.1474609375, -25.345643997192383, -2.7567298412323, 0.7445007562637329, -36.713653564453125, -124.24604797363281]\n",
      "[2025-01-26 15:02:45] INFO: [BEST] Saved model -> c:\\Users\\ajaoo\\Desktop\\Projects\\GNN_spatiotemporal_project\\models\\experiment3_hybrid_h3\\best_model.pth\n",
      "[2025-01-26 15:02:45] INFO: Epoch 26/1000 - Adjacency: hybrid - Train Loss: 0.0233 | Val Loss: 1.8745 | R² per node: [0.09431284666061401, -10279.3359375, -5.994657516479492, -0.894394040107727, 0.7696292400360107, -19.401704788208008, -39.33525848388672]\n",
      "[2025-01-26 15:02:45] INFO: Epoch 27/1000 - Adjacency: hybrid - Train Loss: 0.0226 | Val Loss: 1.8733 | R² per node: [0.09430325031280518, -10124.0009765625, -3.581064224243164, -0.765306830406189, 0.7502765655517578, -17.59128761291504, -26.690460205078125]\n",
      "[2025-01-26 15:02:46] INFO: Epoch 28/1000 - Adjacency: hybrid - Train Loss: 0.0233 | Val Loss: 1.8426 | R² per node: [0.11419200897216797, -12024.828125, -9.550088882446289, -0.7127158641815186, 0.7813324928283691, -24.452068328857422, -47.48582458496094]\n",
      "[2025-01-26 15:02:46] INFO: [BEST] Saved model -> c:\\Users\\ajaoo\\Desktop\\Projects\\GNN_spatiotemporal_project\\models\\experiment3_hybrid_h3\\best_model.pth\n",
      "[2025-01-26 15:02:46] INFO: Epoch 29/1000 - Adjacency: hybrid - Train Loss: 0.0227 | Val Loss: 1.8499 | R² per node: [0.1035757064819336, -8950.8857421875, -2.195343494415283, -1.4055912494659424, 0.7460929751396179, -14.93261432647705, -25.503704071044922]\n",
      "[2025-01-26 15:02:46] INFO: Epoch 30/1000 - Adjacency: hybrid - Train Loss: 0.0224 | Val Loss: 1.8140 | R² per node: [0.11929333209991455, -7357.6435546875, -8.69615650177002, -0.6864653825759888, 0.7619125247001648, -23.083295822143555, -46.437686920166016]\n",
      "[2025-01-26 15:02:46] INFO: [BEST] Saved model -> c:\\Users\\ajaoo\\Desktop\\Projects\\GNN_spatiotemporal_project\\models\\experiment3_hybrid_h3\\best_model.pth\n",
      "[2025-01-26 15:02:47] INFO: Epoch 31/1000 - Adjacency: hybrid - Train Loss: 0.0234 | Val Loss: 1.8424 | R² per node: [0.10339504480361938, -6949.2607421875, -2.4890542030334473, -1.614332914352417, 0.7109696865081787, -13.216303825378418, -26.74471092224121]\n",
      "[2025-01-26 15:02:47] INFO: Epoch 32/1000 - Adjacency: hybrid - Train Loss: 0.0247 | Val Loss: 1.8096 | R² per node: [0.12465429306030273, -7345.45263671875, -29.14037322998047, -3.4327592849731445, 0.6972529888153076, -43.156494140625, -148.64158630371094]\n",
      "[2025-01-26 15:02:47] INFO: [BEST] Saved model -> c:\\Users\\ajaoo\\Desktop\\Projects\\GNN_spatiotemporal_project\\models\\experiment3_hybrid_h3\\best_model.pth\n",
      "[2025-01-26 15:02:48] INFO: Epoch 33/1000 - Adjacency: hybrid - Train Loss: 0.0262 | Val Loss: 1.8533 | R² per node: [0.10640513896942139, -11070.607421875, -5.496509552001953, -0.4519007205963135, 0.7705800533294678, -23.909347534179688, -34.85816192626953]\n",
      "[2025-01-26 15:02:48] INFO: Epoch 34/1000 - Adjacency: hybrid - Train Loss: 0.0225 | Val Loss: 1.8090 | R² per node: [0.1239326000213623, -8643.544921875, -4.124415397644043, -0.43127894401550293, 0.7651722431182861, -19.65390968322754, -29.102188110351562]\n",
      "[2025-01-26 15:02:48] INFO: [BEST] Saved model -> c:\\Users\\ajaoo\\Desktop\\Projects\\GNN_spatiotemporal_project\\models\\experiment3_hybrid_h3\\best_model.pth\n",
      "[2025-01-26 15:02:48] INFO: Epoch 35/1000 - Adjacency: hybrid - Train Loss: 0.0214 | Val Loss: 1.8383 | R² per node: [0.1132778525352478, -10996.287109375, -2.814387559890747, -0.49236738681793213, 0.7904017567634583, -18.24219512939453, -21.329938888549805]\n",
      "[2025-01-26 15:02:49] INFO: Epoch 36/1000 - Adjacency: hybrid - Train Loss: 0.0224 | Val Loss: 1.8130 | R² per node: [0.12084650993347168, -8304.505859375, -3.5655179023742676, -0.372298002243042, 0.7993557453155518, -20.371715545654297, -27.92354393005371]\n",
      "[2025-01-26 15:02:49] INFO: Epoch 37/1000 - Adjacency: hybrid - Train Loss: 0.0205 | Val Loss: 1.8088 | R² per node: [0.12508928775787354, -9266.244140625, -6.404221534729004, -0.6079088449478149, 0.8047086000442505, -26.01177406311035, -39.930965423583984]\n",
      "[2025-01-26 15:02:49] INFO: [BEST] Saved model -> c:\\Users\\ajaoo\\Desktop\\Projects\\GNN_spatiotemporal_project\\models\\experiment3_hybrid_h3\\best_model.pth\n",
      "[2025-01-26 15:02:49] INFO: Epoch 38/1000 - Adjacency: hybrid - Train Loss: 0.0219 | Val Loss: 1.8117 | R² per node: [0.12147969007492065, -7724.79052734375, -11.221423149108887, -0.9480806589126587, 0.8113054037094116, -36.9595947265625, -71.82341766357422]\n"
     ]
    },
    {
     "name": "stdout",
     "output_type": "stream",
     "text": [
      "Epoch 00038: reducing learning rate of group 0 to 2.5000e-04.\n"
     ]
    },
    {
     "name": "stderr",
     "output_type": "stream",
     "text": [
      "[2025-01-26 15:02:50] INFO: Epoch 39/1000 - Adjacency: hybrid - Train Loss: 0.0195 | Val Loss: 1.7999 | R² per node: [0.12200218439102173, -5365.62060546875, -4.964075565338135, -0.47616124153137207, 0.8009788990020752, -27.78176498413086, -44.84123992919922]\n",
      "[2025-01-26 15:02:50] INFO: [BEST] Saved model -> c:\\Users\\ajaoo\\Desktop\\Projects\\GNN_spatiotemporal_project\\models\\experiment3_hybrid_h3\\best_model.pth\n",
      "[2025-01-26 15:02:50] INFO: Epoch 40/1000 - Adjacency: hybrid - Train Loss: 0.0195 | Val Loss: 1.7825 | R² per node: [0.13586819171905518, -7523.11376953125, -11.891613006591797, -1.1692473888397217, 0.7859443426132202, -35.34511184692383, -73.29792022705078]\n",
      "[2025-01-26 15:02:50] INFO: [BEST] Saved model -> c:\\Users\\ajaoo\\Desktop\\Projects\\GNN_spatiotemporal_project\\models\\experiment3_hybrid_h3\\best_model.pth\n",
      "[2025-01-26 15:02:51] INFO: Epoch 41/1000 - Adjacency: hybrid - Train Loss: 0.0192 | Val Loss: 1.8019 | R² per node: [0.1272943615913391, -8366.119140625, -9.757728576660156, -0.9608590602874756, 0.8127796053886414, -33.14931106567383, -61.46010971069336]\n",
      "[2025-01-26 15:02:51] INFO: Epoch 42/1000 - Adjacency: hybrid - Train Loss: 0.0194 | Val Loss: 1.7814 | R² per node: [0.1321951150894165, -5494.6533203125, -10.945211410522461, -1.0396490097045898, 0.7995102405548096, -34.85493850708008, -71.58190155029297]\n",
      "[2025-01-26 15:02:51] INFO: [BEST] Saved model -> c:\\Users\\ajaoo\\Desktop\\Projects\\GNN_spatiotemporal_project\\models\\experiment3_hybrid_h3\\best_model.pth\n",
      "[2025-01-26 15:02:51] INFO: Epoch 43/1000 - Adjacency: hybrid - Train Loss: 0.0191 | Val Loss: 1.7748 | R² per node: [0.134452223777771, -5067.96826171875, -9.2335205078125, -0.9057799577713013, 0.7922629714012146, -32.67055130004883, -65.72303009033203]\n",
      "[2025-01-26 15:02:51] INFO: [BEST] Saved model -> c:\\Users\\ajaoo\\Desktop\\Projects\\GNN_spatiotemporal_project\\models\\experiment3_hybrid_h3\\best_model.pth\n",
      "[2025-01-26 15:02:52] INFO: Epoch 44/1000 - Adjacency: hybrid - Train Loss: 0.0197 | Val Loss: 1.7748 | R² per node: [0.1363593339920044, -5952.10400390625, -9.752497673034668, -0.9565892219543457, 0.79155033826828, -32.961666107177734, -65.23550415039062]\n",
      "[2025-01-26 15:02:52] INFO: [BEST] Saved model -> c:\\Users\\ajaoo\\Desktop\\Projects\\GNN_spatiotemporal_project\\models\\experiment3_hybrid_h3\\best_model.pth\n",
      "[2025-01-26 15:02:52] INFO: Epoch 45/1000 - Adjacency: hybrid - Train Loss: 0.0197 | Val Loss: 1.7752 | R² per node: [0.136119544506073, -5317.80419921875, -19.455480575561523, -2.677354574203491, 0.7773922085762024, -41.02402114868164, -124.9712142944336]\n",
      "[2025-01-26 15:02:53] INFO: Epoch 46/1000 - Adjacency: hybrid - Train Loss: 0.0197 | Val Loss: 1.7970 | R² per node: [0.12418150901794434, -5736.322265625, -6.897297382354736, -0.9183993339538574, 0.7980590462684631, -27.372663497924805, -54.89917755126953]\n",
      "[2025-01-26 15:02:53] INFO: Epoch 47/1000 - Adjacency: hybrid - Train Loss: 0.0198 | Val Loss: 1.7869 | R² per node: [0.13337284326553345, -8043.71435546875, -3.718055248260498, -0.7541142702102661, 0.8073462247848511, -26.527009963989258, -48.13212585449219]\n"
     ]
    },
    {
     "name": "stdout",
     "output_type": "stream",
     "text": [
      "Epoch 00047: reducing learning rate of group 0 to 1.2500e-04.\n"
     ]
    },
    {
     "name": "stderr",
     "output_type": "stream",
     "text": [
      "[2025-01-26 15:02:53] INFO: Epoch 48/1000 - Adjacency: hybrid - Train Loss: 0.0187 | Val Loss: 1.7841 | R² per node: [0.13474857807159424, -7362.68359375, -13.228362083435059, -1.522613286972046, 0.8105001449584961, -39.088558197021484, -99.7274169921875]\n",
      "[2025-01-26 15:02:54] INFO: Epoch 49/1000 - Adjacency: hybrid - Train Loss: 0.0182 | Val Loss: 1.7772 | R² per node: [0.1373612880706787, -6875.4287109375, -13.112833023071289, -1.5214335918426514, 0.7951355576515198, -37.88914108276367, -97.59130096435547]\n",
      "[2025-01-26 15:02:54] INFO: Epoch 50/1000 - Adjacency: hybrid - Train Loss: 0.0186 | Val Loss: 1.7793 | R² per node: [0.13714098930358887, -7378.77197265625, -10.948227882385254, -1.2182118892669678, 0.7991080284118652, -37.50395202636719, -83.87721252441406]\n",
      "[2025-01-26 15:02:54] INFO: Epoch 51/1000 - Adjacency: hybrid - Train Loss: 0.0188 | Val Loss: 1.7760 | R² per node: [0.138710618019104, -7176.46435546875, -13.984926223754883, -1.7716352939605713, 0.8107829689979553, -42.89424514770508, -110.81094360351562]\n"
     ]
    },
    {
     "name": "stdout",
     "output_type": "stream",
     "text": [
      "Epoch 00051: reducing learning rate of group 0 to 6.2500e-05.\n"
     ]
    },
    {
     "name": "stderr",
     "output_type": "stream",
     "text": [
      "[2025-01-26 15:02:55] INFO: Epoch 52/1000 - Adjacency: hybrid - Train Loss: 0.0186 | Val Loss: 1.7749 | R² per node: [0.1394084095954895, -7188.625, -14.708768844604492, -1.7832376956939697, 0.7992480993270874, -41.6529426574707, -108.43486785888672]\n",
      "[2025-01-26 15:02:55] INFO: Epoch 53/1000 - Adjacency: hybrid - Train Loss: 0.0176 | Val Loss: 1.7785 | R² per node: [0.13638007640838623, -6769.224609375, -12.867349624633789, -1.571427345275879, 0.8080177307128906, -38.821903228759766, -98.75863647460938]\n",
      "[2025-01-26 15:02:56] INFO: Epoch 54/1000 - Adjacency: hybrid - Train Loss: 0.0191 | Val Loss: 1.7791 | R² per node: [0.13571155071258545, -6624.97607421875, -12.013411521911621, -1.4915194511413574, 0.8085447549819946, -38.30603790283203, -93.92495727539062]\n",
      "[2025-01-26 15:02:56] INFO: Epoch 55/1000 - Adjacency: hybrid - Train Loss: 0.0184 | Val Loss: 1.7715 | R² per node: [0.13811904191970825, -6013.29736328125, -12.068809509277344, -1.3612470626831055, 0.8061815500259399, -35.74749755859375, -91.42770385742188]\n",
      "[2025-01-26 15:02:56] INFO: [BEST] Saved model -> c:\\Users\\ajaoo\\Desktop\\Projects\\GNN_spatiotemporal_project\\models\\experiment3_hybrid_h3\\best_model.pth\n",
      "[2025-01-26 15:02:56] INFO: Epoch 56/1000 - Adjacency: hybrid - Train Loss: 0.0181 | Val Loss: 1.7653 | R² per node: [0.1416967511177063, -6213.48974609375, -11.725021362304688, -1.2995131015777588, 0.7941631078720093, -34.932090759277344, -88.9375228881836]\n",
      "[2025-01-26 15:02:56] INFO: [BEST] Saved model -> c:\\Users\\ajaoo\\Desktop\\Projects\\GNN_spatiotemporal_project\\models\\experiment3_hybrid_h3\\best_model.pth\n",
      "[2025-01-26 15:02:57] INFO: Epoch 57/1000 - Adjacency: hybrid - Train Loss: 0.0180 | Val Loss: 1.7732 | R² per node: [0.13852614164352417, -6567.5673828125, -12.554938316345215, -1.4756581783294678, 0.8035322427749634, -36.835357666015625, -95.08488464355469]\n",
      "[2025-01-26 15:02:57] INFO: Epoch 58/1000 - Adjacency: hybrid - Train Loss: 0.0174 | Val Loss: 1.7736 | R² per node: [0.13937288522720337, -7057.109375, -12.327827453613281, -1.4702436923980713, 0.8001489043235779, -37.166603088378906, -93.48651123046875]\n",
      "[2025-01-26 15:02:58] INFO: Epoch 59/1000 - Adjacency: hybrid - Train Loss: 0.0181 | Val Loss: 1.7723 | R² per node: [0.13926082849502563, -6621.09375, -13.115731239318848, -1.6078333854675293, 0.8027059435844421, -38.570106506347656, -98.94513702392578]\n",
      "[2025-01-26 15:02:58] INFO: Epoch 60/1000 - Adjacency: hybrid - Train Loss: 0.0177 | Val Loss: 1.7630 | R² per node: [0.14250439405441284, -5861.01416015625, -14.271095275878906, -1.766218662261963, 0.7912814021110535, -37.722408294677734, -102.74248504638672]\n",
      "[2025-01-26 15:02:58] INFO: [BEST] Saved model -> c:\\Users\\ajaoo\\Desktop\\Projects\\GNN_spatiotemporal_project\\models\\experiment3_hybrid_h3\\best_model.pth\n",
      "[2025-01-26 15:02:58] INFO: Epoch 61/1000 - Adjacency: hybrid - Train Loss: 0.0176 | Val Loss: 1.7647 | R² per node: [0.1416112780570984, -5973.27978515625, -11.317068099975586, -1.378204107284546, 0.7958706617355347, -36.37624740600586, -87.77720642089844]\n",
      "[2025-01-26 15:02:59] INFO: Epoch 62/1000 - Adjacency: hybrid - Train Loss: 0.0178 | Val Loss: 1.7629 | R² per node: [0.1443135142326355, -6560.19677734375, -15.926334381103516, -1.9855997562408447, 0.7870596051216125, -41.19917678833008, -110.13427734375]\n",
      "[2025-01-26 15:02:59] INFO: [BEST] Saved model -> c:\\Users\\ajaoo\\Desktop\\Projects\\GNN_spatiotemporal_project\\models\\experiment3_hybrid_h3\\best_model.pth\n",
      "[2025-01-26 15:02:59] INFO: Epoch 63/1000 - Adjacency: hybrid - Train Loss: 0.0180 | Val Loss: 1.7665 | R² per node: [0.1399925947189331, -5720.45751953125, -11.263961791992188, -1.3722412586212158, 0.8039171099662781, -35.22002029418945, -89.96773529052734]\n",
      "[2025-01-26 15:03:00] INFO: Epoch 64/1000 - Adjacency: hybrid - Train Loss: 0.0177 | Val Loss: 1.7711 | R² per node: [0.13703715801239014, -5477.91015625, -10.928862571716309, -1.3650939464569092, 0.8088629841804504, -33.77803421020508, -87.24736022949219]\n"
     ]
    },
    {
     "name": "stdout",
     "output_type": "stream",
     "text": [
      "Epoch 00064: reducing learning rate of group 0 to 3.1250e-05.\n"
     ]
    },
    {
     "name": "stderr",
     "output_type": "stream",
     "text": [
      "[2025-01-26 15:03:00] INFO: Epoch 65/1000 - Adjacency: hybrid - Train Loss: 0.0180 | Val Loss: 1.7658 | R² per node: [0.14049482345581055, -5820.36669921875, -12.339890480041504, -1.4685091972351074, 0.8108561038970947, -34.84812545776367, -93.9213638305664]\n",
      "[2025-01-26 15:03:00] INFO: Epoch 66/1000 - Adjacency: hybrid - Train Loss: 0.0178 | Val Loss: 1.7615 | R² per node: [0.1429927945137024, -5827.921875, -13.381060600280762, -1.672145128250122, 0.8003146052360535, -37.22270202636719, -99.66490936279297]\n",
      "[2025-01-26 15:03:00] INFO: [BEST] Saved model -> c:\\Users\\ajaoo\\Desktop\\Projects\\GNN_spatiotemporal_project\\models\\experiment3_hybrid_h3\\best_model.pth\n",
      "[2025-01-26 15:03:01] INFO: Epoch 67/1000 - Adjacency: hybrid - Train Loss: 0.0181 | Val Loss: 1.7621 | R² per node: [0.14195126295089722, -5636.28662109375, -11.62672233581543, -1.3384077548980713, 0.8041428923606873, -33.9308967590332, -88.90914154052734]\n",
      "[2025-01-26 15:03:01] INFO: Epoch 68/1000 - Adjacency: hybrid - Train Loss: 0.0176 | Val Loss: 1.7590 | R² per node: [0.1440609097480774, -5779.89208984375, -13.607012748718262, -1.6923110485076904, 0.8050023913383484, -36.59561538696289, -100.47685241699219]\n",
      "[2025-01-26 15:03:01] INFO: [BEST] Saved model -> c:\\Users\\ajaoo\\Desktop\\Projects\\GNN_spatiotemporal_project\\models\\experiment3_hybrid_h3\\best_model.pth\n",
      "[2025-01-26 15:03:02] INFO: Epoch 69/1000 - Adjacency: hybrid - Train Loss: 0.0170 | Val Loss: 1.7591 | R² per node: [0.1432250738143921, -5346.15625, -13.467320442199707, -1.6712489128112793, 0.7962912321090698, -35.955467224121094, -97.54728698730469]\n",
      "[2025-01-26 15:03:02] INFO: Epoch 70/1000 - Adjacency: hybrid - Train Loss: 0.0168 | Val Loss: 1.7618 | R² per node: [0.14141738414764404, -5230.291015625, -12.135143280029297, -1.4879515171051025, 0.7999423742294312, -34.33388900756836, -90.89167785644531]\n",
      "[2025-01-26 15:03:02] INFO: Epoch 71/1000 - Adjacency: hybrid - Train Loss: 0.0181 | Val Loss: 1.7592 | R² per node: [0.14329105615615845, -5542.36767578125, -11.686924934387207, -1.409175157546997, 0.7961865067481995, -33.697933197021484, -87.06555938720703]\n",
      "[2025-01-26 15:03:03] INFO: Epoch 72/1000 - Adjacency: hybrid - Train Loss: 0.0175 | Val Loss: 1.7588 | R² per node: [0.1439676284790039, -5747.5234375, -13.452977180480957, -1.635444164276123, 0.8093476891517639, -35.96128463745117, -97.32814025878906]\n",
      "[2025-01-26 15:03:03] INFO: [BEST] Saved model -> c:\\Users\\ajaoo\\Desktop\\Projects\\GNN_spatiotemporal_project\\models\\experiment3_hybrid_h3\\best_model.pth\n"
     ]
    },
    {
     "name": "stdout",
     "output_type": "stream",
     "text": [
      "Epoch 00072: reducing learning rate of group 0 to 1.5625e-05.\n"
     ]
    },
    {
     "name": "stderr",
     "output_type": "stream",
     "text": [
      "[2025-01-26 15:03:03] INFO: Epoch 73/1000 - Adjacency: hybrid - Train Loss: 0.0178 | Val Loss: 1.7605 | R² per node: [0.14490550756454468, -6296.05419921875, -15.537015914916992, -2.0981526374816895, 0.7897915244102478, -40.16506576538086, -108.24947357177734]\n",
      "[2025-01-26 15:03:03] INFO: Epoch 74/1000 - Adjacency: hybrid - Train Loss: 0.0176 | Val Loss: 1.7599 | R² per node: [0.1421034336090088, -5265.93408203125, -11.022485733032227, -1.2980339527130127, 0.8012650012969971, -31.848793029785156, -82.95780944824219]\n",
      "[2025-01-26 15:03:04] INFO: Epoch 75/1000 - Adjacency: hybrid - Train Loss: 0.0176 | Val Loss: 1.7582 | R² per node: [0.14438718557357788, -5771.89599609375, -12.583683967590332, -1.4910013675689697, 0.7964715361595154, -34.85607147216797, -90.42323303222656]\n",
      "[2025-01-26 15:03:04] INFO: [BEST] Saved model -> c:\\Users\\ajaoo\\Desktop\\Projects\\GNN_spatiotemporal_project\\models\\experiment3_hybrid_h3\\best_model.pth\n",
      "[2025-01-26 15:03:04] INFO: Epoch 76/1000 - Adjacency: hybrid - Train Loss: 0.0168 | Val Loss: 1.7603 | R² per node: [0.14340317249298096, -5806.849609375, -13.333471298217773, -1.643263339996338, 0.8032459020614624, -35.855281829833984, -96.36241149902344]\n",
      "[2025-01-26 15:03:05] INFO: Epoch 77/1000 - Adjacency: hybrid - Train Loss: 0.0175 | Val Loss: 1.7604 | R² per node: [0.14531046152114868, -6530.30419921875, -14.8344087600708, -1.9476022720336914, 0.7919549345970154, -39.73221206665039, -104.80017852783203]\n",
      "[2025-01-26 15:03:05] INFO: Epoch 78/1000 - Adjacency: hybrid - Train Loss: 0.0175 | Val Loss: 1.7599 | R² per node: [0.1440340280532837, -5934.89794921875, -12.827696800231934, -1.6270480155944824, 0.7933717966079712, -36.442893981933594, -94.06809997558594]\n",
      "[2025-01-26 15:03:05] INFO: Epoch 79/1000 - Adjacency: hybrid - Train Loss: 0.0175 | Val Loss: 1.7599 | R² per node: [0.1440521478652954, -6004.81591796875, -12.30515193939209, -1.5171222686767578, 0.7965115904808044, -36.053504943847656, -91.13407135009766]\n"
     ]
    },
    {
     "name": "stdout",
     "output_type": "stream",
     "text": [
      "Epoch 00079: reducing learning rate of group 0 to 7.8125e-06.\n"
     ]
    },
    {
     "name": "stderr",
     "output_type": "stream",
     "text": [
      "[2025-01-26 15:03:06] INFO: Epoch 80/1000 - Adjacency: hybrid - Train Loss: 0.0181 | Val Loss: 1.7589 | R² per node: [0.1426682472229004, -5279.17431640625, -11.004565238952637, -1.270519733428955, 0.8012354373931885, -31.99816131591797, -84.54393768310547]\n",
      "[2025-01-26 15:03:06] INFO: Epoch 81/1000 - Adjacency: hybrid - Train Loss: 0.0172 | Val Loss: 1.7598 | R² per node: [0.14413684606552124, -5915.38330078125, -13.838977813720703, -1.777987003326416, 0.7933869361877441, -37.381011962890625, -100.97824096679688]\n",
      "[2025-01-26 15:03:07] INFO: Epoch 82/1000 - Adjacency: hybrid - Train Loss: 0.0168 | Val Loss: 1.7596 | R² per node: [0.14487087726593018, -6223.84228515625, -13.906816482543945, -1.7878923416137695, 0.797484278678894, -38.63748550415039, -102.29198455810547]\n",
      "[2025-01-26 15:03:07] INFO: Epoch 83/1000 - Adjacency: hybrid - Train Loss: 0.0172 | Val Loss: 1.7608 | R² per node: [0.14346200227737427, -5989.3916015625, -12.49256706237793, -1.5326039791107178, 0.8027995228767395, -35.729671478271484, -93.56346893310547]\n"
     ]
    },
    {
     "name": "stdout",
     "output_type": "stream",
     "text": [
      "Epoch 00083: reducing learning rate of group 0 to 3.9063e-06.\n"
     ]
    },
    {
     "name": "stderr",
     "output_type": "stream",
     "text": [
      "[2025-01-26 15:03:07] INFO: Epoch 84/1000 - Adjacency: hybrid - Train Loss: 0.0178 | Val Loss: 1.7589 | R² per node: [0.14404702186584473, -5759.1796875, -13.08761215209961, -1.6472349166870117, 0.8043147921562195, -36.91410827636719, -98.46349334716797]\n",
      "[2025-01-26 15:03:08] INFO: Epoch 85/1000 - Adjacency: hybrid - Train Loss: 0.0171 | Val Loss: 1.7626 | R² per node: [0.14380371570587158, -6512.3720703125, -13.54850959777832, -1.7473771572113037, 0.8068993091583252, -38.41277313232422, -99.92449951171875]\n",
      "[2025-01-26 15:03:08] INFO: Epoch 86/1000 - Adjacency: hybrid - Train Loss: 0.0182 | Val Loss: 1.7644 | R² per node: [0.14376866817474365, -6805.70849609375, -13.82107925415039, -1.8061223030090332, 0.7925354242324829, -39.54130554199219, -100.52999877929688]\n",
      "[2025-01-26 15:03:09] INFO: Epoch 87/1000 - Adjacency: hybrid - Train Loss: 0.0173 | Val Loss: 1.7623 | R² per node: [0.1432618498802185, -6181.85791015625, -13.530961036682129, -1.7339868545532227, 0.8061614036560059, -37.94979476928711, -100.66627502441406]\n"
     ]
    },
    {
     "name": "stdout",
     "output_type": "stream",
     "text": [
      "Epoch 00087: reducing learning rate of group 0 to 1.9531e-06.\n"
     ]
    },
    {
     "name": "stderr",
     "output_type": "stream",
     "text": [
      "[2025-01-26 15:03:09] INFO: Epoch 88/1000 - Adjacency: hybrid - Train Loss: 0.0175 | Val Loss: 1.7602 | R² per node: [0.1443338394165039, -6150.408203125, -12.965524673461914, -1.6435565948486328, 0.7943953275680542, -37.441307067871094, -96.18577575683594]\n",
      "[2025-01-26 15:03:09] INFO: Epoch 89/1000 - Adjacency: hybrid - Train Loss: 0.0174 | Val Loss: 1.7586 | R² per node: [0.14381223917007446, -5656.27001953125, -12.243277549743652, -1.481255292892456, 0.8031628727912903, -34.878597259521484, -92.66107177734375]\n",
      "[2025-01-26 15:03:10] INFO: Epoch 90/1000 - Adjacency: hybrid - Train Loss: 0.0175 | Val Loss: 1.7590 | R² per node: [0.1444077491760254, -5849.64453125, -13.837583541870117, -1.7930800914764404, 0.7964853644371033, -37.895530700683594, -102.1629409790039]\n",
      "[2025-01-26 15:03:10] INFO: Epoch 91/1000 - Adjacency: hybrid - Train Loss: 0.0171 | Val Loss: 1.7609 | R² per node: [0.14452916383743286, -6333.9638671875, -14.464300155639648, -1.9095721244812012, 0.7975085377693176, -39.559959411621094, -105.35517120361328]\n"
     ]
    },
    {
     "name": "stdout",
     "output_type": "stream",
     "text": [
      "Epoch 00091: reducing learning rate of group 0 to 9.7656e-07.\n"
     ]
    },
    {
     "name": "stderr",
     "output_type": "stream",
     "text": [
      "[2025-01-26 15:03:11] INFO: Epoch 92/1000 - Adjacency: hybrid - Train Loss: 0.0180 | Val Loss: 1.7590 | R² per node: [0.14456093311309814, -5930.048828125, -13.363310813903809, -1.7138330936431885, 0.7925205230712891, -37.38330078125, -99.44747161865234]\n",
      "[2025-01-26 15:03:11] INFO: Epoch 93/1000 - Adjacency: hybrid - Train Loss: 0.0173 | Val Loss: 1.7581 | R² per node: [0.1443561315536499, -5738.66015625, -12.632579803466797, -1.5517816543579102, 0.800045371055603, -35.78390884399414, -95.64290618896484]\n",
      "[2025-01-26 15:03:11] INFO: [BEST] Saved model -> c:\\Users\\ajaoo\\Desktop\\Projects\\GNN_spatiotemporal_project\\models\\experiment3_hybrid_h3\\best_model.pth\n",
      "[2025-01-26 15:03:11] INFO: Epoch 94/1000 - Adjacency: hybrid - Train Loss: 0.0173 | Val Loss: 1.7612 | R² per node: [0.14411097764968872, -6254.96630859375, -13.896224021911621, -1.8070907592773438, 0.7993303537368774, -38.62895202636719, -102.07454681396484]\n",
      "[2025-01-26 15:03:12] INFO: Epoch 95/1000 - Adjacency: hybrid - Train Loss: 0.0176 | Val Loss: 1.7618 | R² per node: [0.14387762546539307, -6281.8505859375, -14.409491539001465, -1.8954238891601562, 0.8037418723106384, -39.24383544921875, -105.93441772460938]\n"
     ]
    },
    {
     "name": "stdout",
     "output_type": "stream",
     "text": [
      "Epoch 00095: reducing learning rate of group 0 to 4.8828e-07.\n"
     ]
    },
    {
     "name": "stderr",
     "output_type": "stream",
     "text": [
      "[2025-01-26 15:03:12] INFO: Epoch 96/1000 - Adjacency: hybrid - Train Loss: 0.0174 | Val Loss: 1.7615 | R² per node: [0.14410275220870972, -6355.15966796875, -13.633889198303223, -1.7533810138702393, 0.8021477460861206, -38.113983154296875, -99.77153015136719]\n",
      "[2025-01-26 15:03:12] INFO: Epoch 97/1000 - Adjacency: hybrid - Train Loss: 0.0188 | Val Loss: 1.7579 | R² per node: [0.14447110891342163, -5677.9345703125, -13.39928150177002, -1.6920497417449951, 0.7977137565612793, -36.785987854003906, -99.42491149902344]\n",
      "[2025-01-26 15:03:12] INFO: [BEST] Saved model -> c:\\Users\\ajaoo\\Desktop\\Projects\\GNN_spatiotemporal_project\\models\\experiment3_hybrid_h3\\best_model.pth\n",
      "[2025-01-26 15:03:13] INFO: Epoch 98/1000 - Adjacency: hybrid - Train Loss: 0.0173 | Val Loss: 1.7578 | R² per node: [0.14425474405288696, -5533.03759765625, -13.445368766784668, -1.7126109600067139, 0.7989749908447266, -37.01605224609375, -100.49835205078125]\n",
      "[2025-01-26 15:03:13] INFO: [BEST] Saved model -> c:\\Users\\ajaoo\\Desktop\\Projects\\GNN_spatiotemporal_project\\models\\experiment3_hybrid_h3\\best_model.pth\n",
      "[2025-01-26 15:03:13] INFO: Epoch 99/1000 - Adjacency: hybrid - Train Loss: 0.0169 | Val Loss: 1.7594 | R² per node: [0.14464449882507324, -6063.681640625, -13.593232154846191, -1.76515793800354, 0.79869544506073, -38.40721130371094, -101.40690612792969]\n",
      "[2025-01-26 15:03:14] INFO: Epoch 100/1000 - Adjacency: hybrid - Train Loss: 0.0176 | Val Loss: 1.7580 | R² per node: [0.14400601387023926, -5589.31005859375, -12.171550750732422, -1.4633889198303223, 0.7993078231811523, -34.32473373413086, -91.6387710571289]\n",
      "[2025-01-26 15:03:14] INFO: Epoch 101/1000 - Adjacency: hybrid - Train Loss: 0.0170 | Val Loss: 1.7584 | R² per node: [0.14468318223953247, -5943.81640625, -12.771697044372559, -1.5788683891296387, 0.7973874807357788, -36.031890869140625, -95.01971435546875]\n"
     ]
    },
    {
     "name": "stdout",
     "output_type": "stream",
     "text": [
      "Epoch 00101: reducing learning rate of group 0 to 2.4414e-07.\n"
     ]
    },
    {
     "name": "stderr",
     "output_type": "stream",
     "text": [
      "[2025-01-26 15:03:14] INFO: Epoch 102/1000 - Adjacency: hybrid - Train Loss: 0.0179 | Val Loss: 1.7572 | R² per node: [0.1449301838874817, -5753.3505859375, -12.978503227233887, -1.6329317092895508, 0.7986752986907959, -36.32793045043945, -97.25203704833984]\n",
      "[2025-01-26 15:03:14] INFO: [BEST] Saved model -> c:\\Users\\ajaoo\\Desktop\\Projects\\GNN_spatiotemporal_project\\models\\experiment3_hybrid_h3\\best_model.pth\n",
      "[2025-01-26 15:03:15] INFO: Epoch 103/1000 - Adjacency: hybrid - Train Loss: 0.0173 | Val Loss: 1.7582 | R² per node: [0.14495491981506348, -5969.71142578125, -12.929535865783691, -1.627694845199585, 0.7968568801879883, -37.09470748901367, -96.57637023925781]\n",
      "[2025-01-26 15:03:15] INFO: Epoch 104/1000 - Adjacency: hybrid - Train Loss: 0.0168 | Val Loss: 1.7566 | R² per node: [0.14478284120559692, -5625.41943359375, -12.24148178100586, -1.4761567115783691, 0.8009107708930969, -34.64140319824219, -91.9559326171875]\n",
      "[2025-01-26 15:03:15] INFO: [BEST] Saved model -> c:\\Users\\ajaoo\\Desktop\\Projects\\GNN_spatiotemporal_project\\models\\experiment3_hybrid_h3\\best_model.pth\n",
      "[2025-01-26 15:03:16] INFO: Epoch 105/1000 - Adjacency: hybrid - Train Loss: 0.0175 | Val Loss: 1.7604 | R² per node: [0.1444830298423767, -6217.66845703125, -13.480696678161621, -1.7476587295532227, 0.791090726852417, -37.94025421142578, -99.18246459960938]\n",
      "[2025-01-26 15:03:16] INFO: Epoch 106/1000 - Adjacency: hybrid - Train Loss: 0.0177 | Val Loss: 1.7572 | R² per node: [0.14465254545211792, -5612.986328125, -13.277265548706055, -1.685054063796997, 0.7998831868171692, -36.57648849487305, -99.71196746826172]\n",
      "[2025-01-26 15:03:16] INFO: Epoch 107/1000 - Adjacency: hybrid - Train Loss: 0.0181 | Val Loss: 1.7586 | R² per node: [0.1437087059020996, -5627.37890625, -12.517644882202148, -1.4938905239105225, 0.8065656423568726, -34.581634521484375, -94.22651672363281]\n",
      "[2025-01-26 15:03:17] INFO: Epoch 108/1000 - Adjacency: hybrid - Train Loss: 0.0182 | Val Loss: 1.7579 | R² per node: [0.14439254999160767, -5730.4873046875, -12.841475486755371, -1.5837533473968506, 0.8027781248092651, -35.73539733886719, -96.30632781982422]\n"
     ]
    },
    {
     "name": "stdout",
     "output_type": "stream",
     "text": [
      "Epoch 00108: reducing learning rate of group 0 to 1.2207e-07.\n"
     ]
    },
    {
     "name": "stderr",
     "output_type": "stream",
     "text": [
      "[2025-01-26 15:03:17] INFO: Epoch 109/1000 - Adjacency: hybrid - Train Loss: 0.0187 | Val Loss: 1.7590 | R² per node: [0.14521872997283936, -6065.38037109375, -14.228321075439453, -1.919724464416504, 0.777886152267456, -39.69881820678711, -104.39178466796875]\n",
      "[2025-01-26 15:03:17] INFO: Epoch 110/1000 - Adjacency: hybrid - Train Loss: 0.0176 | Val Loss: 1.7597 | R² per node: [0.14434802532196045, -6111.40478515625, -12.919236183166504, -1.602159023284912, 0.802404522895813, -36.527042388916016, -96.3414306640625]\n",
      "[2025-01-26 15:03:18] INFO: Epoch 111/1000 - Adjacency: hybrid - Train Loss: 0.0171 | Val Loss: 1.7592 | R² per node: [0.14421576261520386, -5887.04052734375, -13.24233341217041, -1.6713860034942627, 0.8000086545944214, -37.02101135253906, -99.18954467773438]\n",
      "[2025-01-26 15:03:18] INFO: Epoch 112/1000 - Adjacency: hybrid - Train Loss: 0.0171 | Val Loss: 1.7601 | R² per node: [0.14407354593276978, -5993.25146484375, -13.755501747131348, -1.7724089622497559, 0.7990787625312805, -37.791473388671875, -101.14225006103516]\n"
     ]
    },
    {
     "name": "stdout",
     "output_type": "stream",
     "text": [
      "Epoch 00112: reducing learning rate of group 0 to 6.1035e-08.\n"
     ]
    },
    {
     "name": "stderr",
     "output_type": "stream",
     "text": [
      "[2025-01-26 15:03:19] INFO: Epoch 113/1000 - Adjacency: hybrid - Train Loss: 0.0172 | Val Loss: 1.7597 | R² per node: [0.14426958560943604, -6042.064453125, -13.56302547454834, -1.733044147491455, 0.8041065335273743, -37.521705627441406, -100.30242919921875]\n",
      "[2025-01-26 15:03:19] INFO: Epoch 114/1000 - Adjacency: hybrid - Train Loss: 0.0170 | Val Loss: 1.7577 | R² per node: [0.1441226601600647, -5586.783203125, -12.79793643951416, -1.541914463043213, 0.8043829798698425, -35.120025634765625, -95.90253448486328]\n",
      "[2025-01-26 15:03:19] INFO: Epoch 115/1000 - Adjacency: hybrid - Train Loss: 0.0175 | Val Loss: 1.7584 | R² per node: [0.14399755001068115, -5699.36181640625, -12.518848419189453, -1.504218578338623, 0.8033791184425354, -34.5247802734375, -93.1206283569336]\n",
      "[2025-01-26 15:03:20] INFO: Epoch 116/1000 - Adjacency: hybrid - Train Loss: 0.0176 | Val Loss: 1.7589 | R² per node: [0.14443111419677734, -5963.46630859375, -13.050740242004395, -1.6248524188995361, 0.8048540353775024, -36.3685302734375, -97.10221099853516]\n"
     ]
    },
    {
     "name": "stdout",
     "output_type": "stream",
     "text": [
      "Epoch 00116: reducing learning rate of group 0 to 3.0518e-08.\n"
     ]
    },
    {
     "name": "stderr",
     "output_type": "stream",
     "text": [
      "[2025-01-26 15:03:20] INFO: Epoch 117/1000 - Adjacency: hybrid - Train Loss: 0.0170 | Val Loss: 1.7592 | R² per node: [0.14475655555725098, -6140.5693359375, -13.191522598266602, -1.678281307220459, 0.8020187616348267, -37.57423782348633, -98.31074523925781]\n",
      "[2025-01-26 15:03:20] INFO: Epoch 118/1000 - Adjacency: hybrid - Train Loss: 0.0173 | Val Loss: 1.7593 | R² per node: [0.1445595622062683, -6053.63134765625, -13.48945426940918, -1.7254362106323242, 0.80001300573349, -37.544677734375, -99.50054168701172]\n",
      "[2025-01-26 15:03:21] INFO: Epoch 119/1000 - Adjacency: hybrid - Train Loss: 0.0174 | Val Loss: 1.7590 | R² per node: [0.14421701431274414, -5833.45556640625, -13.5084228515625, -1.7101666927337646, 0.8031227588653564, -37.137718200683594, -100.54071807861328]\n",
      "[2025-01-26 15:03:21] INFO: Epoch 120/1000 - Adjacency: hybrid - Train Loss: 0.0171 | Val Loss: 1.7582 | R² per node: [0.14418494701385498, -5686.6748046875, -12.69564437866211, -1.5575432777404785, 0.7991772890090942, -35.64606857299805, -94.89242553710938]\n"
     ]
    },
    {
     "name": "stdout",
     "output_type": "stream",
     "text": [
      "Epoch 00120: reducing learning rate of group 0 to 1.5259e-08.\n"
     ]
    },
    {
     "name": "stderr",
     "output_type": "stream",
     "text": [
      "[2025-01-26 15:03:22] INFO: Epoch 121/1000 - Adjacency: hybrid - Train Loss: 0.0169 | Val Loss: 1.7623 | R² per node: [0.14423656463623047, -6568.37109375, -14.237126350402832, -1.8934321403503418, 0.8056808114051819, -39.84437561035156, -105.50212097167969]\n",
      "[2025-01-26 15:03:22] INFO: Epoch 122/1000 - Adjacency: hybrid - Train Loss: 0.0171 | Val Loss: 1.7583 | R² per node: [0.14422309398651123, -5670.3125, -13.364354133605957, -1.6740970611572266, 0.7994972467422485, -36.63167190551758, -99.66191101074219]\n",
      "[2025-01-26 15:03:22] INFO: Epoch 123/1000 - Adjacency: hybrid - Train Loss: 0.0174 | Val Loss: 1.7612 | R² per node: [0.1443902850151062, -6452.22900390625, -13.740283966064453, -1.7696802616119385, 0.809879720211029, -38.83417892456055, -102.08312225341797]\n",
      "[2025-01-26 15:03:23] INFO: Epoch 124/1000 - Adjacency: hybrid - Train Loss: 0.0172 | Val Loss: 1.7610 | R² per node: [0.14458340406417847, -6340.58984375, -14.182707786560059, -1.901463270187378, 0.7925227880477905, -39.70914840698242, -104.59811401367188]\n",
      "[2025-01-26 15:03:23] INFO: Early stopping triggered.\n",
      "[2025-01-26 15:03:23] INFO: Saved loss curves -> c:\\Users\\ajaoo\\Desktop\\Projects\\GNN_spatiotemporal_project\\figures\\experiment3_hybrid_h3\\training_validation_loss\\train_val_loss_experiment3_hybrid_h3.png\n",
      "[2025-01-26 15:03:23] INFO: Experiment 3, Adjacency=hybrid, Horizon=3 => Test MSE: 0.0064\n",
      "[2025-01-26 15:03:23] INFO: Final model saved -> c:\\Users\\ajaoo\\Desktop\\Projects\\GNN_spatiotemporal_project\\models\\experiment3_hybrid_h3\\epignn_final_model.pth\n",
      "[2025-01-26 15:03:23] INFO: \n",
      "=== Starting experiments for horizon=7 ===\n",
      "[2025-01-26 15:03:23] INFO: \n",
      "--- Experiment 4: Adjacency Type = static, Horizon = 7 ---\n",
      "[2025-01-26 15:03:24] INFO: Epoch 1/1000 - Adjacency: static - Train Loss: 0.8467 | Val Loss: 3.2092 | R² per node: [-0.5591470003128052, -5600.35888671875, -312.28607177734375, -116.89197540283203, -1.3063185214996338, -147.8084259033203, -1913.9228515625]\n",
      "[2025-01-26 15:03:24] INFO: [BEST] Saved model -> c:\\Users\\ajaoo\\Desktop\\Projects\\GNN_spatiotemporal_project\\models\\experiment4_static_h7\\best_model.pth\n",
      "[2025-01-26 15:03:24] INFO: Epoch 2/1000 - Adjacency: static - Train Loss: 0.2476 | Val Loss: 2.7184 | R² per node: [-0.3392167091369629, -6332.0380859375, -139.94509887695312, -35.22852325439453, 0.17038345336914062, -56.34364700317383, -594.0240478515625]\n",
      "[2025-01-26 15:03:24] INFO: [BEST] Saved model -> c:\\Users\\ajaoo\\Desktop\\Projects\\GNN_spatiotemporal_project\\models\\experiment4_static_h7\\best_model.pth\n",
      "[2025-01-26 15:03:25] INFO: Epoch 3/1000 - Adjacency: static - Train Loss: 0.1391 | Val Loss: 2.4460 | R² per node: [-0.20864319801330566, -6224.96044921875, -146.48814392089844, -13.12569522857666, 0.48698824644088745, -31.8387451171875, -329.7749938964844]\n",
      "[2025-01-26 15:03:25] INFO: [BEST] Saved model -> c:\\Users\\ajaoo\\Desktop\\Projects\\GNN_spatiotemporal_project\\models\\experiment4_static_h7\\best_model.pth\n",
      "[2025-01-26 15:03:25] INFO: Epoch 4/1000 - Adjacency: static - Train Loss: 0.1066 | Val Loss: 2.3532 | R² per node: [-0.1697150468826294, -4316.39892578125, -99.0155029296875, -5.072068691253662, 0.2645796537399292, -10.76484203338623, -200.25120544433594]\n",
      "[2025-01-26 15:03:25] INFO: [BEST] Saved model -> c:\\Users\\ajaoo\\Desktop\\Projects\\GNN_spatiotemporal_project\\models\\experiment4_static_h7\\best_model.pth\n",
      "[2025-01-26 15:03:25] INFO: Epoch 5/1000 - Adjacency: static - Train Loss: 0.0975 | Val Loss: 2.2931 | R² per node: [-0.14158499240875244, -3548.4541015625, -91.39830017089844, -4.614792823791504, 0.37665027379989624, -11.887628555297852, -296.05218505859375]\n",
      "[2025-01-26 15:03:25] INFO: [BEST] Saved model -> c:\\Users\\ajaoo\\Desktop\\Projects\\GNN_spatiotemporal_project\\models\\experiment4_static_h7\\best_model.pth\n",
      "[2025-01-26 15:03:26] INFO: Epoch 6/1000 - Adjacency: static - Train Loss: 0.0872 | Val Loss: 2.2324 | R² per node: [-0.10699069499969482, -5153.62744140625, -117.7934799194336, -3.3415393829345703, 0.5287368297576904, -18.899402618408203, -344.16107177734375]\n",
      "[2025-01-26 15:03:26] INFO: [BEST] Saved model -> c:\\Users\\ajaoo\\Desktop\\Projects\\GNN_spatiotemporal_project\\models\\experiment4_static_h7\\best_model.pth\n",
      "[2025-01-26 15:03:26] INFO: Epoch 7/1000 - Adjacency: static - Train Loss: 0.0817 | Val Loss: 2.2173 | R² per node: [-0.10303401947021484, -3095.8388671875, -113.1672134399414, -3.1587891578674316, 0.35126829147338867, -17.648479461669922, -369.9375915527344]\n",
      "[2025-01-26 15:03:26] INFO: [BEST] Saved model -> c:\\Users\\ajaoo\\Desktop\\Projects\\GNN_spatiotemporal_project\\models\\experiment4_static_h7\\best_model.pth\n",
      "[2025-01-26 15:03:26] INFO: Epoch 8/1000 - Adjacency: static - Train Loss: 0.0776 | Val Loss: 2.1459 | R² per node: [-0.06857562065124512, -3087.166259765625, -94.09485626220703, -1.7316479682922363, 0.4277884364128113, -15.283622741699219, -274.46063232421875]\n",
      "[2025-01-26 15:03:26] INFO: [BEST] Saved model -> c:\\Users\\ajaoo\\Desktop\\Projects\\GNN_spatiotemporal_project\\models\\experiment4_static_h7\\best_model.pth\n",
      "[2025-01-26 15:03:27] INFO: Epoch 9/1000 - Adjacency: static - Train Loss: 0.0756 | Val Loss: 2.1762 | R² per node: [-0.08463132381439209, -2936.650146484375, -52.073001861572266, -1.596529245376587, -0.010048627853393555, -7.29732608795166, -158.3406982421875]\n",
      "[2025-01-26 15:03:27] INFO: Epoch 10/1000 - Adjacency: static - Train Loss: 0.0718 | Val Loss: 2.1056 | R² per node: [-0.04195451736450195, -5078.55419921875, -133.293212890625, -5.718644618988037, 0.760824978351593, -24.277475357055664, -465.4355163574219]\n",
      "[2025-01-26 15:03:27] INFO: [BEST] Saved model -> c:\\Users\\ajaoo\\Desktop\\Projects\\GNN_spatiotemporal_project\\models\\experiment4_static_h7\\best_model.pth\n",
      "[2025-01-26 15:03:28] INFO: Epoch 11/1000 - Adjacency: static - Train Loss: 0.0668 | Val Loss: 2.0538 | R² per node: [-0.02182745933532715, -3032.5693359375, -100.89266967773438, -4.061626434326172, 0.6838851571083069, -18.331201553344727, -324.44512939453125]\n",
      "[2025-01-26 15:03:28] INFO: [BEST] Saved model -> c:\\Users\\ajaoo\\Desktop\\Projects\\GNN_spatiotemporal_project\\models\\experiment4_static_h7\\best_model.pth\n",
      "[2025-01-26 15:03:28] INFO: Epoch 12/1000 - Adjacency: static - Train Loss: 0.0659 | Val Loss: 2.0253 | R² per node: [-0.0091475248336792, -3247.722900390625, -74.84014892578125, -1.6193246841430664, 0.7384089231491089, -16.79606056213379, -227.63934326171875]\n",
      "[2025-01-26 15:03:28] INFO: [BEST] Saved model -> c:\\Users\\ajaoo\\Desktop\\Projects\\GNN_spatiotemporal_project\\models\\experiment4_static_h7\\best_model.pth\n",
      "[2025-01-26 15:03:29] INFO: Epoch 13/1000 - Adjacency: static - Train Loss: 0.0655 | Val Loss: 2.0350 | R² per node: [-0.015317678451538086, -3418.452392578125, -40.95232009887695, -0.9782164096832275, 0.548843502998352, -6.146961212158203, -121.31927490234375]\n",
      "[2025-01-26 15:03:29] INFO: Epoch 14/1000 - Adjacency: static - Train Loss: 0.0613 | Val Loss: 1.9579 | R² per node: [0.02492821216583252, -2207.433837890625, -96.83191680908203, -3.9381022453308105, 0.7183992862701416, -25.835161209106445, -296.6763000488281]\n",
      "[2025-01-26 15:03:29] INFO: [BEST] Saved model -> c:\\Users\\ajaoo\\Desktop\\Projects\\GNN_spatiotemporal_project\\models\\experiment4_static_h7\\best_model.pth\n",
      "[2025-01-26 15:03:29] INFO: Epoch 15/1000 - Adjacency: static - Train Loss: 0.0600 | Val Loss: 1.9475 | R² per node: [0.02727663516998291, -2343.7109375, -54.195865631103516, -1.5424225330352783, 0.6930191516876221, -12.517823219299316, -152.74066162109375]\n",
      "[2025-01-26 15:03:29] INFO: [BEST] Saved model -> c:\\Users\\ajaoo\\Desktop\\Projects\\GNN_spatiotemporal_project\\models\\experiment4_static_h7\\best_model.pth\n",
      "[2025-01-26 15:03:30] INFO: Epoch 16/1000 - Adjacency: static - Train Loss: 0.0594 | Val Loss: 1.9358 | R² per node: [0.03232854604721069, -1868.170166015625, -55.370845794677734, -1.5209534168243408, 0.6967885494232178, -12.147417068481445, -143.64926147460938]\n",
      "[2025-01-26 15:03:30] INFO: [BEST] Saved model -> c:\\Users\\ajaoo\\Desktop\\Projects\\GNN_spatiotemporal_project\\models\\experiment4_static_h7\\best_model.pth\n",
      "[2025-01-26 15:03:30] INFO: Epoch 17/1000 - Adjacency: static - Train Loss: 0.0588 | Val Loss: 1.8730 | R² per node: [0.06551611423492432, -1750.205322265625, -59.712013244628906, -2.8087754249572754, 0.6963083744049072, -13.46142578125, -170.45504760742188]\n",
      "[2025-01-26 15:03:30] INFO: [BEST] Saved model -> c:\\Users\\ajaoo\\Desktop\\Projects\\GNN_spatiotemporal_project\\models\\experiment4_static_h7\\best_model.pth\n",
      "[2025-01-26 15:03:31] INFO: Epoch 18/1000 - Adjacency: static - Train Loss: 0.0561 | Val Loss: 1.8682 | R² per node: [0.07260233163833618, -2674.703857421875, -100.34941864013672, -8.149395942687988, 0.7588592171669006, -34.060611724853516, -362.36138916015625]\n",
      "[2025-01-26 15:03:31] INFO: [BEST] Saved model -> c:\\Users\\ajaoo\\Desktop\\Projects\\GNN_spatiotemporal_project\\models\\experiment4_static_h7\\best_model.pth\n",
      "[2025-01-26 15:03:31] INFO: Epoch 19/1000 - Adjacency: static - Train Loss: 0.0524 | Val Loss: 1.8602 | R² per node: [0.06996244192123413, -2098.302001953125, -40.223636627197266, -1.2615575790405273, 0.7491890788078308, -11.493024826049805, -96.86579132080078]\n",
      "[2025-01-26 15:03:31] INFO: [BEST] Saved model -> c:\\Users\\ajaoo\\Desktop\\Projects\\GNN_spatiotemporal_project\\models\\experiment4_static_h7\\best_model.pth\n",
      "[2025-01-26 15:03:31] INFO: Epoch 20/1000 - Adjacency: static - Train Loss: 0.0520 | Val Loss: 1.8438 | R² per node: [0.08349579572677612, -3274.18603515625, -66.61895751953125, -5.045534133911133, 0.7371314764022827, -22.162004470825195, -225.93287658691406]\n",
      "[2025-01-26 15:03:31] INFO: [BEST] Saved model -> c:\\Users\\ajaoo\\Desktop\\Projects\\GNN_spatiotemporal_project\\models\\experiment4_static_h7\\best_model.pth\n",
      "[2025-01-26 15:03:32] INFO: Epoch 21/1000 - Adjacency: static - Train Loss: 0.0514 | Val Loss: 1.8131 | R² per node: [0.09902000427246094, -3410.072265625, -49.335113525390625, -3.4768295288085938, 0.6960135102272034, -18.023197174072266, -144.6485137939453]\n",
      "[2025-01-26 15:03:32] INFO: [BEST] Saved model -> c:\\Users\\ajaoo\\Desktop\\Projects\\GNN_spatiotemporal_project\\models\\experiment4_static_h7\\best_model.pth\n",
      "[2025-01-26 15:03:32] INFO: Epoch 22/1000 - Adjacency: static - Train Loss: 0.0501 | Val Loss: 1.7992 | R² per node: [0.10131967067718506, -1885.240478515625, -46.51288986206055, -2.3984696865081787, 0.6877976655960083, -14.845425605773926, -147.01524353027344]\n",
      "[2025-01-26 15:03:32] INFO: [BEST] Saved model -> c:\\Users\\ajaoo\\Desktop\\Projects\\GNN_spatiotemporal_project\\models\\experiment4_static_h7\\best_model.pth\n",
      "[2025-01-26 15:03:32] INFO: Epoch 23/1000 - Adjacency: static - Train Loss: 0.0476 | Val Loss: 1.8124 | R² per node: [0.09517836570739746, -2429.608154296875, -40.98744201660156, -1.4288883209228516, 0.6610528230667114, -14.718826293945312, -111.94931030273438]\n",
      "[2025-01-26 15:03:33] INFO: Epoch 24/1000 - Adjacency: static - Train Loss: 0.0501 | Val Loss: 1.8387 | R² per node: [0.08268415927886963, -2661.040771484375, -35.12940979003906, -1.6379363536834717, 0.5608088374137878, -13.406227111816406, -107.32915496826172]\n",
      "[2025-01-26 15:03:33] INFO: Epoch 25/1000 - Adjacency: static - Train Loss: 0.0490 | Val Loss: 1.7751 | R² per node: [0.11580628156661987, -3159.054443359375, -31.43665313720703, -1.8190324306488037, 0.6913508176803589, -17.470670700073242, -105.45826721191406]\n",
      "[2025-01-26 15:03:33] INFO: [BEST] Saved model -> c:\\Users\\ajaoo\\Desktop\\Projects\\GNN_spatiotemporal_project\\models\\experiment4_static_h7\\best_model.pth\n",
      "[2025-01-26 15:03:34] INFO: Epoch 26/1000 - Adjacency: static - Train Loss: 0.0467 | Val Loss: 1.7876 | R² per node: [0.10942763090133667, -3294.22998046875, -31.97100067138672, -2.6380131244659424, 0.6419162750244141, -16.150657653808594, -127.53471374511719]\n",
      "[2025-01-26 15:03:34] INFO: Epoch 27/1000 - Adjacency: static - Train Loss: 0.0500 | Val Loss: 1.7890 | R² per node: [0.10483437776565552, -1883.3033447265625, -14.50062370300293, -0.8084126710891724, 0.587382435798645, -10.01536750793457, -48.096778869628906]\n",
      "[2025-01-26 15:03:34] INFO: Epoch 28/1000 - Adjacency: static - Train Loss: 0.0458 | Val Loss: 1.7494 | R² per node: [0.13219451904296875, -5155.6796875, -33.47364807128906, -2.9851560592651367, 0.7021493911743164, -17.561416625976562, -130.82742309570312]\n",
      "[2025-01-26 15:03:34] INFO: [BEST] Saved model -> c:\\Users\\ajaoo\\Desktop\\Projects\\GNN_spatiotemporal_project\\models\\experiment4_static_h7\\best_model.pth\n",
      "[2025-01-26 15:03:35] INFO: Epoch 29/1000 - Adjacency: static - Train Loss: 0.0449 | Val Loss: 1.7364 | R² per node: [0.1353166699409485, -2946.46044921875, -33.48723220825195, -3.3350625038146973, 0.7321513891220093, -24.72689437866211, -119.42646789550781]\n",
      "[2025-01-26 15:03:35] INFO: [BEST] Saved model -> c:\\Users\\ajaoo\\Desktop\\Projects\\GNN_spatiotemporal_project\\models\\experiment4_static_h7\\best_model.pth\n",
      "[2025-01-26 15:03:35] INFO: Epoch 30/1000 - Adjacency: static - Train Loss: 0.0425 | Val Loss: 1.8002 | R² per node: [0.10126721858978271, -2974.331787109375, -12.898399353027344, -0.7794152498245239, 0.6633367538452148, -13.409491539001465, -49.13738250732422]\n",
      "[2025-01-26 15:03:35] INFO: Epoch 31/1000 - Adjacency: static - Train Loss: 0.0425 | Val Loss: 1.7592 | R² per node: [0.13009732961654663, -3512.38525390625, -73.04339599609375, -9.84920597076416, 0.6471847295761108, -47.944393157958984, -311.47589111328125]\n",
      "[2025-01-26 15:03:36] INFO: Epoch 32/1000 - Adjacency: static - Train Loss: 0.0413 | Val Loss: 1.7656 | R² per node: [0.12987631559371948, -4310.369140625, -81.86978912353516, -12.973639488220215, 0.6023504137992859, -57.16935729980469, -380.3441467285156]\n",
      "[2025-01-26 15:03:36] INFO: Epoch 33/1000 - Adjacency: static - Train Loss: 0.0476 | Val Loss: 1.6865 | R² per node: [0.15659040212631226, -1598.2559814453125, -22.082592010498047, -3.9014320373535156, 0.7028313279151917, -14.392242431640625, -119.87950134277344]\n",
      "[2025-01-26 15:03:36] INFO: [BEST] Saved model -> c:\\Users\\ajaoo\\Desktop\\Projects\\GNN_spatiotemporal_project\\models\\experiment4_static_h7\\best_model.pth\n",
      "[2025-01-26 15:03:37] INFO: Epoch 34/1000 - Adjacency: static - Train Loss: 0.0408 | Val Loss: 1.7177 | R² per node: [0.1522209644317627, -4185.68701171875, -80.4190444946289, -11.568879127502441, 0.7060981392860413, -58.30144119262695, -389.2624206542969]\n",
      "[2025-01-26 15:03:37] INFO: Epoch 35/1000 - Adjacency: static - Train Loss: 0.0397 | Val Loss: 1.7026 | R² per node: [0.15123498439788818, -3045.4814453125, -15.937721252441406, -2.1088805198669434, 0.7117952108383179, -20.670291900634766, -76.59810638427734]\n",
      "[2025-01-26 15:03:37] INFO: Epoch 36/1000 - Adjacency: static - Train Loss: 0.0383 | Val Loss: 1.7130 | R² per node: [0.14665663242340088, -3083.7275390625, -26.998619079589844, -2.529782772064209, 0.7207779288291931, -29.088973999023438, -107.44451904296875]\n",
      "[2025-01-26 15:03:38] INFO: Epoch 37/1000 - Adjacency: static - Train Loss: 0.0375 | Val Loss: 1.7197 | R² per node: [0.1412510871887207, -2017.0543212890625, -27.37209129333496, -2.71177077293396, 0.7224568128585815, -25.641908645629883, -107.04057312011719]\n"
     ]
    },
    {
     "name": "stdout",
     "output_type": "stream",
     "text": [
      "Epoch 00037: reducing learning rate of group 0 to 5.0000e-04.\n"
     ]
    },
    {
     "name": "stderr",
     "output_type": "stream",
     "text": [
      "[2025-01-26 15:03:38] INFO: Epoch 38/1000 - Adjacency: static - Train Loss: 0.0351 | Val Loss: 1.7574 | R² per node: [0.12460142374038696, -2751.850341796875, -33.54304885864258, -3.6337294578552246, 0.6897919178009033, -33.78289794921875, -147.57093811035156]\n",
      "[2025-01-26 15:03:39] INFO: Epoch 39/1000 - Adjacency: static - Train Loss: 0.0363 | Val Loss: 1.6933 | R² per node: [0.15893018245697021, -3577.45947265625, -37.447059631347656, -4.610686302185059, 0.7296954393386841, -36.313629150390625, -164.84976196289062]\n",
      "[2025-01-26 15:03:39] INFO: Epoch 40/1000 - Adjacency: static - Train Loss: 0.0342 | Val Loss: 1.7083 | R² per node: [0.1493878960609436, -2896.069580078125, -29.780702590942383, -3.464604377746582, 0.7195849418640137, -30.915218353271484, -124.94039916992188]\n",
      "[2025-01-26 15:03:39] INFO: Epoch 41/1000 - Adjacency: static - Train Loss: 0.0354 | Val Loss: 1.7359 | R² per node: [0.13455229997634888, -3191.87890625, -19.334985733032227, -1.9116179943084717, 0.7062216997146606, -22.928998947143555, -74.83829498291016]\n"
     ]
    },
    {
     "name": "stdout",
     "output_type": "stream",
     "text": [
      "Epoch 00041: reducing learning rate of group 0 to 2.5000e-04.\n"
     ]
    },
    {
     "name": "stderr",
     "output_type": "stream",
     "text": [
      "[2025-01-26 15:03:40] INFO: Epoch 42/1000 - Adjacency: static - Train Loss: 0.0348 | Val Loss: 1.7269 | R² per node: [0.13816237449645996, -2796.511474609375, -16.364351272583008, -1.508023738861084, 0.7221474647521973, -22.701780319213867, -65.31890106201172]\n",
      "[2025-01-26 15:03:40] INFO: Epoch 43/1000 - Adjacency: static - Train Loss: 0.0334 | Val Loss: 1.7525 | R² per node: [0.12452930212020874, -2189.746337890625, -20.87807846069336, -2.482542037963867, 0.6866273880004883, -22.249406814575195, -92.18797302246094]\n",
      "[2025-01-26 15:03:41] INFO: Epoch 44/1000 - Adjacency: static - Train Loss: 0.0326 | Val Loss: 1.7075 | R² per node: [0.15037137269973755, -3037.80810546875, -32.81893539428711, -4.16199254989624, 0.7004983425140381, -33.040077209472656, -143.1228790283203]\n",
      "[2025-01-26 15:03:41] INFO: Epoch 45/1000 - Adjacency: static - Train Loss: 0.0326 | Val Loss: 1.6842 | R² per node: [0.16123563051223755, -2874.54443359375, -28.369421005249023, -3.6155428886413574, 0.7258728742599487, -29.5168399810791, -119.52025604248047]\n",
      "[2025-01-26 15:03:41] INFO: [BEST] Saved model -> c:\\Users\\ajaoo\\Desktop\\Projects\\GNN_spatiotemporal_project\\models\\experiment4_static_h7\\best_model.pth\n",
      "[2025-01-26 15:03:41] INFO: Epoch 46/1000 - Adjacency: static - Train Loss: 0.0339 | Val Loss: 1.6793 | R² per node: [0.1651739478111267, -3077.2333984375, -35.123680114746094, -4.665793418884277, 0.7229870557785034, -35.048133850097656, -156.30938720703125]\n",
      "[2025-01-26 15:03:41] INFO: [BEST] Saved model -> c:\\Users\\ajaoo\\Desktop\\Projects\\GNN_spatiotemporal_project\\models\\experiment4_static_h7\\best_model.pth\n",
      "[2025-01-26 15:03:42] INFO: Epoch 47/1000 - Adjacency: static - Train Loss: 0.0334 | Val Loss: 1.6998 | R² per node: [0.15435093641281128, -3118.545654296875, -32.831607818603516, -4.385891914367676, 0.7304716110229492, -34.7538948059082, -146.17176818847656]\n",
      "[2025-01-26 15:03:42] INFO: Epoch 48/1000 - Adjacency: static - Train Loss: 0.0313 | Val Loss: 1.6876 | R² per node: [0.16138994693756104, -3235.650390625, -35.0687370300293, -4.794369697570801, 0.7290913462638855, -38.42616271972656, -159.173583984375]\n",
      "[2025-01-26 15:03:42] INFO: Epoch 49/1000 - Adjacency: static - Train Loss: 0.0315 | Val Loss: 1.6931 | R² per node: [0.1579751968383789, -2955.74267578125, -37.84164047241211, -5.564651012420654, 0.7298895120620728, -35.908695220947266, -171.4325714111328]\n",
      "[2025-01-26 15:03:43] INFO: Epoch 50/1000 - Adjacency: static - Train Loss: 0.0305 | Val Loss: 1.6927 | R² per node: [0.1566266417503357, -2900.52587890625, -25.023372650146484, -3.1047658920288086, 0.7199243307113647, -28.91133689880371, -106.11791229248047]\n"
     ]
    },
    {
     "name": "stdout",
     "output_type": "stream",
     "text": [
      "Epoch 00050: reducing learning rate of group 0 to 1.2500e-04.\n"
     ]
    },
    {
     "name": "stderr",
     "output_type": "stream",
     "text": [
      "[2025-01-26 15:03:43] INFO: Epoch 51/1000 - Adjacency: static - Train Loss: 0.0329 | Val Loss: 1.7110 | R² per node: [0.147577166557312, -2881.34375, -26.68120765686035, -3.619058609008789, 0.7333146333694458, -29.90383529663086, -114.63277435302734]\n",
      "[2025-01-26 15:03:44] INFO: Epoch 52/1000 - Adjacency: static - Train Loss: 0.0330 | Val Loss: 1.6966 | R² per node: [0.15513473749160767, -2946.772216796875, -27.00507354736328, -3.6840462684631348, 0.7199179530143738, -30.10476303100586, -121.04296112060547]\n",
      "[2025-01-26 15:03:44] INFO: Epoch 53/1000 - Adjacency: static - Train Loss: 0.0306 | Val Loss: 1.7045 | R² per node: [0.15153884887695312, -3082.92041015625, -28.40256118774414, -4.010455131530762, 0.7214546203613281, -30.428083419799805, -123.54674530029297]\n",
      "[2025-01-26 15:03:44] INFO: Epoch 54/1000 - Adjacency: static - Train Loss: 0.0315 | Val Loss: 1.6939 | R² per node: [0.15678632259368896, -3047.85498046875, -28.899023056030273, -4.0710978507995605, 0.7281980514526367, -30.714618682861328, -126.16764831542969]\n"
     ]
    },
    {
     "name": "stdout",
     "output_type": "stream",
     "text": [
      "Epoch 00054: reducing learning rate of group 0 to 6.2500e-05.\n"
     ]
    },
    {
     "name": "stderr",
     "output_type": "stream",
     "text": [
      "[2025-01-26 15:03:45] INFO: Epoch 55/1000 - Adjacency: static - Train Loss: 0.0310 | Val Loss: 1.7005 | R² per node: [0.1527959108352661, -2890.177734375, -24.629907608032227, -3.236110210418701, 0.7054749727249146, -28.08622932434082, -108.47955322265625]\n",
      "[2025-01-26 15:03:45] INFO: Epoch 56/1000 - Adjacency: static - Train Loss: 0.0315 | Val Loss: 1.7006 | R² per node: [0.15261781215667725, -2878.256591796875, -25.040346145629883, -3.424077033996582, 0.7240017652511597, -27.662973403930664, -107.87574768066406]\n",
      "[2025-01-26 15:03:45] INFO: Epoch 57/1000 - Adjacency: static - Train Loss: 0.0323 | Val Loss: 1.7114 | R² per node: [0.14760839939117432, -2994.88916015625, -25.59259605407715, -3.564037322998047, 0.7169924974441528, -29.2847900390625, -115.14453887939453]\n",
      "[2025-01-26 15:03:46] INFO: Epoch 58/1000 - Adjacency: static - Train Loss: 0.0307 | Val Loss: 1.6977 | R² per node: [0.1543462872505188, -2904.11376953125, -26.055320739746094, -3.8147950172424316, 0.7430033683776855, -28.98383903503418, -112.27481842041016]\n"
     ]
    },
    {
     "name": "stdout",
     "output_type": "stream",
     "text": [
      "Epoch 00058: reducing learning rate of group 0 to 3.1250e-05.\n"
     ]
    },
    {
     "name": "stderr",
     "output_type": "stream",
     "text": [
      "[2025-01-26 15:03:46] INFO: Epoch 59/1000 - Adjacency: static - Train Loss: 0.0309 | Val Loss: 1.7073 | R² per node: [0.14962303638458252, -3001.60693359375, -25.917335510253906, -3.7423582077026367, 0.7358977794647217, -30.042539596557617, -114.5562744140625]\n",
      "[2025-01-26 15:03:47] INFO: Epoch 60/1000 - Adjacency: static - Train Loss: 0.0306 | Val Loss: 1.6989 | R² per node: [0.15371310710906982, -2906.82568359375, -26.204944610595703, -3.797151565551758, 0.7296539545059204, -28.55411720275879, -115.27700805664062]\n",
      "[2025-01-26 15:03:47] INFO: Epoch 61/1000 - Adjacency: static - Train Loss: 0.0305 | Val Loss: 1.7009 | R² per node: [0.15293467044830322, -3025.286865234375, -25.072940826416016, -3.6011099815368652, 0.7375590801239014, -30.720623016357422, -112.60459899902344]\n",
      "[2025-01-26 15:03:47] INFO: Epoch 62/1000 - Adjacency: static - Train Loss: 0.0301 | Val Loss: 1.7000 | R² per node: [0.15312832593917847, -2966.037841796875, -24.41537857055664, -3.381025791168213, 0.7201009392738342, -28.374658584594727, -109.04841613769531]\n"
     ]
    },
    {
     "name": "stdout",
     "output_type": "stream",
     "text": [
      "Epoch 00062: reducing learning rate of group 0 to 1.5625e-05.\n"
     ]
    },
    {
     "name": "stderr",
     "output_type": "stream",
     "text": [
      "[2025-01-26 15:03:48] INFO: Epoch 63/1000 - Adjacency: static - Train Loss: 0.0311 | Val Loss: 1.6978 | R² per node: [0.1545291543006897, -3008.7177734375, -26.739606857299805, -3.852637767791748, 0.7290924191474915, -30.558807373046875, -121.47338104248047]\n",
      "[2025-01-26 15:03:48] INFO: Epoch 64/1000 - Adjacency: static - Train Loss: 0.0309 | Val Loss: 1.6976 | R² per node: [0.15465092658996582, -2969.61376953125, -27.5098876953125, -4.074705123901367, 0.7334755659103394, -30.280054092407227, -122.42713928222656]\n",
      "[2025-01-26 15:03:48] INFO: Epoch 65/1000 - Adjacency: static - Train Loss: 0.0308 | Val Loss: 1.6991 | R² per node: [0.15378975868225098, -3006.167724609375, -25.84359359741211, -3.7270803451538086, 0.7338763475418091, -29.760684967041016, -115.1738510131836]\n",
      "[2025-01-26 15:03:49] INFO: Epoch 66/1000 - Adjacency: static - Train Loss: 0.0297 | Val Loss: 1.6949 | R² per node: [0.15547704696655273, -2860.916259765625, -25.04330825805664, -3.4756622314453125, 0.7172106504440308, -28.171844482421875, -113.3402328491211]\n",
      "[2025-01-26 15:03:49] INFO: Early stopping triggered.\n"
     ]
    },
    {
     "name": "stdout",
     "output_type": "stream",
     "text": [
      "Epoch 00066: reducing learning rate of group 0 to 7.8125e-06.\n"
     ]
    },
    {
     "name": "stderr",
     "output_type": "stream",
     "text": [
      "[2025-01-26 15:03:49] INFO: Saved loss curves -> c:\\Users\\ajaoo\\Desktop\\Projects\\GNN_spatiotemporal_project\\figures\\experiment4_static_h7\\training_validation_loss\\train_val_loss_experiment4_static_h7.png\n",
      "[2025-01-26 15:03:49] INFO: Experiment 4, Adjacency=static, Horizon=7 => Test MSE: 0.0165\n",
      "[2025-01-26 15:03:49] INFO: Final model saved -> c:\\Users\\ajaoo\\Desktop\\Projects\\GNN_spatiotemporal_project\\models\\experiment4_static_h7\\epignn_final_model.pth\n",
      "[2025-01-26 15:03:49] INFO: \n",
      "--- Experiment 5: Adjacency Type = dynamic, Horizon = 7 ---\n",
      "[2025-01-26 15:03:50] INFO: Epoch 1/1000 - Adjacency: dynamic - Train Loss: 0.4389 | Val Loss: 3.0802 | R² per node: [-0.5081748962402344, -9680.4150390625, -102.80038452148438, -35.35722732543945, -0.6073139905929565, -78.87454223632812, -1416.95947265625]\n",
      "[2025-01-26 15:03:50] INFO: [BEST] Saved model -> c:\\Users\\ajaoo\\Desktop\\Projects\\GNN_spatiotemporal_project\\models\\experiment5_dynamic_h7\\best_model.pth\n",
      "[2025-01-26 15:03:50] INFO: Epoch 2/1000 - Adjacency: dynamic - Train Loss: 0.1837 | Val Loss: 2.6213 | R² per node: [-0.2863454818725586, -1808.510498046875, -20.59918212890625, -7.6690168380737305, -1.1796894073486328, -23.451644897460938, -417.6407470703125]\n",
      "[2025-01-26 15:03:50] INFO: [BEST] Saved model -> c:\\Users\\ajaoo\\Desktop\\Projects\\GNN_spatiotemporal_project\\models\\experiment5_dynamic_h7\\best_model.pth\n",
      "[2025-01-26 15:03:51] INFO: Epoch 3/1000 - Adjacency: dynamic - Train Loss: 0.1319 | Val Loss: 2.4311 | R² per node: [-0.2023845911026001, -2325.629638671875, -36.080352783203125, -14.418821334838867, 0.48952239751815796, -37.53639602661133, -613.6996459960938]\n",
      "[2025-01-26 15:03:51] INFO: [BEST] Saved model -> c:\\Users\\ajaoo\\Desktop\\Projects\\GNN_spatiotemporal_project\\models\\experiment5_dynamic_h7\\best_model.pth\n",
      "[2025-01-26 15:03:51] INFO: Epoch 4/1000 - Adjacency: dynamic - Train Loss: 0.0998 | Val Loss: 2.3057 | R² per node: [-0.14948713779449463, -2455.502685546875, -47.52374267578125, -17.704303741455078, 0.6067575216293335, -30.018535614013672, -648.6340942382812]\n",
      "[2025-01-26 15:03:51] INFO: [BEST] Saved model -> c:\\Users\\ajaoo\\Desktop\\Projects\\GNN_spatiotemporal_project\\models\\experiment5_dynamic_h7\\best_model.pth\n",
      "[2025-01-26 15:03:51] INFO: Epoch 5/1000 - Adjacency: dynamic - Train Loss: 0.0884 | Val Loss: 2.1977 | R² per node: [-0.09408092498779297, -3831.873779296875, -29.46228790283203, -12.69866943359375, 0.607014536857605, -27.18412208557129, -425.0954895019531]\n",
      "[2025-01-26 15:03:51] INFO: [BEST] Saved model -> c:\\Users\\ajaoo\\Desktop\\Projects\\GNN_spatiotemporal_project\\models\\experiment5_dynamic_h7\\best_model.pth\n",
      "[2025-01-26 15:03:52] INFO: Epoch 6/1000 - Adjacency: dynamic - Train Loss: 0.0827 | Val Loss: 2.1464 | R² per node: [-0.0713491439819336, -3199.9560546875, -21.2322998046875, -9.221248626708984, 0.7036450505256653, -21.208711624145508, -305.5287780761719]\n",
      "[2025-01-26 15:03:52] INFO: [BEST] Saved model -> c:\\Users\\ajaoo\\Desktop\\Projects\\GNN_spatiotemporal_project\\models\\experiment5_dynamic_h7\\best_model.pth\n",
      "[2025-01-26 15:03:52] INFO: Epoch 7/1000 - Adjacency: dynamic - Train Loss: 0.0751 | Val Loss: 2.1124 | R² per node: [-0.04984927177429199, -5548.4560546875, -20.269840240478516, -8.827548027038574, 0.7317060232162476, -24.02720069885254, -285.8173522949219]\n",
      "[2025-01-26 15:03:52] INFO: [BEST] Saved model -> c:\\Users\\ajaoo\\Desktop\\Projects\\GNN_spatiotemporal_project\\models\\experiment5_dynamic_h7\\best_model.pth\n",
      "[2025-01-26 15:03:53] INFO: Epoch 8/1000 - Adjacency: dynamic - Train Loss: 0.0690 | Val Loss: 2.0697 | R² per node: [-0.02246701717376709, -8020.0673828125, -30.19183921813965, -12.661335945129395, 0.7372024655342102, -35.37956619262695, -386.7764892578125]\n",
      "[2025-01-26 15:03:53] INFO: [BEST] Saved model -> c:\\Users\\ajaoo\\Desktop\\Projects\\GNN_spatiotemporal_project\\models\\experiment5_dynamic_h7\\best_model.pth\n",
      "[2025-01-26 15:03:53] INFO: Epoch 9/1000 - Adjacency: dynamic - Train Loss: 0.0664 | Val Loss: 2.0484 | R² per node: [-0.011196613311767578, -8599.798828125, -29.81317710876465, -11.81162166595459, 0.7505809664726257, -25.911584854125977, -362.4725036621094]\n",
      "[2025-01-26 15:03:53] INFO: [BEST] Saved model -> c:\\Users\\ajaoo\\Desktop\\Projects\\GNN_spatiotemporal_project\\models\\experiment5_dynamic_h7\\best_model.pth\n",
      "[2025-01-26 15:03:53] INFO: Epoch 10/1000 - Adjacency: dynamic - Train Loss: 0.0642 | Val Loss: 2.0072 | R² per node: [0.008826673030853271, -8295.98828125, -26.91260528564453, -10.965466499328613, 0.7266020178794861, -26.318378448486328, -340.6423034667969]\n",
      "[2025-01-26 15:03:53] INFO: [BEST] Saved model -> c:\\Users\\ajaoo\\Desktop\\Projects\\GNN_spatiotemporal_project\\models\\experiment5_dynamic_h7\\best_model.pth\n",
      "[2025-01-26 15:03:54] INFO: Epoch 11/1000 - Adjacency: dynamic - Train Loss: 0.0635 | Val Loss: 1.9783 | R² per node: [0.030782759189605713, -11205.947265625, -21.278959274291992, -7.944596290588379, 0.7361748218536377, -22.424013137817383, -244.31036376953125]\n",
      "[2025-01-26 15:03:54] INFO: [BEST] Saved model -> c:\\Users\\ajaoo\\Desktop\\Projects\\GNN_spatiotemporal_project\\models\\experiment5_dynamic_h7\\best_model.pth\n",
      "[2025-01-26 15:03:54] INFO: Epoch 12/1000 - Adjacency: dynamic - Train Loss: 0.0614 | Val Loss: 1.9169 | R² per node: [0.05331045389175415, -7733.28857421875, -24.635448455810547, -9.550535202026367, 0.7697381973266602, -23.08475685119629, -280.23944091796875]\n",
      "[2025-01-26 15:03:54] INFO: [BEST] Saved model -> c:\\Users\\ajaoo\\Desktop\\Projects\\GNN_spatiotemporal_project\\models\\experiment5_dynamic_h7\\best_model.pth\n",
      "[2025-01-26 15:03:55] INFO: Epoch 13/1000 - Adjacency: dynamic - Train Loss: 0.0604 | Val Loss: 1.9171 | R² per node: [0.044203877449035645, -3443.94482421875, -24.29733657836914, -9.711694717407227, 0.7716054916381836, -17.050451278686523, -277.7519836425781]\n",
      "[2025-01-26 15:03:55] INFO: Epoch 14/1000 - Adjacency: dynamic - Train Loss: 0.0560 | Val Loss: 1.8891 | R² per node: [0.06854778528213501, -8379.0947265625, -24.244651794433594, -9.449044227600098, 0.7034472227096558, -21.59030532836914, -278.1748046875]\n",
      "[2025-01-26 15:03:55] INFO: [BEST] Saved model -> c:\\Users\\ajaoo\\Desktop\\Projects\\GNN_spatiotemporal_project\\models\\experiment5_dynamic_h7\\best_model.pth\n",
      "[2025-01-26 15:03:55] INFO: Epoch 15/1000 - Adjacency: dynamic - Train Loss: 0.0561 | Val Loss: 1.8437 | R² per node: [0.0879705548286438, -6973.89404296875, -22.548887252807617, -8.053874015808105, 0.7463995218276978, -18.375286102294922, -232.46604919433594]\n",
      "[2025-01-26 15:03:55] INFO: [BEST] Saved model -> c:\\Users\\ajaoo\\Desktop\\Projects\\GNN_spatiotemporal_project\\models\\experiment5_dynamic_h7\\best_model.pth\n",
      "[2025-01-26 15:03:56] INFO: Epoch 16/1000 - Adjacency: dynamic - Train Loss: 0.0544 | Val Loss: 1.8512 | R² per node: [0.0906752347946167, -10705.392578125, -16.009883880615234, -5.748607635498047, 0.6211291551589966, -15.188386917114258, -167.8179931640625]\n",
      "[2025-01-26 15:03:56] INFO: Epoch 17/1000 - Adjacency: dynamic - Train Loss: 0.0505 | Val Loss: 1.7970 | R² per node: [0.12265598773956299, -12437.5341796875, -20.27625846862793, -7.202018737792969, 0.7403907775878906, -20.734189987182617, -215.44589233398438]\n",
      "[2025-01-26 15:03:56] INFO: [BEST] Saved model -> c:\\Users\\ajaoo\\Desktop\\Projects\\GNN_spatiotemporal_project\\models\\experiment5_dynamic_h7\\best_model.pth\n",
      "[2025-01-26 15:03:56] INFO: Epoch 18/1000 - Adjacency: dynamic - Train Loss: 0.0513 | Val Loss: 1.7984 | R² per node: [0.1138906478881836, -9011.453125, -15.911170959472656, -4.635251998901367, 0.6560143232345581, -9.28425121307373, -144.9624786376953]\n",
      "[2025-01-26 15:03:57] INFO: Epoch 19/1000 - Adjacency: dynamic - Train Loss: 0.0487 | Val Loss: 1.7735 | R² per node: [0.12361586093902588, -7702.7021484375, -12.12191390991211, -3.8658604621887207, 0.7011250853538513, -8.145550727844238, -119.27741241455078]\n",
      "[2025-01-26 15:03:57] INFO: [BEST] Saved model -> c:\\Users\\ajaoo\\Desktop\\Projects\\GNN_spatiotemporal_project\\models\\experiment5_dynamic_h7\\best_model.pth\n",
      "[2025-01-26 15:03:57] INFO: Epoch 20/1000 - Adjacency: dynamic - Train Loss: 0.0451 | Val Loss: 1.7357 | R² per node: [0.14249509572982788, -7058.8203125, -15.976018905639648, -5.946686744689941, 0.6944993138313293, -14.954004287719727, -174.47576904296875]\n",
      "[2025-01-26 15:03:57] INFO: [BEST] Saved model -> c:\\Users\\ajaoo\\Desktop\\Projects\\GNN_spatiotemporal_project\\models\\experiment5_dynamic_h7\\best_model.pth\n",
      "[2025-01-26 15:03:58] INFO: Epoch 21/1000 - Adjacency: dynamic - Train Loss: 0.0453 | Val Loss: 1.6819 | R² per node: [0.17203420400619507, -8380.91015625, -15.300853729248047, -4.609132289886475, 0.7300915718078613, -11.110552787780762, -137.98460388183594]\n",
      "[2025-01-26 15:03:58] INFO: [BEST] Saved model -> c:\\Users\\ajaoo\\Desktop\\Projects\\GNN_spatiotemporal_project\\models\\experiment5_dynamic_h7\\best_model.pth\n",
      "[2025-01-26 15:03:58] INFO: Epoch 22/1000 - Adjacency: dynamic - Train Loss: 0.0469 | Val Loss: 1.7289 | R² per node: [0.14247334003448486, -5642.30419921875, -14.413351058959961, -4.285573482513428, 0.5270267128944397, -9.584912300109863, -126.51250457763672]\n",
      "[2025-01-26 15:03:58] INFO: Epoch 23/1000 - Adjacency: dynamic - Train Loss: 0.0453 | Val Loss: 1.6626 | R² per node: [0.1817951202392578, -8665.701171875, -15.63847541809082, -6.019700527191162, 0.7548263072967529, -20.686918258666992, -162.58518981933594]\n",
      "[2025-01-26 15:03:58] INFO: [BEST] Saved model -> c:\\Users\\ajaoo\\Desktop\\Projects\\GNN_spatiotemporal_project\\models\\experiment5_dynamic_h7\\best_model.pth\n",
      "[2025-01-26 15:03:59] INFO: Epoch 24/1000 - Adjacency: dynamic - Train Loss: 0.0419 | Val Loss: 1.6060 | R² per node: [0.20960497856140137, -8205.8916015625, -19.37635040283203, -5.707317352294922, 0.7008470296859741, -12.578346252441406, -160.955322265625]\n",
      "[2025-01-26 15:03:59] INFO: [BEST] Saved model -> c:\\Users\\ajaoo\\Desktop\\Projects\\GNN_spatiotemporal_project\\models\\experiment5_dynamic_h7\\best_model.pth\n",
      "[2025-01-26 15:03:59] INFO: Epoch 25/1000 - Adjacency: dynamic - Train Loss: 0.0420 | Val Loss: 1.6006 | R² per node: [0.20924657583236694, -6916.486328125, -13.298748970031738, -3.8964295387268066, 0.638221263885498, -12.89252758026123, -114.83308410644531]\n",
      "[2025-01-26 15:03:59] INFO: [BEST] Saved model -> c:\\Users\\ajaoo\\Desktop\\Projects\\GNN_spatiotemporal_project\\models\\experiment5_dynamic_h7\\best_model.pth\n",
      "[2025-01-26 15:04:00] INFO: Epoch 26/1000 - Adjacency: dynamic - Train Loss: 0.0401 | Val Loss: 1.6036 | R² per node: [0.20708692073822021, -6309.11181640625, -15.624094009399414, -4.089931964874268, 0.5615794062614441, -13.542143821716309, -119.92247009277344]\n",
      "[2025-01-26 15:04:00] INFO: Epoch 27/1000 - Adjacency: dynamic - Train Loss: 0.0382 | Val Loss: 1.5346 | R² per node: [0.23865991830825806, -4812.55224609375, -17.422405242919922, -5.45394229888916, 0.7346805334091187, -12.806377410888672, -150.270751953125]\n",
      "[2025-01-26 15:04:00] INFO: [BEST] Saved model -> c:\\Users\\ajaoo\\Desktop\\Projects\\GNN_spatiotemporal_project\\models\\experiment5_dynamic_h7\\best_model.pth\n",
      "[2025-01-26 15:04:00] INFO: Epoch 28/1000 - Adjacency: dynamic - Train Loss: 0.0374 | Val Loss: 1.5261 | R² per node: [0.2425602674484253, -4607.75634765625, -17.872106552124023, -6.105932712554932, 0.7411611676216125, -14.904220581054688, -169.1945037841797]\n",
      "[2025-01-26 15:04:00] INFO: [BEST] Saved model -> c:\\Users\\ajaoo\\Desktop\\Projects\\GNN_spatiotemporal_project\\models\\experiment5_dynamic_h7\\best_model.pth\n",
      "[2025-01-26 15:04:01] INFO: Epoch 29/1000 - Adjacency: dynamic - Train Loss: 0.0350 | Val Loss: 1.4765 | R² per node: [0.26833564043045044, -4587.5361328125, -25.45313835144043, -8.177708625793457, 0.6813099384307861, -14.8148832321167, -218.0407257080078]\n",
      "[2025-01-26 15:04:01] INFO: [BEST] Saved model -> c:\\Users\\ajaoo\\Desktop\\Projects\\GNN_spatiotemporal_project\\models\\experiment5_dynamic_h7\\best_model.pth\n",
      "[2025-01-26 15:04:01] INFO: Epoch 30/1000 - Adjacency: dynamic - Train Loss: 0.0358 | Val Loss: 1.4363 | R² per node: [0.28781020641326904, -3826.198974609375, -28.735008239746094, -8.305981636047363, 0.6960927248001099, -13.351746559143066, -233.98304748535156]\n",
      "[2025-01-26 15:04:01] INFO: [BEST] Saved model -> c:\\Users\\ajaoo\\Desktop\\Projects\\GNN_spatiotemporal_project\\models\\experiment5_dynamic_h7\\best_model.pth\n",
      "[2025-01-26 15:04:02] INFO: Epoch 31/1000 - Adjacency: dynamic - Train Loss: 0.0367 | Val Loss: 1.4565 | R² per node: [0.2796143889427185, -4417.990234375, -30.409942626953125, -11.497413635253906, 0.777518093585968, -31.088138580322266, -303.3465270996094]\n",
      "[2025-01-26 15:04:02] INFO: Epoch 32/1000 - Adjacency: dynamic - Train Loss: 0.0357 | Val Loss: 1.4191 | R² per node: [0.2985149025917053, -4955.01953125, -25.933874130249023, -8.678289413452148, 0.737070620059967, -21.68844223022461, -233.19674682617188]\n",
      "[2025-01-26 15:04:02] INFO: [BEST] Saved model -> c:\\Users\\ajaoo\\Desktop\\Projects\\GNN_spatiotemporal_project\\models\\experiment5_dynamic_h7\\best_model.pth\n",
      "[2025-01-26 15:04:02] INFO: Epoch 33/1000 - Adjacency: dynamic - Train Loss: 0.0327 | Val Loss: 1.4365 | R² per node: [0.2878028154373169, -4317.32080078125, -17.500505447387695, -5.2995147705078125, 0.6729145050048828, -20.670930862426758, -153.84710693359375]\n",
      "[2025-01-26 15:04:03] INFO: Epoch 34/1000 - Adjacency: dynamic - Train Loss: 0.0324 | Val Loss: 1.4165 | R² per node: [0.2985098958015442, -4284.21923828125, -16.24837303161621, -5.844343662261963, 0.6853901147842407, -31.570636749267578, -169.2909698486328]\n",
      "[2025-01-26 15:04:03] INFO: [BEST] Saved model -> c:\\Users\\ajaoo\\Desktop\\Projects\\GNN_spatiotemporal_project\\models\\experiment5_dynamic_h7\\best_model.pth\n",
      "[2025-01-26 15:04:03] INFO: Epoch 35/1000 - Adjacency: dynamic - Train Loss: 0.0311 | Val Loss: 1.3841 | R² per node: [0.3137432336807251, -3969.96826171875, -24.423118591308594, -7.0531206130981445, 0.6670486927032471, -16.853614807128906, -195.5930938720703]\n",
      "[2025-01-26 15:04:03] INFO: [BEST] Saved model -> c:\\Users\\ajaoo\\Desktop\\Projects\\GNN_spatiotemporal_project\\models\\experiment5_dynamic_h7\\best_model.pth\n",
      "[2025-01-26 15:04:04] INFO: Epoch 36/1000 - Adjacency: dynamic - Train Loss: 0.0318 | Val Loss: 1.3989 | R² per node: [0.3070499300956726, -4471.7255859375, -17.869245529174805, -5.426170825958252, 0.6748532056808472, -20.93219757080078, -160.40663146972656]\n",
      "[2025-01-26 15:04:04] INFO: Epoch 37/1000 - Adjacency: dynamic - Train Loss: 0.0296 | Val Loss: 1.3781 | R² per node: [0.31678056716918945, -4258.49951171875, -11.459699630737305, -3.4612207412719727, 0.672052264213562, -20.035709381103516, -106.34610748291016]\n",
      "[2025-01-26 15:04:04] INFO: [BEST] Saved model -> c:\\Users\\ajaoo\\Desktop\\Projects\\GNN_spatiotemporal_project\\models\\experiment5_dynamic_h7\\best_model.pth\n",
      "[2025-01-26 15:04:05] INFO: Epoch 38/1000 - Adjacency: dynamic - Train Loss: 0.0286 | Val Loss: 1.3882 | R² per node: [0.3080074191093445, -2211.214111328125, -16.55275535583496, -6.5070343017578125, 0.7420568466186523, -22.847997665405273, -177.15802001953125]\n",
      "[2025-01-26 15:04:05] INFO: Epoch 39/1000 - Adjacency: dynamic - Train Loss: 0.0275 | Val Loss: 1.3389 | R² per node: [0.3319684863090515, -2175.2509765625, -11.701492309570312, -3.837222099304199, 0.7068670988082886, -15.574319839477539, -114.36260986328125]\n",
      "[2025-01-26 15:04:05] INFO: [BEST] Saved model -> c:\\Users\\ajaoo\\Desktop\\Projects\\GNN_spatiotemporal_project\\models\\experiment5_dynamic_h7\\best_model.pth\n",
      "[2025-01-26 15:04:05] INFO: Epoch 40/1000 - Adjacency: dynamic - Train Loss: 0.0271 | Val Loss: 1.3512 | R² per node: [0.3257361650466919, -1975.564697265625, -13.112503051757812, -4.696389675140381, 0.7245522737503052, -17.838970184326172, -140.72222900390625]\n",
      "[2025-01-26 15:04:06] INFO: Epoch 41/1000 - Adjacency: dynamic - Train Loss: 0.0273 | Val Loss: 1.3569 | R² per node: [0.32424259185791016, -2650.253662109375, -13.969655990600586, -4.047001361846924, 0.5762450695037842, -11.20954418182373, -115.5854263305664]\n",
      "[2025-01-26 15:04:06] INFO: Epoch 42/1000 - Adjacency: dynamic - Train Loss: 0.0312 | Val Loss: 1.3076 | R² per node: [0.3493586778640747, -2810.455078125, -13.060332298278809, -3.991973400115967, 0.6906299591064453, -13.102017402648926, -117.24027252197266]\n",
      "[2025-01-26 15:04:06] INFO: [BEST] Saved model -> c:\\Users\\ajaoo\\Desktop\\Projects\\GNN_spatiotemporal_project\\models\\experiment5_dynamic_h7\\best_model.pth\n",
      "[2025-01-26 15:04:07] INFO: Epoch 43/1000 - Adjacency: dynamic - Train Loss: 0.0308 | Val Loss: 1.3346 | R² per node: [0.3349674940109253, -1979.43408203125, -12.486456871032715, -4.590909481048584, 0.7084960341453552, -24.892187118530273, -139.4276123046875]\n",
      "[2025-01-26 15:04:07] INFO: Epoch 44/1000 - Adjacency: dynamic - Train Loss: 0.0269 | Val Loss: 1.3067 | R² per node: [0.34853100776672363, -2228.461181640625, -14.135743141174316, -3.715332508087158, 0.6351289749145508, -10.155097007751465, -109.58985137939453]\n",
      "[2025-01-26 15:04:07] INFO: [BEST] Saved model -> c:\\Users\\ajaoo\\Desktop\\Projects\\GNN_spatiotemporal_project\\models\\experiment5_dynamic_h7\\best_model.pth\n",
      "[2025-01-26 15:04:07] INFO: Epoch 45/1000 - Adjacency: dynamic - Train Loss: 0.0285 | Val Loss: 1.2874 | R² per node: [0.3582701086997986, -1741.2418212890625, -13.483678817749023, -5.705510139465332, 0.7750598192214966, -26.461824417114258, -155.31222534179688]\n",
      "[2025-01-26 15:04:07] INFO: [BEST] Saved model -> c:\\Users\\ajaoo\\Desktop\\Projects\\GNN_spatiotemporal_project\\models\\experiment5_dynamic_h7\\best_model.pth\n",
      "[2025-01-26 15:04:08] INFO: Epoch 46/1000 - Adjacency: dynamic - Train Loss: 0.0264 | Val Loss: 1.2830 | R² per node: [0.35856300592422485, -1477.55859375, -10.397737503051758, -2.9669950008392334, 0.6970191597938538, -8.317424774169922, -89.90086364746094]\n",
      "[2025-01-26 15:04:08] INFO: [BEST] Saved model -> c:\\Users\\ajaoo\\Desktop\\Projects\\GNN_spatiotemporal_project\\models\\experiment5_dynamic_h7\\best_model.pth\n",
      "[2025-01-26 15:04:08] INFO: Epoch 47/1000 - Adjacency: dynamic - Train Loss: 0.0248 | Val Loss: 1.2717 | R² per node: [0.36553847789764404, -2144.062255859375, -9.242393493652344, -2.800847053527832, 0.7359703779220581, -14.383733749389648, -89.07508850097656]\n",
      "[2025-01-26 15:04:08] INFO: [BEST] Saved model -> c:\\Users\\ajaoo\\Desktop\\Projects\\GNN_spatiotemporal_project\\models\\experiment5_dynamic_h7\\best_model.pth\n",
      "[2025-01-26 15:04:09] INFO: Epoch 48/1000 - Adjacency: dynamic - Train Loss: 0.0252 | Val Loss: 1.2939 | R² per node: [0.3554766774177551, -1975.8536376953125, -15.702896118164062, -6.442149639129639, 0.7561105489730835, -19.10255241394043, -180.0724334716797]\n",
      "[2025-01-26 15:04:09] INFO: Epoch 49/1000 - Adjacency: dynamic - Train Loss: 0.0243 | Val Loss: 1.3018 | R² per node: [0.34898656606674194, -1509.4859619140625, -10.521960258483887, -3.197343349456787, 0.7047721147537231, -10.511306762695312, -96.16323852539062]\n",
      "[2025-01-26 15:04:10] INFO: Epoch 50/1000 - Adjacency: dynamic - Train Loss: 0.0242 | Val Loss: 1.3005 | R² per node: [0.35080182552337646, -1978.7352294921875, -9.006464958190918, -2.7526588439941406, 0.6463427543640137, -12.68970775604248, -92.10372924804688]\n",
      "[2025-01-26 15:04:10] INFO: Epoch 51/1000 - Adjacency: dynamic - Train Loss: 0.0243 | Val Loss: 1.3011 | R² per node: [0.3507276773452759, -2071.427001953125, -10.273798942565918, -3.5577049255371094, 0.7339494228363037, -12.94214916229248, -104.46096801757812]\n"
     ]
    },
    {
     "name": "stdout",
     "output_type": "stream",
     "text": [
      "Epoch 00051: reducing learning rate of group 0 to 5.0000e-04.\n"
     ]
    },
    {
     "name": "stderr",
     "output_type": "stream",
     "text": [
      "[2025-01-26 15:04:10] INFO: Epoch 52/1000 - Adjacency: dynamic - Train Loss: 0.0237 | Val Loss: 1.2796 | R² per node: [0.3604976534843445, -1677.7733154296875, -7.976153373718262, -2.4571666717529297, 0.7148601412773132, -13.022671699523926, -82.75912475585938]\n",
      "[2025-01-26 15:04:11] INFO: Epoch 53/1000 - Adjacency: dynamic - Train Loss: 0.0225 | Val Loss: 1.3157 | R² per node: [0.341827392578125, -1426.410888671875, -8.719769477844238, -2.5311830043792725, 0.6676798462867737, -10.223462104797363, -82.82360076904297]\n",
      "[2025-01-26 15:04:11] INFO: Epoch 54/1000 - Adjacency: dynamic - Train Loss: 0.0216 | Val Loss: 1.2797 | R² per node: [0.3596460819244385, -1304.678955078125, -8.055280685424805, -2.5117228031158447, 0.6927666664123535, -9.785344123840332, -84.72311401367188]\n",
      "[2025-01-26 15:04:11] INFO: Epoch 55/1000 - Adjacency: dynamic - Train Loss: 0.0215 | Val Loss: 1.3158 | R² per node: [0.34161072969436646, -1317.6285400390625, -10.1150541305542, -3.0978312492370605, 0.6457277536392212, -8.120594024658203, -87.38409423828125]\n"
     ]
    },
    {
     "name": "stdout",
     "output_type": "stream",
     "text": [
      "Epoch 00055: reducing learning rate of group 0 to 2.5000e-04.\n"
     ]
    },
    {
     "name": "stderr",
     "output_type": "stream",
     "text": [
      "[2025-01-26 15:04:12] INFO: Epoch 56/1000 - Adjacency: dynamic - Train Loss: 0.0231 | Val Loss: 1.2641 | R² per node: [0.3685843348503113, -1758.6583251953125, -9.27470874786377, -3.2812204360961914, 0.7383968830108643, -11.122511863708496, -99.07850646972656]\n",
      "[2025-01-26 15:04:12] INFO: [BEST] Saved model -> c:\\Users\\ajaoo\\Desktop\\Projects\\GNN_spatiotemporal_project\\models\\experiment5_dynamic_h7\\best_model.pth\n",
      "[2025-01-26 15:04:12] INFO: Epoch 57/1000 - Adjacency: dynamic - Train Loss: 0.0226 | Val Loss: 1.2637 | R² per node: [0.3677540421485901, -1326.271728515625, -8.443254470825195, -2.856686592102051, 0.728977382183075, -8.862682342529297, -87.36894226074219]\n",
      "[2025-01-26 15:04:12] INFO: [BEST] Saved model -> c:\\Users\\ajaoo\\Desktop\\Projects\\GNN_spatiotemporal_project\\models\\experiment5_dynamic_h7\\best_model.pth\n",
      "[2025-01-26 15:04:13] INFO: Epoch 58/1000 - Adjacency: dynamic - Train Loss: 0.0218 | Val Loss: 1.2651 | R² per node: [0.3677445650100708, -1699.8895263671875, -8.546988487243652, -2.730170249938965, 0.7186853289604187, -10.618578910827637, -83.5654525756836]\n",
      "[2025-01-26 15:04:13] INFO: Epoch 59/1000 - Adjacency: dynamic - Train Loss: 0.0205 | Val Loss: 1.2734 | R² per node: [0.36301273107528687, -1401.4747314453125, -7.893537521362305, -2.5283193588256836, 0.7068428993225098, -10.487954139709473, -85.76960754394531]\n",
      "[2025-01-26 15:04:13] INFO: Epoch 60/1000 - Adjacency: dynamic - Train Loss: 0.0214 | Val Loss: 1.2553 | R² per node: [0.3727613687515259, -1576.9610595703125, -8.77813720703125, -3.036228656768799, 0.7240502834320068, -11.927358627319336, -101.7713394165039]\n",
      "[2025-01-26 15:04:13] INFO: [BEST] Saved model -> c:\\Users\\ajaoo\\Desktop\\Projects\\GNN_spatiotemporal_project\\models\\experiment5_dynamic_h7\\best_model.pth\n",
      "[2025-01-26 15:04:14] INFO: Epoch 61/1000 - Adjacency: dynamic - Train Loss: 0.0206 | Val Loss: 1.2556 | R² per node: [0.37235313653945923, -1593.92626953125, -7.715978622436523, -2.427798271179199, 0.6995207071304321, -9.139474868774414, -80.26837158203125]\n",
      "[2025-01-26 15:04:14] INFO: Epoch 62/1000 - Adjacency: dynamic - Train Loss: 0.0210 | Val Loss: 1.2571 | R² per node: [0.37138110399246216, -1543.1890869140625, -8.064359664916992, -2.4017512798309326, 0.7214404344558716, -10.011669158935547, -74.97064971923828]\n",
      "[2025-01-26 15:04:15] INFO: Epoch 63/1000 - Adjacency: dynamic - Train Loss: 0.0212 | Val Loss: 1.2572 | R² per node: [0.37154150009155273, -1619.006591796875, -7.733125686645508, -2.4059977531433105, 0.7194440960884094, -10.352670669555664, -78.38414001464844]\n",
      "[2025-01-26 15:04:15] INFO: Epoch 64/1000 - Adjacency: dynamic - Train Loss: 0.0218 | Val Loss: 1.2631 | R² per node: [0.36882883310317993, -1634.265380859375, -9.879511833190918, -3.4198379516601562, 0.7225561141967773, -11.628726959228516, -109.02482604980469]\n"
     ]
    },
    {
     "name": "stdout",
     "output_type": "stream",
     "text": [
      "Epoch 00064: reducing learning rate of group 0 to 1.2500e-04.\n"
     ]
    },
    {
     "name": "stderr",
     "output_type": "stream",
     "text": [
      "[2025-01-26 15:04:15] INFO: Epoch 65/1000 - Adjacency: dynamic - Train Loss: 0.0209 | Val Loss: 1.2543 | R² per node: [0.3728047013282776, -1550.738037109375, -8.874472618103027, -2.9218382835388184, 0.7185760736465454, -7.725420951843262, -86.63105773925781]\n",
      "[2025-01-26 15:04:15] INFO: [BEST] Saved model -> c:\\Users\\ajaoo\\Desktop\\Projects\\GNN_spatiotemporal_project\\models\\experiment5_dynamic_h7\\best_model.pth\n",
      "[2025-01-26 15:04:16] INFO: Epoch 66/1000 - Adjacency: dynamic - Train Loss: 0.0208 | Val Loss: 1.2562 | R² per node: [0.37206876277923584, -1616.4425048828125, -8.234103202819824, -2.642998456954956, 0.702486515045166, -8.973170280456543, -86.00672912597656]\n",
      "[2025-01-26 15:04:16] INFO: Epoch 67/1000 - Adjacency: dynamic - Train Loss: 0.0201 | Val Loss: 1.2541 | R² per node: [0.37308573722839355, -1615.415771484375, -7.862894058227539, -2.4724018573760986, 0.7070727348327637, -8.938864707946777, -80.99900817871094]\n",
      "[2025-01-26 15:04:16] INFO: [BEST] Saved model -> c:\\Users\\ajaoo\\Desktop\\Projects\\GNN_spatiotemporal_project\\models\\experiment5_dynamic_h7\\best_model.pth\n",
      "[2025-01-26 15:04:17] INFO: Epoch 68/1000 - Adjacency: dynamic - Train Loss: 0.0203 | Val Loss: 1.2564 | R² per node: [0.3717648983001709, -1521.376220703125, -7.8605852127075195, -2.432356357574463, 0.6933020353317261, -7.92397403717041, -79.82087707519531]\n",
      "[2025-01-26 15:04:17] INFO: Epoch 69/1000 - Adjacency: dynamic - Train Loss: 0.0198 | Val Loss: 1.2590 | R² per node: [0.37086522579193115, -1756.5355224609375, -8.158136367797852, -2.5185372829437256, 0.6902332305908203, -7.73928165435791, -78.8803482055664]\n",
      "[2025-01-26 15:04:17] INFO: Epoch 70/1000 - Adjacency: dynamic - Train Loss: 0.0197 | Val Loss: 1.2729 | R² per node: [0.3638445734977722, -1713.233642578125, -8.717060089111328, -2.783865213394165, 0.6983422040939331, -8.602381706237793, -88.48043823242188]\n",
      "[2025-01-26 15:04:18] INFO: Epoch 71/1000 - Adjacency: dynamic - Train Loss: 0.0204 | Val Loss: 1.2575 | R² per node: [0.3720315098762512, -1909.093017578125, -8.528884887695312, -2.7855875492095947, 0.7264736294746399, -9.843376159667969, -86.1095199584961]\n"
     ]
    },
    {
     "name": "stdout",
     "output_type": "stream",
     "text": [
      "Epoch 00071: reducing learning rate of group 0 to 6.2500e-05.\n"
     ]
    },
    {
     "name": "stderr",
     "output_type": "stream",
     "text": [
      "[2025-01-26 15:04:18] INFO: Epoch 72/1000 - Adjacency: dynamic - Train Loss: 0.0212 | Val Loss: 1.2573 | R² per node: [0.37179720401763916, -1767.535888671875, -8.085638046264648, -2.510558843612671, 0.6961004734039307, -8.71660327911377, -83.25534057617188]\n",
      "[2025-01-26 15:04:19] INFO: Epoch 73/1000 - Adjacency: dynamic - Train Loss: 0.0209 | Val Loss: 1.2562 | R² per node: [0.372261643409729, -1719.6722412109375, -7.920607566833496, -2.4334423542022705, 0.6942676305770874, -8.06650447845459, -81.44011688232422]\n",
      "[2025-01-26 15:04:19] INFO: Epoch 74/1000 - Adjacency: dynamic - Train Loss: 0.0203 | Val Loss: 1.2598 | R² per node: [0.3702908754348755, -1651.57080078125, -7.932216644287109, -2.4208717346191406, 0.696773886680603, -8.588793754577637, -81.35446166992188]\n",
      "[2025-01-26 15:04:19] INFO: Epoch 75/1000 - Adjacency: dynamic - Train Loss: 0.0197 | Val Loss: 1.2582 | R² per node: [0.3712823987007141, -1737.964599609375, -7.943921089172363, -2.427186965942383, 0.6935028433799744, -8.748350143432617, -81.93807220458984]\n"
     ]
    },
    {
     "name": "stdout",
     "output_type": "stream",
     "text": [
      "Epoch 00075: reducing learning rate of group 0 to 3.1250e-05.\n"
     ]
    },
    {
     "name": "stderr",
     "output_type": "stream",
     "text": [
      "[2025-01-26 15:04:20] INFO: Epoch 76/1000 - Adjacency: dynamic - Train Loss: 0.0209 | Val Loss: 1.2583 | R² per node: [0.3712073564529419, -1724.1881103515625, -8.252856254577637, -2.59779953956604, 0.7116186618804932, -9.26887035369873, -85.94339752197266]\n",
      "[2025-01-26 15:04:20] INFO: Epoch 77/1000 - Adjacency: dynamic - Train Loss: 0.0198 | Val Loss: 1.2590 | R² per node: [0.3709586262702942, -1746.5303955078125, -8.723479270935059, -2.8434784412384033, 0.7254425883293152, -9.256760597229004, -90.94364166259766]\n",
      "[2025-01-26 15:04:21] INFO: Epoch 78/1000 - Adjacency: dynamic - Train Loss: 0.0200 | Val Loss: 1.2624 | R² per node: [0.36881566047668457, -1575.273681640625, -7.825004577636719, -2.3385534286499023, 0.6861313581466675, -7.398100852966309, -78.49749755859375]\n",
      "[2025-01-26 15:04:21] INFO: Epoch 79/1000 - Adjacency: dynamic - Train Loss: 0.0198 | Val Loss: 1.2556 | R² per node: [0.3725473880767822, -1701.9161376953125, -8.215779304504395, -2.58750581741333, 0.7086390256881714, -7.968233108520508, -84.409423828125]\n"
     ]
    },
    {
     "name": "stdout",
     "output_type": "stream",
     "text": [
      "Epoch 00079: reducing learning rate of group 0 to 1.5625e-05.\n"
     ]
    },
    {
     "name": "stderr",
     "output_type": "stream",
     "text": [
      "[2025-01-26 15:04:21] INFO: Epoch 80/1000 - Adjacency: dynamic - Train Loss: 0.0192 | Val Loss: 1.2562 | R² per node: [0.3721940517425537, -1708.3902587890625, -7.864114761352539, -2.4109668731689453, 0.7006688714027405, -8.447589874267578, -80.49382781982422]\n",
      "[2025-01-26 15:04:22] INFO: Epoch 81/1000 - Adjacency: dynamic - Train Loss: 0.0196 | Val Loss: 1.2567 | R² per node: [0.37196415662765503, -1707.2745361328125, -7.961450576782227, -2.4263880252838135, 0.6929422616958618, -8.021282196044922, -80.97400665283203]\n",
      "[2025-01-26 15:04:22] INFO: Epoch 82/1000 - Adjacency: dynamic - Train Loss: 0.0201 | Val Loss: 1.2557 | R² per node: [0.37261778116226196, -1769.450439453125, -8.296070098876953, -2.628556966781616, 0.7106881141662598, -9.128405570983887, -87.03491973876953]\n",
      "[2025-01-26 15:04:22] INFO: Epoch 83/1000 - Adjacency: dynamic - Train Loss: 0.0195 | Val Loss: 1.2552 | R² per node: [0.3727262020111084, -1726.502197265625, -8.164872169494629, -2.523855209350586, 0.7036988735198975, -7.849032402038574, -82.96052551269531]\n"
     ]
    },
    {
     "name": "stdout",
     "output_type": "stream",
     "text": [
      "Epoch 00083: reducing learning rate of group 0 to 7.8125e-06.\n"
     ]
    },
    {
     "name": "stderr",
     "output_type": "stream",
     "text": [
      "[2025-01-26 15:04:23] INFO: Epoch 84/1000 - Adjacency: dynamic - Train Loss: 0.0196 | Val Loss: 1.2540 | R² per node: [0.373393177986145, -1737.023193359375, -7.998953819274902, -2.4550631046295166, 0.704740047454834, -8.936620712280273, -82.38630676269531]\n",
      "[2025-01-26 15:04:23] INFO: [BEST] Saved model -> c:\\Users\\ajaoo\\Desktop\\Projects\\GNN_spatiotemporal_project\\models\\experiment5_dynamic_h7\\best_model.pth\n",
      "[2025-01-26 15:04:23] INFO: Epoch 85/1000 - Adjacency: dynamic - Train Loss: 0.0202 | Val Loss: 1.2542 | R² per node: [0.37326544523239136, -1735.7581787109375, -8.006970405578613, -2.4829413890838623, 0.7054646015167236, -8.64714527130127, -82.14283752441406]\n",
      "[2025-01-26 15:04:24] INFO: Epoch 86/1000 - Adjacency: dynamic - Train Loss: 0.0194 | Val Loss: 1.2550 | R² per node: [0.3727424740791321, -1678.689208984375, -7.9919281005859375, -2.4525887966156006, 0.6947482824325562, -7.825169563293457, -81.81877899169922]\n",
      "[2025-01-26 15:04:24] INFO: Epoch 87/1000 - Adjacency: dynamic - Train Loss: 0.0197 | Val Loss: 1.2551 | R² per node: [0.37264853715896606, -1642.71240234375, -7.778324127197266, -2.3341667652130127, 0.6802506446838379, -7.459702491760254, -78.35702514648438]\n",
      "[2025-01-26 15:04:24] INFO: Epoch 88/1000 - Adjacency: dynamic - Train Loss: 0.0208 | Val Loss: 1.2560 | R² per node: [0.37257617712020874, -1794.6741943359375, -8.44289779663086, -2.722310781478882, 0.7198776006698608, -9.447053909301758, -88.24746704101562]\n"
     ]
    },
    {
     "name": "stdout",
     "output_type": "stream",
     "text": [
      "Epoch 00088: reducing learning rate of group 0 to 3.9063e-06.\n"
     ]
    },
    {
     "name": "stderr",
     "output_type": "stream",
     "text": [
      "[2025-01-26 15:04:25] INFO: Epoch 89/1000 - Adjacency: dynamic - Train Loss: 0.0195 | Val Loss: 1.2560 | R² per node: [0.3723596930503845, -1720.376953125, -8.254488945007324, -2.5809619426727295, 0.7044711112976074, -8.438318252563477, -85.97101593017578]\n",
      "[2025-01-26 15:04:25] INFO: Epoch 90/1000 - Adjacency: dynamic - Train Loss: 0.0197 | Val Loss: 1.2552 | R² per node: [0.37265968322753906, -1672.606689453125, -7.759122848510742, -2.3301358222961426, 0.6796553134918213, -7.981407165527344, -79.69385528564453]\n",
      "[2025-01-26 15:04:25] INFO: Epoch 91/1000 - Adjacency: dynamic - Train Loss: 0.0190 | Val Loss: 1.2544 | R² per node: [0.3732302784919739, -1753.755859375, -8.233316421508789, -2.566103219985962, 0.7082890868186951, -8.382598876953125, -84.58807373046875]\n",
      "[2025-01-26 15:04:26] INFO: Epoch 92/1000 - Adjacency: dynamic - Train Loss: 0.0202 | Val Loss: 1.2539 | R² per node: [0.37325698137283325, -1665.129638671875, -7.891199111938477, -2.3880224227905273, 0.689617395401001, -7.855044364929199, -80.62628173828125]\n",
      "[2025-01-26 15:04:26] INFO: [BEST] Saved model -> c:\\Users\\ajaoo\\Desktop\\Projects\\GNN_spatiotemporal_project\\models\\experiment5_dynamic_h7\\best_model.pth\n"
     ]
    },
    {
     "name": "stdout",
     "output_type": "stream",
     "text": [
      "Epoch 00092: reducing learning rate of group 0 to 1.9531e-06.\n"
     ]
    },
    {
     "name": "stderr",
     "output_type": "stream",
     "text": [
      "[2025-01-26 15:04:26] INFO: Epoch 93/1000 - Adjacency: dynamic - Train Loss: 0.0215 | Val Loss: 1.2549 | R² per node: [0.3728522062301636, -1704.5968017578125, -7.972823143005371, -2.4439029693603516, 0.6972013711929321, -8.227884292602539, -82.49146270751953]\n",
      "[2025-01-26 15:04:27] INFO: Epoch 94/1000 - Adjacency: dynamic - Train Loss: 0.0195 | Val Loss: 1.2541 | R² per node: [0.37326472997665405, -1691.3692626953125, -7.886570930480957, -2.390800952911377, 0.6882001757621765, -8.350547790527344, -81.7970962524414]\n",
      "[2025-01-26 15:04:27] INFO: Epoch 95/1000 - Adjacency: dynamic - Train Loss: 0.0193 | Val Loss: 1.2546 | R² per node: [0.3729284405708313, -1660.674072265625, -7.909921646118164, -2.40141224861145, 0.6861025094985962, -7.739302635192871, -81.227783203125]\n",
      "[2025-01-26 15:04:27] INFO: Epoch 96/1000 - Adjacency: dynamic - Train Loss: 0.0198 | Val Loss: 1.2565 | R² per node: [0.3719157576560974, -1633.886474609375, -7.925412178039551, -2.4044275283813477, 0.6800472736358643, -7.453156471252441, -82.1179428100586]\n"
     ]
    },
    {
     "name": "stdout",
     "output_type": "stream",
     "text": [
      "Epoch 00096: reducing learning rate of group 0 to 9.7656e-07.\n"
     ]
    },
    {
     "name": "stderr",
     "output_type": "stream",
     "text": [
      "[2025-01-26 15:04:28] INFO: Epoch 97/1000 - Adjacency: dynamic - Train Loss: 0.0203 | Val Loss: 1.2563 | R² per node: [0.3722437024116516, -1745.398681640625, -8.446695327758789, -2.6669230461120605, 0.7126998901367188, -7.968240737915039, -85.94334411621094]\n",
      "[2025-01-26 15:04:28] INFO: Epoch 98/1000 - Adjacency: dynamic - Train Loss: 0.0199 | Val Loss: 1.2545 | R² per node: [0.3729475140571594, -1667.722900390625, -8.022211074829102, -2.4494810104370117, 0.6950446367263794, -8.10679817199707, -82.03680419921875]\n",
      "[2025-01-26 15:04:29] INFO: Epoch 99/1000 - Adjacency: dynamic - Train Loss: 0.0203 | Val Loss: 1.2557 | R² per node: [0.3725671172142029, -1738.421875, -8.081764221191406, -2.533568859100342, 0.7061707973480225, -9.1717529296875, -84.66480255126953]\n",
      "[2025-01-26 15:04:29] INFO: Epoch 100/1000 - Adjacency: dynamic - Train Loss: 0.0202 | Val Loss: 1.2555 | R² per node: [0.37246477603912354, -1670.8729248046875, -7.854606628417969, -2.381509304046631, 0.6873469352722168, -7.929313659667969, -81.04029846191406]\n"
     ]
    },
    {
     "name": "stdout",
     "output_type": "stream",
     "text": [
      "Epoch 00100: reducing learning rate of group 0 to 4.8828e-07.\n"
     ]
    },
    {
     "name": "stderr",
     "output_type": "stream",
     "text": [
      "[2025-01-26 15:04:29] INFO: Epoch 101/1000 - Adjacency: dynamic - Train Loss: 0.0197 | Val Loss: 1.2555 | R² per node: [0.37244081497192383, -1658.823974609375, -7.821608543395996, -2.3746206760406494, 0.6880778074264526, -8.04738712310791, -80.7077407836914]\n",
      "[2025-01-26 15:04:30] INFO: Epoch 102/1000 - Adjacency: dynamic - Train Loss: 0.0203 | Val Loss: 1.2548 | R² per node: [0.37288469076156616, -1697.424072265625, -7.943973541259766, -2.4194860458374023, 0.6960716843605042, -8.230676651000977, -82.01295471191406]\n",
      "[2025-01-26 15:04:30] INFO: Epoch 103/1000 - Adjacency: dynamic - Train Loss: 0.0188 | Val Loss: 1.2548 | R² per node: [0.3729877471923828, -1749.0748291015625, -8.08399486541748, -2.5044987201690674, 0.7060480117797852, -8.837752342224121, -83.73439025878906]\n",
      "[2025-01-26 15:04:30] INFO: Epoch 104/1000 - Adjacency: dynamic - Train Loss: 0.0195 | Val Loss: 1.2553 | R² per node: [0.3726347088813782, -1676.136474609375, -7.7224225997924805, -2.3480236530303955, 0.6850594878196716, -8.750004768371582, -80.81116485595703]\n"
     ]
    },
    {
     "name": "stdout",
     "output_type": "stream",
     "text": [
      "Epoch 00104: reducing learning rate of group 0 to 2.4414e-07.\n"
     ]
    },
    {
     "name": "stderr",
     "output_type": "stream",
     "text": [
      "[2025-01-26 15:04:31] INFO: Epoch 105/1000 - Adjacency: dynamic - Train Loss: 0.0196 | Val Loss: 1.2553 | R² per node: [0.37246012687683105, -1613.629150390625, -7.738158226013184, -2.3071677684783936, 0.6698765754699707, -7.270995140075684, -78.67185974121094]\n",
      "[2025-01-26 15:04:31] INFO: Epoch 106/1000 - Adjacency: dynamic - Train Loss: 0.0188 | Val Loss: 1.2556 | R² per node: [0.37250953912734985, -1710.2059326171875, -8.083121299743652, -2.5082781314849854, 0.70090252161026, -8.53923225402832, -84.43187713623047]\n",
      "[2025-01-26 15:04:32] INFO: Epoch 107/1000 - Adjacency: dynamic - Train Loss: 0.0199 | Val Loss: 1.2548 | R² per node: [0.3728102445602417, -1661.8548583984375, -7.835816383361816, -2.34818696975708, 0.6818714737892151, -7.717061996459961, -79.72212219238281]\n",
      "[2025-01-26 15:04:32] INFO: Epoch 108/1000 - Adjacency: dynamic - Train Loss: 0.0193 | Val Loss: 1.2556 | R² per node: [0.37255555391311646, -1736.751953125, -8.281937599182129, -2.59031343460083, 0.7095149755477905, -8.294159889221191, -85.09529876708984]\n"
     ]
    },
    {
     "name": "stdout",
     "output_type": "stream",
     "text": [
      "Epoch 00108: reducing learning rate of group 0 to 1.2207e-07.\n"
     ]
    },
    {
     "name": "stderr",
     "output_type": "stream",
     "text": [
      "[2025-01-26 15:04:33] INFO: Epoch 109/1000 - Adjacency: dynamic - Train Loss: 0.0196 | Val Loss: 1.2540 | R² per node: [0.37320905923843384, -1648.1373291015625, -7.709443092346191, -2.3096563816070557, 0.6843681931495667, -8.153678894042969, -79.17594909667969]\n",
      "[2025-01-26 15:04:33] INFO: Epoch 110/1000 - Adjacency: dynamic - Train Loss: 0.0193 | Val Loss: 1.2568 | R² per node: [0.37184709310531616, -1688.1888427734375, -8.296974182128906, -2.5986928939819336, 0.7062076330184937, -7.691433906555176, -84.34309387207031]\n",
      "[2025-01-26 15:04:33] INFO: Epoch 111/1000 - Adjacency: dynamic - Train Loss: 0.0205 | Val Loss: 1.2554 | R² per node: [0.37259620428085327, -1716.8115234375, -8.01768970489502, -2.470082998275757, 0.7022849321365356, -7.979914665222168, -81.60783386230469]\n",
      "[2025-01-26 15:04:34] INFO: Epoch 112/1000 - Adjacency: dynamic - Train Loss: 0.0195 | Val Loss: 1.2553 | R² per node: [0.3725969195365906, -1689.0855712890625, -8.059700965881348, -2.48225998878479, 0.7009943127632141, -8.036666870117188, -82.45162200927734]\n",
      "[2025-01-26 15:04:34] INFO: Early stopping triggered.\n"
     ]
    },
    {
     "name": "stdout",
     "output_type": "stream",
     "text": [
      "Epoch 00112: reducing learning rate of group 0 to 6.1035e-08.\n"
     ]
    },
    {
     "name": "stderr",
     "output_type": "stream",
     "text": [
      "[2025-01-26 15:04:34] INFO: Saved loss curves -> c:\\Users\\ajaoo\\Desktop\\Projects\\GNN_spatiotemporal_project\\figures\\experiment5_dynamic_h7\\training_validation_loss\\train_val_loss_experiment5_dynamic_h7.png\n",
      "[2025-01-26 15:04:34] INFO: Experiment 5, Adjacency=dynamic, Horizon=7 => Test MSE: 0.0065\n",
      "[2025-01-26 15:04:34] INFO: Final model saved -> c:\\Users\\ajaoo\\Desktop\\Projects\\GNN_spatiotemporal_project\\models\\experiment5_dynamic_h7\\epignn_final_model.pth\n",
      "[2025-01-26 15:04:34] INFO: \n",
      "--- Experiment 6: Adjacency Type = hybrid, Horizon = 7 ---\n",
      "[2025-01-26 15:04:35] INFO: Epoch 1/1000 - Adjacency: hybrid - Train Loss: 0.5272 | Val Loss: 3.2226 | R² per node: [-0.5621331930160522, -7639.67138671875, -251.42845153808594, -111.0947265625, -1.4522473812103271, -149.90225219726562, -2655.485107421875]\n",
      "[2025-01-26 15:04:35] INFO: [BEST] Saved model -> c:\\Users\\ajaoo\\Desktop\\Projects\\GNN_spatiotemporal_project\\models\\experiment6_hybrid_h7\\best_model.pth\n",
      "[2025-01-26 15:04:35] INFO: Epoch 2/1000 - Adjacency: hybrid - Train Loss: 0.2502 | Val Loss: 2.6744 | R² per node: [-0.3240673542022705, -2494.56298828125, -75.62201690673828, -25.110017776489258, 0.05406314134597778, -18.02943992614746, -408.2489929199219]\n",
      "[2025-01-26 15:04:35] INFO: [BEST] Saved model -> c:\\Users\\ajaoo\\Desktop\\Projects\\GNN_spatiotemporal_project\\models\\experiment6_hybrid_h7\\best_model.pth\n",
      "[2025-01-26 15:04:35] INFO: Epoch 3/1000 - Adjacency: hybrid - Train Loss: 0.1560 | Val Loss: 2.4168 | R² per node: [-0.1876821517944336, -2849.8564453125, -38.96335220336914, -25.590208053588867, -0.06874525547027588, -35.24972152709961, -507.5278625488281]\n",
      "[2025-01-26 15:04:35] INFO: [BEST] Saved model -> c:\\Users\\ajaoo\\Desktop\\Projects\\GNN_spatiotemporal_project\\models\\experiment6_hybrid_h7\\best_model.pth\n",
      "[2025-01-26 15:04:36] INFO: Epoch 4/1000 - Adjacency: hybrid - Train Loss: 0.1209 | Val Loss: 2.2990 | R² per node: [-0.14045190811157227, -2229.661865234375, -20.75041961669922, -9.450577735900879, -0.8168599605560303, -17.78282928466797, -257.5057678222656]\n",
      "[2025-01-26 15:04:36] INFO: [BEST] Saved model -> c:\\Users\\ajaoo\\Desktop\\Projects\\GNN_spatiotemporal_project\\models\\experiment6_hybrid_h7\\best_model.pth\n",
      "[2025-01-26 15:04:36] INFO: Epoch 5/1000 - Adjacency: hybrid - Train Loss: 0.0988 | Val Loss: 2.1224 | R² per node: [-0.055817604064941406, -1598.1845703125, -28.488018035888672, -9.147751808166504, 0.20196181535720825, -41.388404846191406, -295.6509094238281]\n",
      "[2025-01-26 15:04:36] INFO: [BEST] Saved model -> c:\\Users\\ajaoo\\Desktop\\Projects\\GNN_spatiotemporal_project\\models\\experiment6_hybrid_h7\\best_model.pth\n",
      "[2025-01-26 15:04:36] INFO: Epoch 6/1000 - Adjacency: hybrid - Train Loss: 0.0811 | Val Loss: 2.0252 | R² per node: [-0.00813281536102295, -940.9544067382812, -38.524845123291016, -6.950899600982666, 0.43670862913131714, -64.52238464355469, -267.6581115722656]\n",
      "[2025-01-26 15:04:36] INFO: [BEST] Saved model -> c:\\Users\\ajaoo\\Desktop\\Projects\\GNN_spatiotemporal_project\\models\\experiment6_hybrid_h7\\best_model.pth\n",
      "[2025-01-26 15:04:37] INFO: Epoch 7/1000 - Adjacency: hybrid - Train Loss: 0.0753 | Val Loss: 2.0013 | R² per node: [-0.002755403518676758, -588.7992553710938, -14.197336196899414, -1.646099328994751, 0.5152721405029297, -29.06733512878418, -69.58427429199219]\n",
      "[2025-01-26 15:04:37] INFO: [BEST] Saved model -> c:\\Users\\ajaoo\\Desktop\\Projects\\GNN_spatiotemporal_project\\models\\experiment6_hybrid_h7\\best_model.pth\n",
      "[2025-01-26 15:04:37] INFO: Epoch 8/1000 - Adjacency: hybrid - Train Loss: 0.0696 | Val Loss: 1.9555 | R² per node: [0.022752583026885986, -748.9873657226562, -32.90560531616211, -4.029244422912598, 0.5408860445022583, -48.17034912109375, -185.88717651367188]\n",
      "[2025-01-26 15:04:37] INFO: [BEST] Saved model -> c:\\Users\\ajaoo\\Desktop\\Projects\\GNN_spatiotemporal_project\\models\\experiment6_hybrid_h7\\best_model.pth\n",
      "[2025-01-26 15:04:38] INFO: Epoch 9/1000 - Adjacency: hybrid - Train Loss: 0.0674 | Val Loss: 1.9945 | R² per node: [0.003355264663696289, -844.70556640625, -32.21232604980469, -3.4450440406799316, 0.3916938900947571, -49.30723571777344, -182.90260314941406]\n",
      "[2025-01-26 15:04:38] INFO: Epoch 10/1000 - Adjacency: hybrid - Train Loss: 0.0688 | Val Loss: 1.9271 | R² per node: [0.040049612522125244, -971.70458984375, -59.50894546508789, -7.696343421936035, 0.60428786277771, -65.68607330322266, -330.9328918457031]\n",
      "[2025-01-26 15:04:38] INFO: [BEST] Saved model -> c:\\Users\\ajaoo\\Desktop\\Projects\\GNN_spatiotemporal_project\\models\\experiment6_hybrid_h7\\best_model.pth\n",
      "[2025-01-26 15:04:38] INFO: Epoch 11/1000 - Adjacency: hybrid - Train Loss: 0.0609 | Val Loss: 1.8709 | R² per node: [0.0659341812133789, -963.4790649414062, -38.18553924560547, -3.755530834197998, 0.6350585222244263, -58.819705963134766, -192.3860626220703]\n",
      "[2025-01-26 15:04:38] INFO: [BEST] Saved model -> c:\\Users\\ajaoo\\Desktop\\Projects\\GNN_spatiotemporal_project\\models\\experiment6_hybrid_h7\\best_model.pth\n",
      "[2025-01-26 15:04:39] INFO: Epoch 12/1000 - Adjacency: hybrid - Train Loss: 0.0606 | Val Loss: 1.8467 | R² per node: [0.07566303014755249, -805.1585083007812, -21.870147705078125, -1.8697047233581543, 0.6572970151901245, -43.12522506713867, -111.1336441040039]\n",
      "[2025-01-26 15:04:39] INFO: [BEST] Saved model -> c:\\Users\\ajaoo\\Desktop\\Projects\\GNN_spatiotemporal_project\\models\\experiment6_hybrid_h7\\best_model.pth\n",
      "[2025-01-26 15:04:39] INFO: Epoch 13/1000 - Adjacency: hybrid - Train Loss: 0.0593 | Val Loss: 1.8002 | R² per node: [0.10059070587158203, -1083.6519775390625, -17.140735626220703, -1.4202907085418701, 0.6100519895553589, -48.53034210205078, -81.6004638671875]\n",
      "[2025-01-26 15:04:39] INFO: [BEST] Saved model -> c:\\Users\\ajaoo\\Desktop\\Projects\\GNN_spatiotemporal_project\\models\\experiment6_hybrid_h7\\best_model.pth\n",
      "[2025-01-26 15:04:40] INFO: Epoch 14/1000 - Adjacency: hybrid - Train Loss: 0.0562 | Val Loss: 1.8123 | R² per node: [0.09197527170181274, -1225.431396484375, -10.725337028503418, -0.2933715581893921, 0.6677568554878235, -26.16321563720703, -41.396759033203125]\n",
      "[2025-01-26 15:04:40] INFO: Epoch 15/1000 - Adjacency: hybrid - Train Loss: 0.0553 | Val Loss: 1.8115 | R² per node: [0.09484195709228516, -1677.561767578125, -18.275146484375, -1.12766432762146, 0.6148428916931152, -46.15485763549805, -97.40908813476562]\n",
      "[2025-01-26 15:04:40] INFO: Epoch 16/1000 - Adjacency: hybrid - Train Loss: 0.0540 | Val Loss: 1.7955 | R² per node: [0.10360121726989746, -1245.4327392578125, -31.41170883178711, -3.780273914337158, 0.706971287727356, -60.316619873046875, -181.08621215820312]\n",
      "[2025-01-26 15:04:40] INFO: [BEST] Saved model -> c:\\Users\\ajaoo\\Desktop\\Projects\\GNN_spatiotemporal_project\\models\\experiment6_hybrid_h7\\best_model.pth\n",
      "[2025-01-26 15:04:41] INFO: Epoch 17/1000 - Adjacency: hybrid - Train Loss: 0.0520 | Val Loss: 1.7953 | R² per node: [0.10040867328643799, -878.0133666992188, -15.387100219726562, -1.4908647537231445, 0.5723159313201904, -31.849559783935547, -83.48467254638672]\n",
      "[2025-01-26 15:04:41] INFO: [BEST] Saved model -> c:\\Users\\ajaoo\\Desktop\\Projects\\GNN_spatiotemporal_project\\models\\experiment6_hybrid_h7\\best_model.pth\n",
      "[2025-01-26 15:04:41] INFO: Epoch 18/1000 - Adjacency: hybrid - Train Loss: 0.0514 | Val Loss: 1.7756 | R² per node: [0.10961920022964478, -690.1917724609375, -11.148370742797852, -1.8336431980133057, 0.7176289558410645, -33.22883605957031, -73.42318725585938]\n",
      "[2025-01-26 15:04:41] INFO: [BEST] Saved model -> c:\\Users\\ajaoo\\Desktop\\Projects\\GNN_spatiotemporal_project\\models\\experiment6_hybrid_h7\\best_model.pth\n",
      "[2025-01-26 15:04:41] INFO: Epoch 19/1000 - Adjacency: hybrid - Train Loss: 0.0491 | Val Loss: 1.7007 | R² per node: [0.14743179082870483, -1048.7601318359375, -6.776864528656006, -1.6040661334991455, 0.6994010210037231, -23.476463317871094, -46.99565887451172]\n",
      "[2025-01-26 15:04:41] INFO: [BEST] Saved model -> c:\\Users\\ajaoo\\Desktop\\Projects\\GNN_spatiotemporal_project\\models\\experiment6_hybrid_h7\\best_model.pth\n",
      "[2025-01-26 15:04:42] INFO: Epoch 20/1000 - Adjacency: hybrid - Train Loss: 0.0492 | Val Loss: 1.6701 | R² per node: [0.16475415229797363, -1203.02734375, -14.807849884033203, -1.5092213153839111, 0.7173303365707397, -39.41862106323242, -85.8612060546875]\n",
      "[2025-01-26 15:04:42] INFO: [BEST] Saved model -> c:\\Users\\ajaoo\\Desktop\\Projects\\GNN_spatiotemporal_project\\models\\experiment6_hybrid_h7\\best_model.pth\n",
      "[2025-01-26 15:04:42] INFO: Epoch 21/1000 - Adjacency: hybrid - Train Loss: 0.0474 | Val Loss: 1.6488 | R² per node: [0.1820826530456543, -2090.81591796875, -49.01646423339844, -7.614457130432129, 0.6832420229911804, -75.1998291015625, -287.9158935546875]\n",
      "[2025-01-26 15:04:42] INFO: [BEST] Saved model -> c:\\Users\\ajaoo\\Desktop\\Projects\\GNN_spatiotemporal_project\\models\\experiment6_hybrid_h7\\best_model.pth\n",
      "[2025-01-26 15:04:43] INFO: Epoch 22/1000 - Adjacency: hybrid - Train Loss: 0.0435 | Val Loss: 1.6634 | R² per node: [0.17247360944747925, -2044.4476318359375, -39.74452590942383, -5.435123443603516, 0.7462643384933472, -67.29569244384766, -230.85836791992188]\n",
      "[2025-01-26 15:04:43] INFO: Epoch 23/1000 - Adjacency: hybrid - Train Loss: 0.0478 | Val Loss: 1.6397 | R² per node: [0.18380194902420044, -1797.9097900390625, -10.372640609741211, -2.1231420040130615, 0.5924991369247437, -40.471923828125, -76.62977600097656]\n",
      "[2025-01-26 15:04:43] INFO: [BEST] Saved model -> c:\\Users\\ajaoo\\Desktop\\Projects\\GNN_spatiotemporal_project\\models\\experiment6_hybrid_h7\\best_model.pth\n",
      "[2025-01-26 15:04:43] INFO: Epoch 24/1000 - Adjacency: hybrid - Train Loss: 0.0457 | Val Loss: 1.6778 | R² per node: [0.16157948970794678, -1999.836181640625, -13.270462036132812, -0.7629722356796265, 0.713141143321991, -35.87204360961914, -61.794437408447266]\n",
      "[2025-01-26 15:04:44] INFO: Epoch 25/1000 - Adjacency: hybrid - Train Loss: 0.0419 | Val Loss: 1.6313 | R² per node: [0.18870460987091064, -1534.61669921875, -52.731170654296875, -8.169170379638672, 0.7713291645050049, -69.08431243896484, -306.3983154296875]\n",
      "[2025-01-26 15:04:44] INFO: [BEST] Saved model -> c:\\Users\\ajaoo\\Desktop\\Projects\\GNN_spatiotemporal_project\\models\\experiment6_hybrid_h7\\best_model.pth\n",
      "[2025-01-26 15:04:44] INFO: Epoch 26/1000 - Adjacency: hybrid - Train Loss: 0.0447 | Val Loss: 1.5479 | R² per node: [0.22948718070983887, -2472.24609375, -19.00163459777832, -1.9746251106262207, 0.7233885526657104, -48.29384231567383, -96.15653991699219]\n",
      "[2025-01-26 15:04:44] INFO: [BEST] Saved model -> c:\\Users\\ajaoo\\Desktop\\Projects\\GNN_spatiotemporal_project\\models\\experiment6_hybrid_h7\\best_model.pth\n",
      "[2025-01-26 15:04:44] INFO: Epoch 27/1000 - Adjacency: hybrid - Train Loss: 0.0422 | Val Loss: 1.5951 | R² per node: [0.2073337435722351, -3320.834716796875, -20.331111907958984, -2.100590705871582, 0.7309713363647461, -53.653961181640625, -106.25347137451172]\n",
      "[2025-01-26 15:04:45] INFO: Epoch 28/1000 - Adjacency: hybrid - Train Loss: 0.0421 | Val Loss: 1.7341 | R² per node: [0.13581126928329468, -3321.6748046875, -6.565221309661865, -2.084723711013794, 0.4689878225326538, -25.518598556518555, -49.2573127746582]\n",
      "[2025-01-26 15:04:45] INFO: Epoch 29/1000 - Adjacency: hybrid - Train Loss: 0.0427 | Val Loss: 1.6124 | R² per node: [0.19638514518737793, -3091.98095703125, -8.257465362548828, -1.0772767066955566, 0.6626654863357544, -30.77851676940918, -53.02228927612305]\n",
      "[2025-01-26 15:04:46] INFO: Epoch 30/1000 - Adjacency: hybrid - Train Loss: 0.0377 | Val Loss: 1.5351 | R² per node: [0.23592740297317505, -2929.696533203125, -11.500349998474121, -1.124506950378418, 0.7202838659286499, -36.03904342651367, -60.21620559692383]\n",
      "[2025-01-26 15:04:46] INFO: [BEST] Saved model -> c:\\Users\\ajaoo\\Desktop\\Projects\\GNN_spatiotemporal_project\\models\\experiment6_hybrid_h7\\best_model.pth\n",
      "[2025-01-26 15:04:46] INFO: Epoch 31/1000 - Adjacency: hybrid - Train Loss: 0.0371 | Val Loss: 1.5558 | R² per node: [0.22909390926361084, -3174.60400390625, -44.59556579589844, -6.362380027770996, 0.789641797542572, -63.540252685546875, -246.26507568359375]\n",
      "[2025-01-26 15:04:46] INFO: Epoch 32/1000 - Adjacency: hybrid - Train Loss: 0.0346 | Val Loss: 1.5332 | R² per node: [0.2390047311782837, -2954.702880859375, -28.54348373413086, -3.9881229400634766, 0.7818505764007568, -59.349517822265625, -166.53663635253906]\n",
      "[2025-01-26 15:04:46] INFO: [BEST] Saved model -> c:\\Users\\ajaoo\\Desktop\\Projects\\GNN_spatiotemporal_project\\models\\experiment6_hybrid_h7\\best_model.pth\n",
      "[2025-01-26 15:04:47] INFO: Epoch 33/1000 - Adjacency: hybrid - Train Loss: 0.0354 | Val Loss: 1.5878 | R² per node: [0.21117866039276123, -3049.757568359375, -29.354116439819336, -4.559683799743652, 0.8065687417984009, -59.50468826293945, -174.05264282226562]\n",
      "[2025-01-26 15:04:47] INFO: Epoch 34/1000 - Adjacency: hybrid - Train Loss: 0.0360 | Val Loss: 1.5024 | R² per node: [0.253848135471344, -3499.967529296875, -10.986166000366211, -1.0174610614776611, 0.7818482518196106, -47.706844329833984, -62.551761627197266]\n",
      "[2025-01-26 15:04:47] INFO: [BEST] Saved model -> c:\\Users\\ajaoo\\Desktop\\Projects\\GNN_spatiotemporal_project\\models\\experiment6_hybrid_h7\\best_model.pth\n",
      "[2025-01-26 15:04:48] INFO: Epoch 35/1000 - Adjacency: hybrid - Train Loss: 0.0323 | Val Loss: 1.5721 | R² per node: [0.21527934074401855, -2517.93212890625, -7.774613380432129, -1.192289113998413, 0.676641583442688, -29.95246124267578, -52.24299240112305]\n",
      "[2025-01-26 15:04:48] INFO: Epoch 36/1000 - Adjacency: hybrid - Train Loss: 0.0333 | Val Loss: 1.5113 | R² per node: [0.2458559274673462, -2404.71337890625, -10.261353492736816, -1.2254562377929688, 0.7640635371208191, -36.82307815551758, -62.54051971435547]\n",
      "[2025-01-26 15:04:48] INFO: Epoch 37/1000 - Adjacency: hybrid - Train Loss: 0.0319 | Val Loss: 1.5395 | R² per node: [0.23303955793380737, -2863.626220703125, -11.489556312561035, -1.4744629859924316, 0.7381373643875122, -42.01344680786133, -74.45696258544922]\n",
      "[2025-01-26 15:04:49] INFO: Epoch 38/1000 - Adjacency: hybrid - Train Loss: 0.0298 | Val Loss: 1.4724 | R² per node: [0.2658044099807739, -2163.057861328125, -17.055561065673828, -2.501516819000244, 0.8029605150222778, -46.35604476928711, -107.4302749633789]\n",
      "[2025-01-26 15:04:49] INFO: [BEST] Saved model -> c:\\Users\\ajaoo\\Desktop\\Projects\\GNN_spatiotemporal_project\\models\\experiment6_hybrid_h7\\best_model.pth\n",
      "[2025-01-26 15:04:49] INFO: Epoch 39/1000 - Adjacency: hybrid - Train Loss: 0.0358 | Val Loss: 1.4596 | R² per node: [0.2789056897163391, -4228.4208984375, -31.95429229736328, -4.6164774894714355, 0.8098037838935852, -67.38069915771484, -171.4569854736328]\n",
      "[2025-01-26 15:04:49] INFO: [BEST] Saved model -> c:\\Users\\ajaoo\\Desktop\\Projects\\GNN_spatiotemporal_project\\models\\experiment6_hybrid_h7\\best_model.pth\n",
      "[2025-01-26 15:04:50] INFO: Epoch 40/1000 - Adjacency: hybrid - Train Loss: 0.0352 | Val Loss: 1.5240 | R² per node: [0.24691331386566162, -4558.4443359375, -25.355525970458984, -3.4690418243408203, 0.7943243384361267, -76.60714721679688, -135.751953125]\n",
      "[2025-01-26 15:04:50] INFO: Epoch 41/1000 - Adjacency: hybrid - Train Loss: 0.0314 | Val Loss: 1.4483 | R² per node: [0.2794966697692871, -3284.37451171875, -5.350522994995117, -1.1633555889129639, 0.7403558492660522, -36.65160369873047, -42.29978561401367]\n",
      "[2025-01-26 15:04:50] INFO: [BEST] Saved model -> c:\\Users\\ajaoo\\Desktop\\Projects\\GNN_spatiotemporal_project\\models\\experiment6_hybrid_h7\\best_model.pth\n",
      "[2025-01-26 15:04:50] INFO: Epoch 42/1000 - Adjacency: hybrid - Train Loss: 0.0295 | Val Loss: 1.4679 | R² per node: [0.2689036726951599, -2786.640380859375, -9.48257827758789, -2.701678991317749, 0.6710081696510315, -33.0150260925293, -73.36573791503906]\n",
      "[2025-01-26 15:04:51] INFO: Epoch 43/1000 - Adjacency: hybrid - Train Loss: 0.0298 | Val Loss: 1.4267 | R² per node: [0.2989453077316284, -5296.1630859375, -32.877777099609375, -5.186290264129639, 0.7953483462333679, -85.51272583007812, -184.58529663085938]\n",
      "[2025-01-26 15:04:51] INFO: [BEST] Saved model -> c:\\Users\\ajaoo\\Desktop\\Projects\\GNN_spatiotemporal_project\\models\\experiment6_hybrid_h7\\best_model.pth\n",
      "[2025-01-26 15:04:51] INFO: Epoch 44/1000 - Adjacency: hybrid - Train Loss: 0.0308 | Val Loss: 1.4547 | R² per node: [0.2811393141746521, -4051.96728515625, -25.85427474975586, -3.8847036361694336, 0.8107382655143738, -69.60012817382812, -143.00262451171875]\n",
      "[2025-01-26 15:04:51] INFO: Epoch 45/1000 - Adjacency: hybrid - Train Loss: 0.0291 | Val Loss: 1.4302 | R² per node: [0.29031050205230713, -3178.85107421875, -11.073004722595215, -1.527784824371338, 0.7876646518707275, -59.69205856323242, -65.44607543945312]\n",
      "[2025-01-26 15:04:52] INFO: Epoch 46/1000 - Adjacency: hybrid - Train Loss: 0.0296 | Val Loss: 1.5190 | R² per node: [0.24674034118652344, -3492.161865234375, -23.727272033691406, -3.8889002799987793, 0.7678060531616211, -63.237701416015625, -147.350341796875]\n",
      "[2025-01-26 15:04:52] INFO: Epoch 47/1000 - Adjacency: hybrid - Train Loss: 0.0320 | Val Loss: 1.3836 | R² per node: [0.31130707263946533, -3081.414794921875, -8.951451301574707, -3.126821994781494, 0.7990020513534546, -30.827524185180664, -95.11039733886719]\n",
      "[2025-01-26 15:04:52] INFO: [BEST] Saved model -> c:\\Users\\ajaoo\\Desktop\\Projects\\GNN_spatiotemporal_project\\models\\experiment6_hybrid_h7\\best_model.pth\n",
      "[2025-01-26 15:04:53] INFO: Epoch 48/1000 - Adjacency: hybrid - Train Loss: 0.0306 | Val Loss: 1.5055 | R² per node: [0.2477976679801941, -1634.7520751953125, -12.976141929626465, -3.443509578704834, 0.5945090055465698, -27.37398338317871, -96.43956756591797]\n",
      "[2025-01-26 15:04:53] INFO: Epoch 49/1000 - Adjacency: hybrid - Train Loss: 0.0296 | Val Loss: 1.4778 | R² per node: [0.26340484619140625, -2603.910400390625, -9.901266098022461, -3.5252718925476074, 0.5509393811225891, -19.809831619262695, -90.010986328125]\n",
      "[2025-01-26 15:04:53] INFO: Epoch 50/1000 - Adjacency: hybrid - Train Loss: 0.0298 | Val Loss: 1.4526 | R² per node: [0.27661144733428955, -2866.772705078125, -7.560206413269043, -1.4418015480041504, 0.754496157169342, -44.47614288330078, -56.41450881958008]\n",
      "[2025-01-26 15:04:54] INFO: Epoch 51/1000 - Adjacency: hybrid - Train Loss: 0.0251 | Val Loss: 1.4628 | R² per node: [0.27295982837677, -3196.241455078125, -14.087772369384766, -2.593832015991211, 0.7609342932701111, -53.176048278808594, -97.17739868164062]\n"
     ]
    },
    {
     "name": "stdout",
     "output_type": "stream",
     "text": [
      "Epoch 00051: reducing learning rate of group 0 to 5.0000e-04.\n"
     ]
    },
    {
     "name": "stderr",
     "output_type": "stream",
     "text": [
      "[2025-01-26 15:04:54] INFO: Epoch 52/1000 - Adjacency: hybrid - Train Loss: 0.0253 | Val Loss: 1.4751 | R² per node: [0.2665122151374817, -3182.404541015625, -10.958484649658203, -2.294811964035034, 0.6502125263214111, -45.320884704589844, -83.76534271240234]\n",
      "[2025-01-26 15:04:55] INFO: Epoch 53/1000 - Adjacency: hybrid - Train Loss: 0.0247 | Val Loss: 1.4321 | R² per node: [0.29147857427597046, -4136.62939453125, -16.387910842895508, -3.3866238594055176, 0.7685597538948059, -67.87687683105469, -117.99139404296875]\n",
      "[2025-01-26 15:04:55] INFO: Epoch 54/1000 - Adjacency: hybrid - Train Loss: 0.0245 | Val Loss: 1.4271 | R² per node: [0.2932640314102173, -3369.846435546875, -25.402931213378906, -5.601115703582764, 0.7796367406845093, -66.75311279296875, -170.9033966064453]\n",
      "[2025-01-26 15:04:55] INFO: Epoch 55/1000 - Adjacency: hybrid - Train Loss: 0.0252 | Val Loss: 1.4478 | R² per node: [0.278872549533844, -2787.49609375, -9.55496597290039, -1.9990301132202148, 0.709484338760376, -38.70999526977539, -72.17042541503906]\n"
     ]
    },
    {
     "name": "stdout",
     "output_type": "stream",
     "text": [
      "Epoch 00055: reducing learning rate of group 0 to 2.5000e-04.\n"
     ]
    },
    {
     "name": "stderr",
     "output_type": "stream",
     "text": [
      "[2025-01-26 15:04:56] INFO: Epoch 56/1000 - Adjacency: hybrid - Train Loss: 0.0237 | Val Loss: 1.4422 | R² per node: [0.28272974491119385, -3124.770263671875, -10.216445922851562, -2.1475677490234375, 0.7171579003334045, -46.94743728637695, -76.35111999511719]\n",
      "[2025-01-26 15:04:56] INFO: Epoch 57/1000 - Adjacency: hybrid - Train Loss: 0.0240 | Val Loss: 1.4528 | R² per node: [0.27750974893569946, -3212.062744140625, -10.566189765930176, -2.127452850341797, 0.7227380275726318, -46.86537551879883, -81.06591796875]\n",
      "[2025-01-26 15:04:57] INFO: Epoch 58/1000 - Adjacency: hybrid - Train Loss: 0.0236 | Val Loss: 1.4408 | R² per node: [0.2850770354270935, -3703.21923828125, -11.987892150878906, -2.534511089324951, 0.7360828518867493, -55.00738525390625, -89.83837127685547]\n",
      "[2025-01-26 15:04:57] INFO: Epoch 59/1000 - Adjacency: hybrid - Train Loss: 0.0234 | Val Loss: 1.4545 | R² per node: [0.27771908044815063, -3446.255615234375, -14.387929916381836, -2.9816508293151855, 0.7396153211593628, -54.29500198364258, -105.3327407836914]\n"
     ]
    },
    {
     "name": "stdout",
     "output_type": "stream",
     "text": [
      "Epoch 00059: reducing learning rate of group 0 to 1.2500e-04.\n"
     ]
    },
    {
     "name": "stderr",
     "output_type": "stream",
     "text": [
      "[2025-01-26 15:04:57] INFO: Epoch 60/1000 - Adjacency: hybrid - Train Loss: 0.0228 | Val Loss: 1.4263 | R² per node: [0.29265451431274414, -3843.796630859375, -10.468306541442871, -2.1685009002685547, 0.7445120215415955, -56.99458694458008, -81.07487487792969]\n",
      "[2025-01-26 15:04:58] INFO: Epoch 61/1000 - Adjacency: hybrid - Train Loss: 0.0225 | Val Loss: 1.4371 | R² per node: [0.28646498918533325, -3520.507080078125, -13.655985832214355, -2.7921102046966553, 0.7436559796333313, -52.15547180175781, -100.3530044555664]\n",
      "[2025-01-26 15:04:58] INFO: Epoch 62/1000 - Adjacency: hybrid - Train Loss: 0.0235 | Val Loss: 1.4278 | R² per node: [0.2921757102012634, -4050.129638671875, -10.607705116271973, -2.003156900405884, 0.7404528260231018, -53.49787521362305, -78.45892333984375]\n",
      "[2025-01-26 15:04:59] INFO: Epoch 63/1000 - Adjacency: hybrid - Train Loss: 0.0236 | Val Loss: 1.4323 | R² per node: [0.2892882227897644, -3742.909912109375, -12.333054542541504, -2.386946201324463, 0.7385543584823608, -50.99174499511719, -89.48464965820312]\n"
     ]
    },
    {
     "name": "stdout",
     "output_type": "stream",
     "text": [
      "Epoch 00063: reducing learning rate of group 0 to 6.2500e-05.\n"
     ]
    },
    {
     "name": "stderr",
     "output_type": "stream",
     "text": [
      "[2025-01-26 15:04:59] INFO: Epoch 64/1000 - Adjacency: hybrid - Train Loss: 0.0237 | Val Loss: 1.4482 | R² per node: [0.28115421533584595, -3555.013916015625, -12.820236206054688, -2.670297861099243, 0.7048748731613159, -55.124778747558594, -95.46311950683594]\n",
      "[2025-01-26 15:04:59] INFO: Epoch 65/1000 - Adjacency: hybrid - Train Loss: 0.0236 | Val Loss: 1.4278 | R² per node: [0.29219383001327515, -3857.89453125, -14.109209060668945, -2.9200520515441895, 0.7523972988128662, -57.11088562011719, -101.91111755371094]\n",
      "[2025-01-26 15:05:00] INFO: Epoch 66/1000 - Adjacency: hybrid - Train Loss: 0.0230 | Val Loss: 1.4372 | R² per node: [0.2862747311592102, -3552.7783203125, -12.381050109863281, -2.605118989944458, 0.7288899421691895, -48.904537200927734, -92.66946411132812]\n",
      "[2025-01-26 15:05:00] INFO: Epoch 67/1000 - Adjacency: hybrid - Train Loss: 0.0233 | Val Loss: 1.4215 | R² per node: [0.2949911952018738, -3809.503173828125, -12.864063262939453, -2.685985803604126, 0.7343825101852417, -54.21918487548828, -94.73363494873047]\n",
      "[2025-01-26 15:05:00] INFO: Early stopping triggered.\n"
     ]
    },
    {
     "name": "stdout",
     "output_type": "stream",
     "text": [
      "Epoch 00067: reducing learning rate of group 0 to 3.1250e-05.\n"
     ]
    },
    {
     "name": "stderr",
     "output_type": "stream",
     "text": [
      "[2025-01-26 15:05:01] INFO: Saved loss curves -> c:\\Users\\ajaoo\\Desktop\\Projects\\GNN_spatiotemporal_project\\figures\\experiment6_hybrid_h7\\training_validation_loss\\train_val_loss_experiment6_hybrid_h7.png\n",
      "[2025-01-26 15:05:01] INFO: Experiment 6, Adjacency=hybrid, Horizon=7 => Test MSE: 0.0093\n",
      "[2025-01-26 15:05:01] INFO: Final model saved -> c:\\Users\\ajaoo\\Desktop\\Projects\\GNN_spatiotemporal_project\\models\\experiment6_hybrid_h7\\epignn_final_model.pth\n",
      "[2025-01-26 15:05:01] INFO: \n",
      "=== Starting experiments for horizon=14 ===\n",
      "[2025-01-26 15:05:01] INFO: \n",
      "--- Experiment 7: Adjacency Type = static, Horizon = 14 ---\n",
      "[2025-01-26 15:05:02] INFO: Epoch 1/1000 - Adjacency: static - Train Loss: 0.8044 | Val Loss: 3.0680 | R² per node: [-0.6317689418792725, -8340.5419921875, -357.2799377441406, -91.6158447265625, -4.365848064422607, -246.74514770507812, -2823.845458984375]\n",
      "[2025-01-26 15:05:02] INFO: [BEST] Saved model -> c:\\Users\\ajaoo\\Desktop\\Projects\\GNN_spatiotemporal_project\\models\\experiment7_static_h14\\best_model.pth\n",
      "[2025-01-26 15:05:02] INFO: Epoch 2/1000 - Adjacency: static - Train Loss: 0.4537 | Val Loss: 2.5739 | R² per node: [-0.3501102924346924, -17821.236328125, -365.4097900390625, -88.1444320678711, -0.40749120712280273, -314.2474670410156, -2618.767822265625]\n",
      "[2025-01-26 15:05:02] INFO: [BEST] Saved model -> c:\\Users\\ajaoo\\Desktop\\Projects\\GNN_spatiotemporal_project\\models\\experiment7_static_h14\\best_model.pth\n",
      "[2025-01-26 15:05:03] INFO: Epoch 3/1000 - Adjacency: static - Train Loss: 0.2895 | Val Loss: 2.1826 | R² per node: [-0.18182337284088135, -7324.35693359375, -218.9186553955078, -41.90747833251953, 0.1184796690940857, -175.74766540527344, -687.2505493164062]\n",
      "[2025-01-26 15:05:03] INFO: [BEST] Saved model -> c:\\Users\\ajaoo\\Desktop\\Projects\\GNN_spatiotemporal_project\\models\\experiment7_static_h14\\best_model.pth\n",
      "[2025-01-26 15:05:03] INFO: Epoch 4/1000 - Adjacency: static - Train Loss: 0.2156 | Val Loss: 2.0169 | R² per node: [-0.0943368673324585, -6812.6240234375, -205.66322326660156, -21.665510177612305, -0.021616816520690918, -130.00636291503906, -526.7332763671875]\n",
      "[2025-01-26 15:05:03] INFO: [BEST] Saved model -> c:\\Users\\ajaoo\\Desktop\\Projects\\GNN_spatiotemporal_project\\models\\experiment7_static_h14\\best_model.pth\n",
      "[2025-01-26 15:05:03] INFO: Epoch 5/1000 - Adjacency: static - Train Loss: 0.1884 | Val Loss: 1.9160 | R² per node: [-0.05007338523864746, -8707.591796875, -56.67509460449219, -22.633535385131836, 0.5496529340744019, -46.651222229003906, -144.58523559570312]\n",
      "[2025-01-26 15:05:03] INFO: [BEST] Saved model -> c:\\Users\\ajaoo\\Desktop\\Projects\\GNN_spatiotemporal_project\\models\\experiment7_static_h14\\best_model.pth\n",
      "[2025-01-26 15:05:04] INFO: Epoch 6/1000 - Adjacency: static - Train Loss: 0.1758 | Val Loss: 1.8700 | R² per node: [-0.015142083168029785, -11200.990234375, -120.31318664550781, -6.0324907302856445, 0.45295077562332153, -81.30876159667969, -272.36529541015625]\n",
      "[2025-01-26 15:05:04] INFO: [BEST] Saved model -> c:\\Users\\ajaoo\\Desktop\\Projects\\GNN_spatiotemporal_project\\models\\experiment7_static_h14\\best_model.pth\n",
      "[2025-01-26 15:05:04] INFO: Epoch 7/1000 - Adjacency: static - Train Loss: 0.1680 | Val Loss: 1.8014 | R² per node: [0.005574047565460205, -5622.7734375, -58.16685104370117, -10.880993843078613, 0.5215170383453369, -31.303573608398438, -73.86157989501953]\n",
      "[2025-01-26 15:05:04] INFO: [BEST] Saved model -> c:\\Users\\ajaoo\\Desktop\\Projects\\GNN_spatiotemporal_project\\models\\experiment7_static_h14\\best_model.pth\n",
      "[2025-01-26 15:05:04] INFO: Epoch 8/1000 - Adjacency: static - Train Loss: 0.1569 | Val Loss: 1.7560 | R² per node: [0.03767138719558716, -7650.6455078125, -69.87551879882812, -6.68231725692749, 0.43248069286346436, -52.695701599121094, -96.5624771118164]\n",
      "[2025-01-26 15:05:04] INFO: [BEST] Saved model -> c:\\Users\\ajaoo\\Desktop\\Projects\\GNN_spatiotemporal_project\\models\\experiment7_static_h14\\best_model.pth\n",
      "[2025-01-26 15:05:05] INFO: Epoch 9/1000 - Adjacency: static - Train Loss: 0.1493 | Val Loss: 1.6990 | R² per node: [0.06677556037902832, -6592.14208984375, -70.62571716308594, -5.696797847747803, 0.4900599718093872, -51.12656784057617, -92.44815063476562]\n",
      "[2025-01-26 15:05:05] INFO: [BEST] Saved model -> c:\\Users\\ajaoo\\Desktop\\Projects\\GNN_spatiotemporal_project\\models\\experiment7_static_h14\\best_model.pth\n",
      "[2025-01-26 15:05:05] INFO: Epoch 10/1000 - Adjacency: static - Train Loss: 0.1467 | Val Loss: 1.6388 | R² per node: [0.09257644414901733, -2726.893798828125, -65.19756317138672, -4.309718132019043, 0.4439816474914551, -48.677345275878906, -82.22021484375]\n",
      "[2025-01-26 15:05:05] INFO: [BEST] Saved model -> c:\\Users\\ajaoo\\Desktop\\Projects\\GNN_spatiotemporal_project\\models\\experiment7_static_h14\\best_model.pth\n",
      "[2025-01-26 15:05:06] INFO: Epoch 11/1000 - Adjacency: static - Train Loss: 0.1368 | Val Loss: 1.5696 | R² per node: [0.1352871060371399, -3471.138427734375, -76.07307434082031, -4.852339267730713, 0.38275146484375, -61.916717529296875, -119.0079116821289]\n",
      "[2025-01-26 15:05:06] INFO: [BEST] Saved model -> c:\\Users\\ajaoo\\Desktop\\Projects\\GNN_spatiotemporal_project\\models\\experiment7_static_h14\\best_model.pth\n",
      "[2025-01-26 15:05:06] INFO: Epoch 12/1000 - Adjacency: static - Train Loss: 0.1307 | Val Loss: 1.5436 | R² per node: [0.15398353338241577, -3579.6103515625, -97.96124267578125, -3.539360523223877, 0.15340536832809448, -80.08063507080078, -184.7581329345703]\n",
      "[2025-01-26 15:05:06] INFO: [BEST] Saved model -> c:\\Users\\ajaoo\\Desktop\\Projects\\GNN_spatiotemporal_project\\models\\experiment7_static_h14\\best_model.pth\n",
      "[2025-01-26 15:05:06] INFO: Epoch 13/1000 - Adjacency: static - Train Loss: 0.1347 | Val Loss: 1.5104 | R² per node: [0.1685885190963745, -3093.194580078125, -68.07344818115234, -5.497328281402588, 0.44699281454086304, -88.30392456054688, -148.48126220703125]\n",
      "[2025-01-26 15:05:06] INFO: [BEST] Saved model -> c:\\Users\\ajaoo\\Desktop\\Projects\\GNN_spatiotemporal_project\\models\\experiment7_static_h14\\best_model.pth\n",
      "[2025-01-26 15:05:07] INFO: Epoch 14/1000 - Adjacency: static - Train Loss: 0.1292 | Val Loss: 1.4950 | R² per node: [0.17090588808059692, -2288.41064453125, -40.354671478271484, -9.365741729736328, 0.5284419655799866, -48.274986267089844, -80.00613403320312]\n",
      "[2025-01-26 15:05:07] INFO: [BEST] Saved model -> c:\\Users\\ajaoo\\Desktop\\Projects\\GNN_spatiotemporal_project\\models\\experiment7_static_h14\\best_model.pth\n",
      "[2025-01-26 15:05:07] INFO: Epoch 15/1000 - Adjacency: static - Train Loss: 0.1187 | Val Loss: 1.4577 | R² per node: [0.1981244683265686, -2903.519287109375, -89.128662109375, -3.6850624084472656, 0.4746965765953064, -87.06988525390625, -178.447021484375]\n",
      "[2025-01-26 15:05:07] INFO: [BEST] Saved model -> c:\\Users\\ajaoo\\Desktop\\Projects\\GNN_spatiotemporal_project\\models\\experiment7_static_h14\\best_model.pth\n",
      "[2025-01-26 15:05:07] INFO: Epoch 16/1000 - Adjacency: static - Train Loss: 0.1084 | Val Loss: 1.4402 | R² per node: [0.2052728533744812, -2007.64892578125, -59.3502311706543, -5.51788330078125, 0.5809242129325867, -118.55958557128906, -148.02102661132812]\n",
      "[2025-01-26 15:05:07] INFO: [BEST] Saved model -> c:\\Users\\ajaoo\\Desktop\\Projects\\GNN_spatiotemporal_project\\models\\experiment7_static_h14\\best_model.pth\n",
      "[2025-01-26 15:05:08] INFO: Epoch 17/1000 - Adjacency: static - Train Loss: 0.1159 | Val Loss: 1.3817 | R² per node: [0.24657553434371948, -3535.24658203125, -95.80635070800781, -3.340965747833252, 0.5286915302276611, -156.32095336914062, -284.6486511230469]\n",
      "[2025-01-26 15:05:08] INFO: [BEST] Saved model -> c:\\Users\\ajaoo\\Desktop\\Projects\\GNN_spatiotemporal_project\\models\\experiment7_static_h14\\best_model.pth\n",
      "[2025-01-26 15:05:08] INFO: Epoch 18/1000 - Adjacency: static - Train Loss: 0.1006 | Val Loss: 1.3718 | R² per node: [0.2382996678352356, -1523.486572265625, -46.7856559753418, -5.680509090423584, 0.7006456851959229, -62.05561447143555, -91.96868133544922]\n",
      "[2025-01-26 15:05:08] INFO: [BEST] Saved model -> c:\\Users\\ajaoo\\Desktop\\Projects\\GNN_spatiotemporal_project\\models\\experiment7_static_h14\\best_model.pth\n",
      "[2025-01-26 15:05:09] INFO: Epoch 19/1000 - Adjacency: static - Train Loss: 0.0908 | Val Loss: 1.3736 | R² per node: [0.23809760808944702, -1546.336669921875, -39.61753845214844, -7.43605899810791, 0.6739795207977295, -73.12957000732422, -100.5099868774414]\n",
      "[2025-01-26 15:05:09] INFO: Epoch 20/1000 - Adjacency: static - Train Loss: 0.0945 | Val Loss: 1.3157 | R² per node: [0.27739423513412476, -1774.4989013671875, -62.726741790771484, -4.52193021774292, 0.23293405771255493, -123.9692153930664, -113.83086395263672]\n",
      "[2025-01-26 15:05:09] INFO: [BEST] Saved model -> c:\\Users\\ajaoo\\Desktop\\Projects\\GNN_spatiotemporal_project\\models\\experiment7_static_h14\\best_model.pth\n",
      "[2025-01-26 15:05:09] INFO: Epoch 21/1000 - Adjacency: static - Train Loss: 0.0882 | Val Loss: 1.2972 | R² per node: [0.2892940640449524, -2187.309814453125, -79.29998016357422, -4.052036285400391, 0.49336838722229004, -155.06578063964844, -179.13436889648438]\n",
      "[2025-01-26 15:05:09] INFO: [BEST] Saved model -> c:\\Users\\ajaoo\\Desktop\\Projects\\GNN_spatiotemporal_project\\models\\experiment7_static_h14\\best_model.pth\n",
      "[2025-01-26 15:05:10] INFO: Epoch 22/1000 - Adjacency: static - Train Loss: 0.0934 | Val Loss: 1.2821 | R² per node: [0.29147589206695557, -1559.9268798828125, -31.698589324951172, -8.276243209838867, 0.5606070160865784, -107.85969543457031, -130.2306671142578]\n",
      "[2025-01-26 15:05:10] INFO: [BEST] Saved model -> c:\\Users\\ajaoo\\Desktop\\Projects\\GNN_spatiotemporal_project\\models\\experiment7_static_h14\\best_model.pth\n",
      "[2025-01-26 15:05:10] INFO: Epoch 23/1000 - Adjacency: static - Train Loss: 0.0978 | Val Loss: 1.2603 | R² per node: [0.31460970640182495, -2249.665771484375, -89.72575378417969, -5.999502658843994, -0.05490684509277344, -153.15249633789062, -277.87786865234375]\n",
      "[2025-01-26 15:05:10] INFO: [BEST] Saved model -> c:\\Users\\ajaoo\\Desktop\\Projects\\GNN_spatiotemporal_project\\models\\experiment7_static_h14\\best_model.pth\n",
      "[2025-01-26 15:05:11] INFO: Epoch 24/1000 - Adjacency: static - Train Loss: 0.0918 | Val Loss: 1.2591 | R² per node: [0.310944139957428, -2075.09033203125, -78.90232849121094, -4.659142017364502, 0.5024304389953613, -152.93992614746094, -259.48272705078125]\n",
      "[2025-01-26 15:05:11] INFO: [BEST] Saved model -> c:\\Users\\ajaoo\\Desktop\\Projects\\GNN_spatiotemporal_project\\models\\experiment7_static_h14\\best_model.pth\n",
      "[2025-01-26 15:05:11] INFO: Epoch 25/1000 - Adjacency: static - Train Loss: 0.0858 | Val Loss: 1.3137 | R² per node: [0.2716839909553528, -954.7551879882812, -30.012163162231445, -6.528011798858643, 0.6803481578826904, -118.64382934570312, -197.08090209960938]\n",
      "[2025-01-26 15:05:11] INFO: Epoch 26/1000 - Adjacency: static - Train Loss: 0.0738 | Val Loss: 1.2286 | R² per node: [0.3228874206542969, -1940.0399169921875, -46.551727294921875, -4.339592933654785, 0.3908345103263855, -97.62306213378906, -79.9209976196289]\n",
      "[2025-01-26 15:05:11] INFO: [BEST] Saved model -> c:\\Users\\ajaoo\\Desktop\\Projects\\GNN_spatiotemporal_project\\models\\experiment7_static_h14\\best_model.pth\n",
      "[2025-01-26 15:05:12] INFO: Epoch 27/1000 - Adjacency: static - Train Loss: 0.0758 | Val Loss: 1.4049 | R² per node: [0.22262722253799438, -1428.61669921875, -29.817087173461914, -2.982631206512451, 0.27589231729507446, -74.01303100585938, -118.90161895751953]\n",
      "[2025-01-26 15:05:12] INFO: Epoch 28/1000 - Adjacency: static - Train Loss: 0.0748 | Val Loss: 1.1840 | R² per node: [0.3476923704147339, -1572.0731201171875, -47.093772888183594, -4.466085433959961, 0.22434896230697632, -87.65983581542969, -80.59184265136719]\n",
      "[2025-01-26 15:05:12] INFO: [BEST] Saved model -> c:\\Users\\ajaoo\\Desktop\\Projects\\GNN_spatiotemporal_project\\models\\experiment7_static_h14\\best_model.pth\n",
      "[2025-01-26 15:05:13] INFO: Epoch 29/1000 - Adjacency: static - Train Loss: 0.0722 | Val Loss: 1.1759 | R² per node: [0.3536587357521057, -1311.882080078125, -58.489505767822266, -6.229831695556641, 0.4026816487312317, -123.15753173828125, -381.37335205078125]\n",
      "[2025-01-26 15:05:13] INFO: [BEST] Saved model -> c:\\Users\\ajaoo\\Desktop\\Projects\\GNN_spatiotemporal_project\\models\\experiment7_static_h14\\best_model.pth\n",
      "[2025-01-26 15:05:13] INFO: Epoch 30/1000 - Adjacency: static - Train Loss: 0.0686 | Val Loss: 1.1899 | R² per node: [0.3403255343437195, -1478.3961181640625, -17.936359405517578, -4.0363922119140625, 0.3791854977607727, -51.052589416503906, -56.11460494995117]\n",
      "[2025-01-26 15:05:13] INFO: Epoch 31/1000 - Adjacency: static - Train Loss: 0.0626 | Val Loss: 1.2257 | R² per node: [0.3238424062728882, -1626.629638671875, -28.18155860900879, -3.3132877349853516, 0.3035924434661865, -79.0535659790039, -123.486328125]\n",
      "[2025-01-26 15:05:14] INFO: Epoch 32/1000 - Adjacency: static - Train Loss: 0.0718 | Val Loss: 1.1298 | R² per node: [0.3833945393562317, -1712.321044921875, -77.89231872558594, -7.317313194274902, 0.21188032627105713, -138.80894470214844, -346.096435546875]\n",
      "[2025-01-26 15:05:14] INFO: [BEST] Saved model -> c:\\Users\\ajaoo\\Desktop\\Projects\\GNN_spatiotemporal_project\\models\\experiment7_static_h14\\best_model.pth\n",
      "[2025-01-26 15:05:14] INFO: Epoch 33/1000 - Adjacency: static - Train Loss: 0.0571 | Val Loss: 1.1746 | R² per node: [0.3480205535888672, -1258.2877197265625, -23.052738189697266, -3.9788055419921875, 0.5431560277938843, -49.20664596557617, -101.33394622802734]\n",
      "[2025-01-26 15:05:14] INFO: Epoch 34/1000 - Adjacency: static - Train Loss: 0.0654 | Val Loss: 1.2511 | R² per node: [0.3070452809333801, -1433.093505859375, -15.76750373840332, -6.098470687866211, 0.30538028478622437, -45.75162887573242, -198.08169555664062]\n",
      "[2025-01-26 15:05:15] INFO: Epoch 35/1000 - Adjacency: static - Train Loss: 0.0669 | Val Loss: 1.1599 | R² per node: [0.36235761642456055, -1173.1036376953125, -42.82326126098633, -5.111874580383301, 0.11443692445755005, -82.03507995605469, -317.9231872558594]\n",
      "[2025-01-26 15:05:15] INFO: Epoch 36/1000 - Adjacency: static - Train Loss: 0.0702 | Val Loss: 1.1724 | R² per node: [0.34799402952194214, -1260.9693603515625, -22.774314880371094, -3.118361473083496, 0.7213364839553833, -44.80322265625, -103.85133361816406]\n"
     ]
    },
    {
     "name": "stdout",
     "output_type": "stream",
     "text": [
      "Epoch 00036: reducing learning rate of group 0 to 5.0000e-04.\n"
     ]
    },
    {
     "name": "stderr",
     "output_type": "stream",
     "text": [
      "[2025-01-26 15:05:16] INFO: Epoch 37/1000 - Adjacency: static - Train Loss: 0.0567 | Val Loss: 1.1238 | R² per node: [0.3792327642440796, -1108.4283447265625, -46.14924240112305, -5.630760669708252, 0.5555558204650879, -75.77086639404297, -260.2274475097656]\n",
      "[2025-01-26 15:05:16] INFO: [BEST] Saved model -> c:\\Users\\ajaoo\\Desktop\\Projects\\GNN_spatiotemporal_project\\models\\experiment7_static_h14\\best_model.pth\n",
      "[2025-01-26 15:05:16] INFO: Epoch 38/1000 - Adjacency: static - Train Loss: 0.0640 | Val Loss: 1.1139 | R² per node: [0.3919289708137512, -2200.19384765625, -80.52835083007812, -10.266764640808105, 0.4018558859825134, -101.78889465332031, -440.6717529296875]\n",
      "[2025-01-26 15:05:16] INFO: [BEST] Saved model -> c:\\Users\\ajaoo\\Desktop\\Projects\\GNN_spatiotemporal_project\\models\\experiment7_static_h14\\best_model.pth\n",
      "[2025-01-26 15:05:16] INFO: Epoch 39/1000 - Adjacency: static - Train Loss: 0.0613 | Val Loss: 1.1243 | R² per node: [0.3759167790412903, -1016.6408081054688, -27.492277145385742, -5.304737567901611, 0.5421076416969299, -45.44423294067383, -180.27902221679688]\n",
      "[2025-01-26 15:05:17] INFO: Epoch 40/1000 - Adjacency: static - Train Loss: 0.0597 | Val Loss: 1.1211 | R² per node: [0.3766970634460449, -975.5737915039062, -22.02649688720703, -4.829745292663574, 0.5721880197525024, -40.73628616333008, -145.50120544433594]\n",
      "[2025-01-26 15:05:17] INFO: Epoch 41/1000 - Adjacency: static - Train Loss: 0.0548 | Val Loss: 1.0956 | R² per node: [0.39424359798431396, -1248.820068359375, -31.822315216064453, -5.4810471534729, 0.45329219102859497, -65.47247314453125, -207.00416564941406]\n",
      "[2025-01-26 15:05:17] INFO: [BEST] Saved model -> c:\\Users\\ajaoo\\Desktop\\Projects\\GNN_spatiotemporal_project\\models\\experiment7_static_h14\\best_model.pth\n",
      "[2025-01-26 15:05:17] INFO: Epoch 42/1000 - Adjacency: static - Train Loss: 0.0608 | Val Loss: 1.1167 | R² per node: [0.38285958766937256, -1336.3280029296875, -35.58195495605469, -5.689446449279785, 0.4500843286514282, -62.63878631591797, -238.85775756835938]\n",
      "[2025-01-26 15:05:18] INFO: Epoch 43/1000 - Adjacency: static - Train Loss: 0.0556 | Val Loss: 1.1327 | R² per node: [0.3728864789009094, -1061.302734375, -36.01068115234375, -5.8775763511657715, 0.412345826625824, -51.10042190551758, -235.30029296875]\n",
      "[2025-01-26 15:05:18] INFO: Epoch 44/1000 - Adjacency: static - Train Loss: 0.0514 | Val Loss: 1.2955 | R² per node: [0.2815471291542053, -1504.4442138671875, -27.75637435913086, -5.341726303100586, 0.4317803978919983, -37.554527282714844, -211.67848205566406]\n",
      "[2025-01-26 15:05:19] INFO: Epoch 45/1000 - Adjacency: static - Train Loss: 0.0583 | Val Loss: 1.0812 | R² per node: [0.40255075693130493, -1245.484619140625, -51.852779388427734, -8.623016357421875, 0.6333781480789185, -57.1623420715332, -320.5353088378906]\n",
      "[2025-01-26 15:05:19] INFO: [BEST] Saved model -> c:\\Users\\ajaoo\\Desktop\\Projects\\GNN_spatiotemporal_project\\models\\experiment7_static_h14\\best_model.pth\n",
      "[2025-01-26 15:05:19] INFO: Epoch 46/1000 - Adjacency: static - Train Loss: 0.0518 | Val Loss: 1.1411 | R² per node: [0.3717101216316223, -1515.9453125, -54.30905532836914, -9.857494354248047, 0.3482016324996948, -54.50303268432617, -447.8521423339844]\n",
      "[2025-01-26 15:05:19] INFO: Epoch 47/1000 - Adjacency: static - Train Loss: 0.0470 | Val Loss: 1.1107 | R² per node: [0.3824426531791687, -859.5457763671875, -21.8320369720459, -4.8659844398498535, 0.4905545711517334, -31.147441864013672, -155.7100830078125]\n",
      "[2025-01-26 15:05:20] INFO: Epoch 48/1000 - Adjacency: static - Train Loss: 0.0545 | Val Loss: 1.1431 | R² per node: [0.3667781352996826, -1210.10888671875, -32.16738510131836, -6.521304130554199, 0.40930551290512085, -36.6164665222168, -257.4505615234375]\n",
      "[2025-01-26 15:05:20] INFO: Epoch 49/1000 - Adjacency: static - Train Loss: 0.0511 | Val Loss: 1.1186 | R² per node: [0.38235926628112793, -1263.7122802734375, -42.25189208984375, -8.57524299621582, 0.349876344203949, -42.56163024902344, -260.0038757324219]\n"
     ]
    },
    {
     "name": "stdout",
     "output_type": "stream",
     "text": [
      "Epoch 00049: reducing learning rate of group 0 to 2.5000e-04.\n"
     ]
    },
    {
     "name": "stderr",
     "output_type": "stream",
     "text": [
      "[2025-01-26 15:05:20] INFO: Epoch 50/1000 - Adjacency: static - Train Loss: 0.0535 | Val Loss: 1.1660 | R² per node: [0.35470473766326904, -1494.1690673828125, -32.72854995727539, -6.460814952850342, 0.3855210542678833, -34.78728103637695, -229.07626342773438]\n",
      "[2025-01-26 15:05:21] INFO: Epoch 51/1000 - Adjacency: static - Train Loss: 0.0492 | Val Loss: 1.1111 | R² per node: [0.38395267724990845, -1187.407958984375, -32.74944305419922, -5.823990345001221, 0.5019210577011108, -36.13146209716797, -213.38197326660156]\n",
      "[2025-01-26 15:05:21] INFO: Epoch 52/1000 - Adjacency: static - Train Loss: 0.0483 | Val Loss: 1.1374 | R² per node: [0.3716846704483032, -1373.2471923828125, -41.91048049926758, -7.862605094909668, 0.34252917766571045, -38.99570846557617, -283.7742919921875]\n",
      "[2025-01-26 15:05:22] INFO: Epoch 53/1000 - Adjacency: static - Train Loss: 0.0534 | Val Loss: 1.1072 | R² per node: [0.3860424757003784, -1150.993896484375, -32.29339599609375, -6.100653171539307, 0.48790043592453003, -32.94194793701172, -200.4928436279297]\n"
     ]
    },
    {
     "name": "stdout",
     "output_type": "stream",
     "text": [
      "Epoch 00053: reducing learning rate of group 0 to 1.2500e-04.\n"
     ]
    },
    {
     "name": "stderr",
     "output_type": "stream",
     "text": [
      "[2025-01-26 15:05:22] INFO: Epoch 54/1000 - Adjacency: static - Train Loss: 0.0511 | Val Loss: 1.1000 | R² per node: [0.38939446210861206, -1046.1768798828125, -27.74403953552246, -5.292548179626465, 0.46536874771118164, -29.12873077392578, -175.05368041992188]\n",
      "[2025-01-26 15:05:22] INFO: Epoch 55/1000 - Adjacency: static - Train Loss: 0.0446 | Val Loss: 1.1345 | R² per node: [0.3705589175224304, -1106.9501953125, -29.440895080566406, -5.659428596496582, 0.4489128589630127, -30.246883392333984, -183.04476928710938]\n",
      "[2025-01-26 15:05:23] INFO: Epoch 56/1000 - Adjacency: static - Train Loss: 0.0501 | Val Loss: 1.1359 | R² per node: [0.36885833740234375, -1060.011962890625, -25.93434715270996, -5.255417823791504, 0.4945230484008789, -26.48919677734375, -170.3756103515625]\n",
      "[2025-01-26 15:05:23] INFO: Epoch 57/1000 - Adjacency: static - Train Loss: 0.0485 | Val Loss: 1.1404 | R² per node: [0.3660385012626648, -1042.4051513671875, -22.72722053527832, -4.886684417724609, 0.46456366777420044, -24.353294372558594, -156.85455322265625]\n"
     ]
    },
    {
     "name": "stdout",
     "output_type": "stream",
     "text": [
      "Epoch 00057: reducing learning rate of group 0 to 6.2500e-05.\n"
     ]
    },
    {
     "name": "stderr",
     "output_type": "stream",
     "text": [
      "[2025-01-26 15:05:24] INFO: Epoch 58/1000 - Adjacency: static - Train Loss: 0.0536 | Val Loss: 1.1100 | R² per node: [0.38439053297042847, -1139.1650390625, -28.572301864624023, -5.632447719573975, 0.40418577194213867, -28.645540237426758, -176.13743591308594]\n",
      "[2025-01-26 15:05:24] INFO: Epoch 59/1000 - Adjacency: static - Train Loss: 0.0500 | Val Loss: 1.1140 | R² per node: [0.38123995065689087, -1059.5333251953125, -26.009233474731445, -5.260737895965576, 0.46464699506759644, -26.11975860595703, -155.50099182128906]\n",
      "[2025-01-26 15:05:24] INFO: Epoch 60/1000 - Adjacency: static - Train Loss: 0.0474 | Val Loss: 1.1223 | R² per node: [0.3768566846847534, -1047.8607177734375, -28.575273513793945, -5.655426025390625, 0.46733415126800537, -28.53851318359375, -171.1851806640625]\n",
      "[2025-01-26 15:05:25] INFO: Epoch 61/1000 - Adjacency: static - Train Loss: 0.0485 | Val Loss: 1.1359 | R² per node: [0.36866748332977295, -1069.93017578125, -24.84252166748047, -4.994233131408691, 0.49231332540512085, -24.576961517333984, -157.13162231445312]\n"
     ]
    },
    {
     "name": "stdout",
     "output_type": "stream",
     "text": [
      "Epoch 00061: reducing learning rate of group 0 to 3.1250e-05.\n"
     ]
    },
    {
     "name": "stderr",
     "output_type": "stream",
     "text": [
      "[2025-01-26 15:05:25] INFO: Epoch 62/1000 - Adjacency: static - Train Loss: 0.0558 | Val Loss: 1.1339 | R² per node: [0.3705787658691406, -1088.0223388671875, -29.469377517700195, -5.769297122955322, 0.47682249546051025, -29.223743438720703, -183.8077850341797]\n",
      "[2025-01-26 15:05:25] INFO: Epoch 63/1000 - Adjacency: static - Train Loss: 0.0543 | Val Loss: 1.1195 | R² per node: [0.3785104751586914, -1085.5938720703125, -26.90945816040039, -5.349754333496094, 0.44218921661376953, -27.37095832824707, -166.5468292236328]\n",
      "[2025-01-26 15:05:26] INFO: Epoch 64/1000 - Adjacency: static - Train Loss: 0.0481 | Val Loss: 1.1355 | R² per node: [0.36924952268600464, -1048.617919921875, -27.772319793701172, -5.536410808563232, 0.47808247804641724, -26.554594039916992, -169.40057373046875]\n",
      "[2025-01-26 15:05:26] INFO: Epoch 65/1000 - Adjacency: static - Train Loss: 0.0461 | Val Loss: 1.1387 | R² per node: [0.36760544776916504, -1063.968994140625, -27.70972442626953, -5.5455756187438965, 0.4727138876914978, -27.17213249206543, -168.73883056640625]\n",
      "[2025-01-26 15:05:26] INFO: Early stopping triggered.\n"
     ]
    },
    {
     "name": "stdout",
     "output_type": "stream",
     "text": [
      "Epoch 00065: reducing learning rate of group 0 to 1.5625e-05.\n"
     ]
    },
    {
     "name": "stderr",
     "output_type": "stream",
     "text": [
      "[2025-01-26 15:05:27] INFO: Saved loss curves -> c:\\Users\\ajaoo\\Desktop\\Projects\\GNN_spatiotemporal_project\\figures\\experiment7_static_h14\\training_validation_loss\\train_val_loss_experiment7_static_h14.png\n"
     ]
    },
    {
     "ename": "RuntimeError",
     "evalue": "stack expects each tensor to be equal size, but got [14, 7] at entry 0 and [13, 7] at entry 28",
     "output_type": "error",
     "traceback": [
      "\u001b[1;31m---------------------------------------------------------------------------\u001b[0m",
      "\u001b[1;31mRuntimeError\u001b[0m                              Traceback (most recent call last)",
      "Cell \u001b[1;32mIn[8], line 85\u001b[0m\n\u001b[0;32m     82\u001b[0m model\u001b[38;5;241m.\u001b[39mload_state_dict(torch\u001b[38;5;241m.\u001b[39mload(ckpt_path, map_location\u001b[38;5;241m=\u001b[39mdevice))\n\u001b[0;32m     83\u001b[0m model\u001b[38;5;241m.\u001b[39meval()\n\u001b[1;32m---> 85\u001b[0m test_loss, mae_per_node, rmse_per_node, r2_per_node, pcc_per_node \u001b[38;5;241m=\u001b[39m \u001b[43mtest_model\u001b[49m\u001b[43m(\u001b[49m\n\u001b[0;32m     86\u001b[0m \u001b[43m    \u001b[49m\u001b[43mmodel\u001b[49m\u001b[43m,\u001b[49m\u001b[43m \u001b[49m\u001b[43mcriterion\u001b[49m\u001b[43m,\u001b[49m\u001b[43m \u001b[49m\u001b[43mtest_loader\u001b[49m\u001b[43m,\u001b[49m\u001b[43m \u001b[49m\u001b[43madjacency_type\u001b[49m\u001b[43m,\u001b[49m\u001b[43m \u001b[49m\u001b[43madj_static\u001b[49m\u001b[43m,\u001b[49m\u001b[43m \u001b[49m\u001b[43mscaler\u001b[49m\n\u001b[0;32m     87\u001b[0m \u001b[43m\u001b[49m\u001b[43m)\u001b[49m\n\u001b[0;32m     89\u001b[0m logging\u001b[38;5;241m.\u001b[39minfo(\u001b[38;5;124mf\u001b[39m\u001b[38;5;124m\"\u001b[39m\u001b[38;5;124mExperiment \u001b[39m\u001b[38;5;132;01m{\u001b[39;00mexperiment_id\u001b[38;5;132;01m}\u001b[39;00m\u001b[38;5;124m, Adjacency=\u001b[39m\u001b[38;5;132;01m{\u001b[39;00madjacency_type\u001b[38;5;132;01m}\u001b[39;00m\u001b[38;5;124m, Horizon=\u001b[39m\u001b[38;5;132;01m{\u001b[39;00mhorizon\u001b[38;5;132;01m}\u001b[39;00m\u001b[38;5;124m => Test MSE: \u001b[39m\u001b[38;5;132;01m{\u001b[39;00mtest_loss\u001b[38;5;132;01m:\u001b[39;00m\u001b[38;5;124m.4f\u001b[39m\u001b[38;5;132;01m}\u001b[39;00m\u001b[38;5;124m\"\u001b[39m)\n\u001b[0;32m     91\u001b[0m \u001b[38;5;66;03m# Store Metrics\u001b[39;00m\n",
      "Cell \u001b[1;32mIn[7], line 89\u001b[0m, in \u001b[0;36mtest_model\u001b[1;34m(model, criterion, test_loader, adjacency_type, adj_static, scaler)\u001b[0m\n\u001b[0;32m     87\u001b[0m test_acts \u001b[38;5;241m=\u001b[39m []\n\u001b[0;32m     88\u001b[0m \u001b[38;5;28;01mwith\u001b[39;00m torch\u001b[38;5;241m.\u001b[39mno_grad():\n\u001b[1;32m---> 89\u001b[0m     \u001b[38;5;28;01mfor\u001b[39;00m batch_Xt, batch_Yt \u001b[38;5;129;01min\u001b[39;00m test_loader:\n\u001b[0;32m     90\u001b[0m         batch_Xt, batch_Yt \u001b[38;5;241m=\u001b[39m batch_Xt\u001b[38;5;241m.\u001b[39mto(device), batch_Yt\u001b[38;5;241m.\u001b[39mto(device)\n\u001b[0;32m     91\u001b[0m         bs_cur \u001b[38;5;241m=\u001b[39m batch_Xt\u001b[38;5;241m.\u001b[39msize(\u001b[38;5;241m0\u001b[39m)\n",
      "File \u001b[1;32mc:\\Users\\ajaoo\\miniconda3\\envs\\icu-demand-forecasting\\lib\\site-packages\\torch\\utils\\data\\dataloader.py:633\u001b[0m, in \u001b[0;36m_BaseDataLoaderIter.__next__\u001b[1;34m(self)\u001b[0m\n\u001b[0;32m    630\u001b[0m \u001b[38;5;28;01mif\u001b[39;00m \u001b[38;5;28mself\u001b[39m\u001b[38;5;241m.\u001b[39m_sampler_iter \u001b[38;5;129;01mis\u001b[39;00m \u001b[38;5;28;01mNone\u001b[39;00m:\n\u001b[0;32m    631\u001b[0m     \u001b[38;5;66;03m# TODO(https://github.com/pytorch/pytorch/issues/76750)\u001b[39;00m\n\u001b[0;32m    632\u001b[0m     \u001b[38;5;28mself\u001b[39m\u001b[38;5;241m.\u001b[39m_reset()  \u001b[38;5;66;03m# type: ignore[call-arg]\u001b[39;00m\n\u001b[1;32m--> 633\u001b[0m data \u001b[38;5;241m=\u001b[39m \u001b[38;5;28;43mself\u001b[39;49m\u001b[38;5;241;43m.\u001b[39;49m\u001b[43m_next_data\u001b[49m\u001b[43m(\u001b[49m\u001b[43m)\u001b[49m\n\u001b[0;32m    634\u001b[0m \u001b[38;5;28mself\u001b[39m\u001b[38;5;241m.\u001b[39m_num_yielded \u001b[38;5;241m+\u001b[39m\u001b[38;5;241m=\u001b[39m \u001b[38;5;241m1\u001b[39m\n\u001b[0;32m    635\u001b[0m \u001b[38;5;28;01mif\u001b[39;00m \u001b[38;5;28mself\u001b[39m\u001b[38;5;241m.\u001b[39m_dataset_kind \u001b[38;5;241m==\u001b[39m _DatasetKind\u001b[38;5;241m.\u001b[39mIterable \u001b[38;5;129;01mand\u001b[39;00m \\\n\u001b[0;32m    636\u001b[0m         \u001b[38;5;28mself\u001b[39m\u001b[38;5;241m.\u001b[39m_IterableDataset_len_called \u001b[38;5;129;01mis\u001b[39;00m \u001b[38;5;129;01mnot\u001b[39;00m \u001b[38;5;28;01mNone\u001b[39;00m \u001b[38;5;129;01mand\u001b[39;00m \\\n\u001b[0;32m    637\u001b[0m         \u001b[38;5;28mself\u001b[39m\u001b[38;5;241m.\u001b[39m_num_yielded \u001b[38;5;241m>\u001b[39m \u001b[38;5;28mself\u001b[39m\u001b[38;5;241m.\u001b[39m_IterableDataset_len_called:\n",
      "File \u001b[1;32mc:\\Users\\ajaoo\\miniconda3\\envs\\icu-demand-forecasting\\lib\\site-packages\\torch\\utils\\data\\dataloader.py:677\u001b[0m, in \u001b[0;36m_SingleProcessDataLoaderIter._next_data\u001b[1;34m(self)\u001b[0m\n\u001b[0;32m    675\u001b[0m \u001b[38;5;28;01mdef\u001b[39;00m \u001b[38;5;21m_next_data\u001b[39m(\u001b[38;5;28mself\u001b[39m):\n\u001b[0;32m    676\u001b[0m     index \u001b[38;5;241m=\u001b[39m \u001b[38;5;28mself\u001b[39m\u001b[38;5;241m.\u001b[39m_next_index()  \u001b[38;5;66;03m# may raise StopIteration\u001b[39;00m\n\u001b[1;32m--> 677\u001b[0m     data \u001b[38;5;241m=\u001b[39m \u001b[38;5;28;43mself\u001b[39;49m\u001b[38;5;241;43m.\u001b[39;49m\u001b[43m_dataset_fetcher\u001b[49m\u001b[38;5;241;43m.\u001b[39;49m\u001b[43mfetch\u001b[49m\u001b[43m(\u001b[49m\u001b[43mindex\u001b[49m\u001b[43m)\u001b[49m  \u001b[38;5;66;03m# may raise StopIteration\u001b[39;00m\n\u001b[0;32m    678\u001b[0m     \u001b[38;5;28;01mif\u001b[39;00m \u001b[38;5;28mself\u001b[39m\u001b[38;5;241m.\u001b[39m_pin_memory:\n\u001b[0;32m    679\u001b[0m         data \u001b[38;5;241m=\u001b[39m _utils\u001b[38;5;241m.\u001b[39mpin_memory\u001b[38;5;241m.\u001b[39mpin_memory(data, \u001b[38;5;28mself\u001b[39m\u001b[38;5;241m.\u001b[39m_pin_memory_device)\n",
      "File \u001b[1;32mc:\\Users\\ajaoo\\miniconda3\\envs\\icu-demand-forecasting\\lib\\site-packages\\torch\\utils\\data\\_utils\\fetch.py:54\u001b[0m, in \u001b[0;36m_MapDatasetFetcher.fetch\u001b[1;34m(self, possibly_batched_index)\u001b[0m\n\u001b[0;32m     52\u001b[0m \u001b[38;5;28;01melse\u001b[39;00m:\n\u001b[0;32m     53\u001b[0m     data \u001b[38;5;241m=\u001b[39m \u001b[38;5;28mself\u001b[39m\u001b[38;5;241m.\u001b[39mdataset[possibly_batched_index]\n\u001b[1;32m---> 54\u001b[0m \u001b[38;5;28;01mreturn\u001b[39;00m \u001b[38;5;28;43mself\u001b[39;49m\u001b[38;5;241;43m.\u001b[39;49m\u001b[43mcollate_fn\u001b[49m\u001b[43m(\u001b[49m\u001b[43mdata\u001b[49m\u001b[43m)\u001b[49m\n",
      "File \u001b[1;32mc:\\Users\\ajaoo\\miniconda3\\envs\\icu-demand-forecasting\\lib\\site-packages\\torch\\utils\\data\\_utils\\collate.py:265\u001b[0m, in \u001b[0;36mdefault_collate\u001b[1;34m(batch)\u001b[0m\n\u001b[0;32m    204\u001b[0m \u001b[38;5;28;01mdef\u001b[39;00m \u001b[38;5;21mdefault_collate\u001b[39m(batch):\n\u001b[0;32m    205\u001b[0m \u001b[38;5;250m    \u001b[39m\u001b[38;5;124mr\u001b[39m\u001b[38;5;124;03m\"\"\"\u001b[39;00m\n\u001b[0;32m    206\u001b[0m \u001b[38;5;124;03m        Function that takes in a batch of data and puts the elements within the batch\u001b[39;00m\n\u001b[0;32m    207\u001b[0m \u001b[38;5;124;03m        into a tensor with an additional outer dimension - batch size. The exact output type can be\u001b[39;00m\n\u001b[1;32m   (...)\u001b[0m\n\u001b[0;32m    263\u001b[0m \u001b[38;5;124;03m            >>> default_collate(batch)  # Handle `CustomType` automatically\u001b[39;00m\n\u001b[0;32m    264\u001b[0m \u001b[38;5;124;03m    \"\"\"\u001b[39;00m\n\u001b[1;32m--> 265\u001b[0m     \u001b[38;5;28;01mreturn\u001b[39;00m \u001b[43mcollate\u001b[49m\u001b[43m(\u001b[49m\u001b[43mbatch\u001b[49m\u001b[43m,\u001b[49m\u001b[43m \u001b[49m\u001b[43mcollate_fn_map\u001b[49m\u001b[38;5;241;43m=\u001b[39;49m\u001b[43mdefault_collate_fn_map\u001b[49m\u001b[43m)\u001b[49m\n",
      "File \u001b[1;32mc:\\Users\\ajaoo\\miniconda3\\envs\\icu-demand-forecasting\\lib\\site-packages\\torch\\utils\\data\\_utils\\collate.py:142\u001b[0m, in \u001b[0;36mcollate\u001b[1;34m(batch, collate_fn_map)\u001b[0m\n\u001b[0;32m    139\u001b[0m transposed \u001b[38;5;241m=\u001b[39m \u001b[38;5;28mlist\u001b[39m(\u001b[38;5;28mzip\u001b[39m(\u001b[38;5;241m*\u001b[39mbatch))  \u001b[38;5;66;03m# It may be accessed twice, so we use a list.\u001b[39;00m\n\u001b[0;32m    141\u001b[0m \u001b[38;5;28;01mif\u001b[39;00m \u001b[38;5;28misinstance\u001b[39m(elem, \u001b[38;5;28mtuple\u001b[39m):\n\u001b[1;32m--> 142\u001b[0m     \u001b[38;5;28;01mreturn\u001b[39;00m [collate(samples, collate_fn_map\u001b[38;5;241m=\u001b[39mcollate_fn_map) \u001b[38;5;28;01mfor\u001b[39;00m samples \u001b[38;5;129;01min\u001b[39;00m transposed]  \u001b[38;5;66;03m# Backwards compatibility.\u001b[39;00m\n\u001b[0;32m    143\u001b[0m \u001b[38;5;28;01melse\u001b[39;00m:\n\u001b[0;32m    144\u001b[0m     \u001b[38;5;28;01mtry\u001b[39;00m:\n",
      "File \u001b[1;32mc:\\Users\\ajaoo\\miniconda3\\envs\\icu-demand-forecasting\\lib\\site-packages\\torch\\utils\\data\\_utils\\collate.py:142\u001b[0m, in \u001b[0;36m<listcomp>\u001b[1;34m(.0)\u001b[0m\n\u001b[0;32m    139\u001b[0m transposed \u001b[38;5;241m=\u001b[39m \u001b[38;5;28mlist\u001b[39m(\u001b[38;5;28mzip\u001b[39m(\u001b[38;5;241m*\u001b[39mbatch))  \u001b[38;5;66;03m# It may be accessed twice, so we use a list.\u001b[39;00m\n\u001b[0;32m    141\u001b[0m \u001b[38;5;28;01mif\u001b[39;00m \u001b[38;5;28misinstance\u001b[39m(elem, \u001b[38;5;28mtuple\u001b[39m):\n\u001b[1;32m--> 142\u001b[0m     \u001b[38;5;28;01mreturn\u001b[39;00m [\u001b[43mcollate\u001b[49m\u001b[43m(\u001b[49m\u001b[43msamples\u001b[49m\u001b[43m,\u001b[49m\u001b[43m \u001b[49m\u001b[43mcollate_fn_map\u001b[49m\u001b[38;5;241;43m=\u001b[39;49m\u001b[43mcollate_fn_map\u001b[49m\u001b[43m)\u001b[49m \u001b[38;5;28;01mfor\u001b[39;00m samples \u001b[38;5;129;01min\u001b[39;00m transposed]  \u001b[38;5;66;03m# Backwards compatibility.\u001b[39;00m\n\u001b[0;32m    143\u001b[0m \u001b[38;5;28;01melse\u001b[39;00m:\n\u001b[0;32m    144\u001b[0m     \u001b[38;5;28;01mtry\u001b[39;00m:\n",
      "File \u001b[1;32mc:\\Users\\ajaoo\\miniconda3\\envs\\icu-demand-forecasting\\lib\\site-packages\\torch\\utils\\data\\_utils\\collate.py:119\u001b[0m, in \u001b[0;36mcollate\u001b[1;34m(batch, collate_fn_map)\u001b[0m\n\u001b[0;32m    117\u001b[0m \u001b[38;5;28;01mif\u001b[39;00m collate_fn_map \u001b[38;5;129;01mis\u001b[39;00m \u001b[38;5;129;01mnot\u001b[39;00m \u001b[38;5;28;01mNone\u001b[39;00m:\n\u001b[0;32m    118\u001b[0m     \u001b[38;5;28;01mif\u001b[39;00m elem_type \u001b[38;5;129;01min\u001b[39;00m collate_fn_map:\n\u001b[1;32m--> 119\u001b[0m         \u001b[38;5;28;01mreturn\u001b[39;00m \u001b[43mcollate_fn_map\u001b[49m\u001b[43m[\u001b[49m\u001b[43melem_type\u001b[49m\u001b[43m]\u001b[49m\u001b[43m(\u001b[49m\u001b[43mbatch\u001b[49m\u001b[43m,\u001b[49m\u001b[43m \u001b[49m\u001b[43mcollate_fn_map\u001b[49m\u001b[38;5;241;43m=\u001b[39;49m\u001b[43mcollate_fn_map\u001b[49m\u001b[43m)\u001b[49m\n\u001b[0;32m    121\u001b[0m     \u001b[38;5;28;01mfor\u001b[39;00m collate_type \u001b[38;5;129;01min\u001b[39;00m collate_fn_map:\n\u001b[0;32m    122\u001b[0m         \u001b[38;5;28;01mif\u001b[39;00m \u001b[38;5;28misinstance\u001b[39m(elem, collate_type):\n",
      "File \u001b[1;32mc:\\Users\\ajaoo\\miniconda3\\envs\\icu-demand-forecasting\\lib\\site-packages\\torch\\utils\\data\\_utils\\collate.py:162\u001b[0m, in \u001b[0;36mcollate_tensor_fn\u001b[1;34m(batch, collate_fn_map)\u001b[0m\n\u001b[0;32m    160\u001b[0m     storage \u001b[38;5;241m=\u001b[39m elem\u001b[38;5;241m.\u001b[39m_typed_storage()\u001b[38;5;241m.\u001b[39m_new_shared(numel, device\u001b[38;5;241m=\u001b[39melem\u001b[38;5;241m.\u001b[39mdevice)\n\u001b[0;32m    161\u001b[0m     out \u001b[38;5;241m=\u001b[39m elem\u001b[38;5;241m.\u001b[39mnew(storage)\u001b[38;5;241m.\u001b[39mresize_(\u001b[38;5;28mlen\u001b[39m(batch), \u001b[38;5;241m*\u001b[39m\u001b[38;5;28mlist\u001b[39m(elem\u001b[38;5;241m.\u001b[39msize()))\n\u001b[1;32m--> 162\u001b[0m \u001b[38;5;28;01mreturn\u001b[39;00m \u001b[43mtorch\u001b[49m\u001b[38;5;241;43m.\u001b[39;49m\u001b[43mstack\u001b[49m\u001b[43m(\u001b[49m\u001b[43mbatch\u001b[49m\u001b[43m,\u001b[49m\u001b[43m \u001b[49m\u001b[38;5;241;43m0\u001b[39;49m\u001b[43m,\u001b[49m\u001b[43m \u001b[49m\u001b[43mout\u001b[49m\u001b[38;5;241;43m=\u001b[39;49m\u001b[43mout\u001b[49m\u001b[43m)\u001b[49m\n",
      "\u001b[1;31mRuntimeError\u001b[0m: stack expects each tensor to be equal size, but got [14, 7] at entry 0 and [13, 7] at entry 28"
     ]
    }
   ],
   "source": [
    "# Running Experiments\n",
    "\n",
    "for horizon in horizons:\n",
    "    logging.info(f\"\\n=== Starting experiments for horizon={horizon} ===\")\n",
    "    # Update the dataset's output horizon if needed\n",
    "    dataset.num_timesteps_output = horizon\n",
    "\n",
    "    for adjacency_type in adjacency_types:\n",
    "        logging.info(f\"\\n--- Experiment {experiment_id}: Adjacency Type = {adjacency_type}, Horizon = {horizon} ---\")\n",
    "        \n",
    "        # Initialize model\n",
    "        model = EpiGNN(\n",
    "            num_nodes=dataset.num_nodes,\n",
    "            num_features=dataset.num_features,\n",
    "            num_timesteps_input=dataset.num_timesteps_input,\n",
    "            num_timesteps_output=horizon,\n",
    "            k=8,\n",
    "            hidA=32,\n",
    "            hidR=40,\n",
    "            hidP=1,\n",
    "            n_layer=3,\n",
    "            num_heads=4,\n",
    "            dropout=0.5,\n",
    "            device=device\n",
    "        ).to(device)\n",
    "\n",
    "        optimizer = optim.AdamW(model.parameters(), lr=1e-3, weight_decay=5e-4)\n",
    "        criterion = nn.MSELoss()\n",
    "        scheduler = optim.lr_scheduler.ReduceLROnPlateau(optimizer, mode='min', factor=0.5, patience=3, verbose=True)\n",
    "\n",
    "        best_val_loss = float(\"inf\")\n",
    "        patience_counter = 0\n",
    "        train_losses = []\n",
    "        val_losses = []\n",
    "\n",
    "        # Training loop\n",
    "        for epoch in range(1, 1001):  # NUM_EPOCHS = 1000\n",
    "            train_loss = train_epoch(model, optimizer, criterion, train_loader, adjacency_type, adj_static)\n",
    "            val_loss, r2_vals = validate_epoch(model, criterion, val_loader, adjacency_type, adj_static)\n",
    "\n",
    "            train_losses.append(train_loss)\n",
    "            val_losses.append(val_loss)\n",
    "            scheduler.step(val_loss)\n",
    "\n",
    "            logging.info(f\"Epoch {epoch}/1000 - Adjacency: {adjacency_type} - \"\n",
    "                         f\"Train Loss: {train_loss:.4f} | Val Loss: {val_loss:.4f} | R² per node: {r2_vals}\")\n",
    "\n",
    "            # Check for improvement\n",
    "            if val_loss < best_val_loss:\n",
    "                best_val_loss = val_loss\n",
    "                ckpt_dir = os.path.join(project_root, \"models\", f\"experiment{experiment_id}_{adjacency_type}_h{horizon}\")\n",
    "                os.makedirs(ckpt_dir, exist_ok=True)\n",
    "                ckpt_path = os.path.join(ckpt_dir, \"best_model.pth\")\n",
    "                torch.save(model.state_dict(), ckpt_path)\n",
    "                logging.info(f\"[BEST] Saved model -> {ckpt_path}\")\n",
    "                patience_counter = 0\n",
    "            else:\n",
    "                patience_counter += 1\n",
    "                if patience_counter >= 20:  # EARLY_STOPPING_PATIENCE = 20\n",
    "                    logging.info(\"Early stopping triggered.\")\n",
    "                    break\n",
    "\n",
    "        # Plot Train vs Val Loss\n",
    "        plt.figure(figsize=(10, 6))\n",
    "        sns.lineplot(x=range(1, len(train_losses)+1), y=train_losses, label=\"Train Loss\")\n",
    "        sns.lineplot(x=range(1, len(val_losses)+1), y=val_losses, label=\"Val Loss\")\n",
    "        plt.xlabel(\"Epoch\")\n",
    "        plt.ylabel(\"MSE Loss\")\n",
    "        plt.title(f\"Experiment {experiment_id}, Adjacency={adjacency_type}, Horizon={horizon}\")\n",
    "        plt.grid(True)\n",
    "        plt.legend()\n",
    "        fig_dir = os.path.join(project_root, \"figures\", f\"experiment{experiment_id}_{adjacency_type}_h{horizon}\", \"training_validation_loss\")\n",
    "        os.makedirs(fig_dir, exist_ok=True)\n",
    "        fig_path = os.path.join(fig_dir, f\"train_val_loss_experiment{experiment_id}_{adjacency_type}_h{horizon}.png\")\n",
    "        plt.savefig(fig_path, dpi=300, bbox_inches=\"tight\")\n",
    "        plt.close()\n",
    "        logging.info(f\"Saved loss curves -> {fig_path}\")\n",
    "\n",
    "        # Testing\n",
    "        # Load best model\n",
    "        ckpt_path = os.path.join(project_root, \"models\", f\"experiment{experiment_id}_{adjacency_type}_h{horizon}\", \"best_model.pth\")\n",
    "        model.load_state_dict(torch.load(ckpt_path, map_location=device))\n",
    "        model.eval()\n",
    "\n",
    "        test_loss, mae_per_node, rmse_per_node, r2_per_node, pcc_per_node = test_model(\n",
    "            model, criterion, test_loader, adjacency_type, adj_static, scaler\n",
    "        )\n",
    "\n",
    "        logging.info(f\"Experiment {experiment_id}, Adjacency={adjacency_type}, Horizon={horizon} => Test MSE: {test_loss:.4f}\")\n",
    "\n",
    "        # Store Metrics\n",
    "        for i, region in enumerate(regions):\n",
    "            metrics = {\n",
    "                \"Experiment_ID\": experiment_id,\n",
    "                \"Adjacency_Type\": adjacency_type,\n",
    "                \"Horizon\": horizon,\n",
    "                \"Region\": region,\n",
    "                \"MAE\": mae_per_node[i],\n",
    "                \"RMSE\": rmse_per_node[i],\n",
    "                \"R2_Score\": r2_per_node[i],\n",
    "                \"Pearson_Correlation\": pcc_per_node[i],\n",
    "            }\n",
    "            summary_metrics.append(metrics)\n",
    "\n",
    "        # Save Final Model\n",
    "        final_model_dir = os.path.join(project_root, \"models\", f\"experiment{experiment_id}_{adjacency_type}_h{horizon}\")\n",
    "        os.makedirs(final_model_dir, exist_ok=True)\n",
    "        final_model_path = os.path.join(final_model_dir, \"epignn_final_model.pth\")\n",
    "        torch.save(model.state_dict(), final_model_path)\n",
    "        logging.info(f\"Final model saved -> {final_model_path}\")\n",
    "\n",
    "        experiment_id += 1\n"
   ]
  },
  {
   "cell_type": "code",
   "execution_count": 12,
   "metadata": {},
   "outputs": [
    {
     "name": "stderr",
     "output_type": "stream",
     "text": [
      "[2025-01-21 18:32:29] INFO: Saving summary metrics...\n",
      "[2025-01-21 18:32:29] INFO: Saved summary metrics -> /home/toor/Projects/GNN_spatiotemporal_project/report/metrics/summary_metrics.csv\n",
      "[2025-01-21 18:32:29] INFO: Saved pivoted summary metrics -> /home/toor/Projects/GNN_spatiotemporal_project/report/metrics/summary_metrics_pivot.csv\n"
     ]
    },
    {
     "data": {
      "text/html": [
       "<div>\n",
       "<style scoped>\n",
       "    .dataframe tbody tr th:only-of-type {\n",
       "        vertical-align: middle;\n",
       "    }\n",
       "\n",
       "    .dataframe tbody tr th {\n",
       "        vertical-align: top;\n",
       "    }\n",
       "\n",
       "    .dataframe thead tr th {\n",
       "        text-align: left;\n",
       "    }\n",
       "</style>\n",
       "<table border=\"1\" class=\"dataframe\">\n",
       "  <thead>\n",
       "    <tr>\n",
       "      <th></th>\n",
       "      <th>Experiment_ID</th>\n",
       "      <th>Adjacency_Type</th>\n",
       "      <th>Horizon</th>\n",
       "      <th colspan=\"7\" halign=\"left\">MAE</th>\n",
       "      <th>...</th>\n",
       "      <th colspan=\"3\" halign=\"left\">R2_Score</th>\n",
       "      <th colspan=\"7\" halign=\"left\">RMSE</th>\n",
       "    </tr>\n",
       "    <tr>\n",
       "      <th>Region</th>\n",
       "      <th></th>\n",
       "      <th></th>\n",
       "      <th></th>\n",
       "      <th>East of England</th>\n",
       "      <th>London</th>\n",
       "      <th>Midlands</th>\n",
       "      <th>North East and Yorkshire</th>\n",
       "      <th>North West</th>\n",
       "      <th>South East</th>\n",
       "      <th>South West</th>\n",
       "      <th>...</th>\n",
       "      <th>North West</th>\n",
       "      <th>South East</th>\n",
       "      <th>South West</th>\n",
       "      <th>East of England</th>\n",
       "      <th>London</th>\n",
       "      <th>Midlands</th>\n",
       "      <th>North East and Yorkshire</th>\n",
       "      <th>North West</th>\n",
       "      <th>South East</th>\n",
       "      <th>South West</th>\n",
       "    </tr>\n",
       "  </thead>\n",
       "  <tbody>\n",
       "    <tr>\n",
       "      <th>0</th>\n",
       "      <td>1</td>\n",
       "      <td>static</td>\n",
       "      <td>3</td>\n",
       "      <td>400.864502</td>\n",
       "      <td>53.169640</td>\n",
       "      <td>90.318077</td>\n",
       "      <td>73.351532</td>\n",
       "      <td>169.137894</td>\n",
       "      <td>31.086168</td>\n",
       "      <td>66.326225</td>\n",
       "      <td>...</td>\n",
       "      <td>0.809810</td>\n",
       "      <td>-6.000605</td>\n",
       "      <td>-368.075761</td>\n",
       "      <td>504.622620</td>\n",
       "      <td>70.700661</td>\n",
       "      <td>108.621620</td>\n",
       "      <td>89.411430</td>\n",
       "      <td>205.378174</td>\n",
       "      <td>37.991550</td>\n",
       "      <td>72.289474</td>\n",
       "    </tr>\n",
       "    <tr>\n",
       "      <th>1</th>\n",
       "      <td>2</td>\n",
       "      <td>dynamic</td>\n",
       "      <td>3</td>\n",
       "      <td>455.903564</td>\n",
       "      <td>56.175747</td>\n",
       "      <td>39.251194</td>\n",
       "      <td>40.301373</td>\n",
       "      <td>152.586700</td>\n",
       "      <td>55.301769</td>\n",
       "      <td>33.912563</td>\n",
       "      <td>...</td>\n",
       "      <td>0.830847</td>\n",
       "      <td>-22.085635</td>\n",
       "      <td>-106.504013</td>\n",
       "      <td>675.480957</td>\n",
       "      <td>71.888664</td>\n",
       "      <td>45.214993</td>\n",
       "      <td>49.982899</td>\n",
       "      <td>193.686630</td>\n",
       "      <td>68.990608</td>\n",
       "      <td>39.014832</td>\n",
       "    </tr>\n",
       "    <tr>\n",
       "      <th>2</th>\n",
       "      <td>3</td>\n",
       "      <td>hybrid</td>\n",
       "      <td>3</td>\n",
       "      <td>261.887268</td>\n",
       "      <td>36.029663</td>\n",
       "      <td>69.749924</td>\n",
       "      <td>40.422863</td>\n",
       "      <td>88.413620</td>\n",
       "      <td>91.918427</td>\n",
       "      <td>37.628368</td>\n",
       "      <td>...</td>\n",
       "      <td>0.951277</td>\n",
       "      <td>-55.144567</td>\n",
       "      <td>-180.909439</td>\n",
       "      <td>340.864746</td>\n",
       "      <td>45.062958</td>\n",
       "      <td>91.408066</td>\n",
       "      <td>54.077755</td>\n",
       "      <td>103.950218</td>\n",
       "      <td>107.590286</td>\n",
       "      <td>50.751030</td>\n",
       "    </tr>\n",
       "    <tr>\n",
       "      <th>3</th>\n",
       "      <td>4</td>\n",
       "      <td>static</td>\n",
       "      <td>7</td>\n",
       "      <td>374.882507</td>\n",
       "      <td>48.354160</td>\n",
       "      <td>63.927673</td>\n",
       "      <td>42.700542</td>\n",
       "      <td>188.571350</td>\n",
       "      <td>63.029427</td>\n",
       "      <td>54.369957</td>\n",
       "      <td>...</td>\n",
       "      <td>0.772885</td>\n",
       "      <td>-34.833104</td>\n",
       "      <td>-334.131495</td>\n",
       "      <td>529.291016</td>\n",
       "      <td>63.534325</td>\n",
       "      <td>77.280136</td>\n",
       "      <td>54.898769</td>\n",
       "      <td>221.444763</td>\n",
       "      <td>85.755196</td>\n",
       "      <td>67.423531</td>\n",
       "    </tr>\n",
       "    <tr>\n",
       "      <th>4</th>\n",
       "      <td>5</td>\n",
       "      <td>dynamic</td>\n",
       "      <td>7</td>\n",
       "      <td>350.498474</td>\n",
       "      <td>51.172108</td>\n",
       "      <td>43.815174</td>\n",
       "      <td>46.539074</td>\n",
       "      <td>144.971069</td>\n",
       "      <td>53.770432</td>\n",
       "      <td>51.249371</td>\n",
       "      <td>...</td>\n",
       "      <td>0.861427</td>\n",
       "      <td>-29.373757</td>\n",
       "      <td>-231.533264</td>\n",
       "      <td>526.026855</td>\n",
       "      <td>70.067818</td>\n",
       "      <td>51.908897</td>\n",
       "      <td>54.082279</td>\n",
       "      <td>172.974228</td>\n",
       "      <td>78.952789</td>\n",
       "      <td>56.162479</td>\n",
       "    </tr>\n",
       "    <tr>\n",
       "      <th>5</th>\n",
       "      <td>6</td>\n",
       "      <td>hybrid</td>\n",
       "      <td>7</td>\n",
       "      <td>270.753601</td>\n",
       "      <td>74.751221</td>\n",
       "      <td>101.637466</td>\n",
       "      <td>65.500671</td>\n",
       "      <td>105.067505</td>\n",
       "      <td>120.156052</td>\n",
       "      <td>81.661873</td>\n",
       "      <td>...</td>\n",
       "      <td>0.901054</td>\n",
       "      <td>-93.487727</td>\n",
       "      <td>-710.642314</td>\n",
       "      <td>375.147003</td>\n",
       "      <td>91.159660</td>\n",
       "      <td>119.164604</td>\n",
       "      <td>81.529709</td>\n",
       "      <td>146.164276</td>\n",
       "      <td>139.253387</td>\n",
       "      <td>98.250465</td>\n",
       "    </tr>\n",
       "    <tr>\n",
       "      <th>6</th>\n",
       "      <td>7</td>\n",
       "      <td>static</td>\n",
       "      <td>14</td>\n",
       "      <td>475.789093</td>\n",
       "      <td>81.130615</td>\n",
       "      <td>48.264317</td>\n",
       "      <td>57.271732</td>\n",
       "      <td>260.767334</td>\n",
       "      <td>68.014053</td>\n",
       "      <td>53.878235</td>\n",
       "      <td>...</td>\n",
       "      <td>0.528456</td>\n",
       "      <td>-36.363822</td>\n",
       "      <td>-339.862227</td>\n",
       "      <td>714.919067</td>\n",
       "      <td>107.057175</td>\n",
       "      <td>62.716988</td>\n",
       "      <td>70.754715</td>\n",
       "      <td>317.023438</td>\n",
       "      <td>87.854584</td>\n",
       "      <td>67.778801</td>\n",
       "    </tr>\n",
       "    <tr>\n",
       "      <th>7</th>\n",
       "      <td>8</td>\n",
       "      <td>dynamic</td>\n",
       "      <td>14</td>\n",
       "      <td>712.360840</td>\n",
       "      <td>111.044838</td>\n",
       "      <td>106.242104</td>\n",
       "      <td>72.966202</td>\n",
       "      <td>400.052582</td>\n",
       "      <td>165.471542</td>\n",
       "      <td>77.119850</td>\n",
       "      <td>...</td>\n",
       "      <td>-0.019061</td>\n",
       "      <td>-191.411017</td>\n",
       "      <td>-732.794402</td>\n",
       "      <td>1017.626831</td>\n",
       "      <td>147.850784</td>\n",
       "      <td>134.537445</td>\n",
       "      <td>91.253967</td>\n",
       "      <td>466.048279</td>\n",
       "      <td>199.367126</td>\n",
       "      <td>99.447021</td>\n",
       "    </tr>\n",
       "    <tr>\n",
       "      <th>8</th>\n",
       "      <td>9</td>\n",
       "      <td>hybrid</td>\n",
       "      <td>14</td>\n",
       "      <td>457.934174</td>\n",
       "      <td>61.979706</td>\n",
       "      <td>148.109756</td>\n",
       "      <td>54.170204</td>\n",
       "      <td>156.825989</td>\n",
       "      <td>168.237900</td>\n",
       "      <td>65.782326</td>\n",
       "      <td>...</td>\n",
       "      <td>0.804760</td>\n",
       "      <td>-197.024843</td>\n",
       "      <td>-431.374304</td>\n",
       "      <td>698.703857</td>\n",
       "      <td>77.354065</td>\n",
       "      <td>164.514420</td>\n",
       "      <td>67.831657</td>\n",
       "      <td>203.992630</td>\n",
       "      <td>202.254807</td>\n",
       "      <td>76.336929</td>\n",
       "    </tr>\n",
       "  </tbody>\n",
       "</table>\n",
       "<p>9 rows × 31 columns</p>\n",
       "</div>"
      ],
      "text/plain": [
       "       Experiment_ID Adjacency_Type Horizon             MAE              \\\n",
       "Region                                      East of England      London   \n",
       "0                  1         static       3      400.864502   53.169640   \n",
       "1                  2        dynamic       3      455.903564   56.175747   \n",
       "2                  3         hybrid       3      261.887268   36.029663   \n",
       "3                  4         static       7      374.882507   48.354160   \n",
       "4                  5        dynamic       7      350.498474   51.172108   \n",
       "5                  6         hybrid       7      270.753601   74.751221   \n",
       "6                  7         static      14      475.789093   81.130615   \n",
       "7                  8        dynamic      14      712.360840  111.044838   \n",
       "8                  9         hybrid      14      457.934174   61.979706   \n",
       "\n",
       "                                                                     \\\n",
       "Region    Midlands North East and Yorkshire  North West  South East   \n",
       "0        90.318077                73.351532  169.137894   31.086168   \n",
       "1        39.251194                40.301373  152.586700   55.301769   \n",
       "2        69.749924                40.422863   88.413620   91.918427   \n",
       "3        63.927673                42.700542  188.571350   63.029427   \n",
       "4        43.815174                46.539074  144.971069   53.770432   \n",
       "5       101.637466                65.500671  105.067505  120.156052   \n",
       "6        48.264317                57.271732  260.767334   68.014053   \n",
       "7       106.242104                72.966202  400.052582  165.471542   \n",
       "8       148.109756                54.170204  156.825989  168.237900   \n",
       "\n",
       "                   ...   R2_Score                                    RMSE  \\\n",
       "Region South West  ... North West  South East  South West East of England   \n",
       "0       66.326225  ...   0.809810   -6.000605 -368.075761      504.622620   \n",
       "1       33.912563  ...   0.830847  -22.085635 -106.504013      675.480957   \n",
       "2       37.628368  ...   0.951277  -55.144567 -180.909439      340.864746   \n",
       "3       54.369957  ...   0.772885  -34.833104 -334.131495      529.291016   \n",
       "4       51.249371  ...   0.861427  -29.373757 -231.533264      526.026855   \n",
       "5       81.661873  ...   0.901054  -93.487727 -710.642314      375.147003   \n",
       "6       53.878235  ...   0.528456  -36.363822 -339.862227      714.919067   \n",
       "7       77.119850  ...  -0.019061 -191.411017 -732.794402     1017.626831   \n",
       "8       65.782326  ...   0.804760 -197.024843 -431.374304      698.703857   \n",
       "\n",
       "                                                                     \\\n",
       "Region      London    Midlands North East and Yorkshire  North West   \n",
       "0        70.700661  108.621620                89.411430  205.378174   \n",
       "1        71.888664   45.214993                49.982899  193.686630   \n",
       "2        45.062958   91.408066                54.077755  103.950218   \n",
       "3        63.534325   77.280136                54.898769  221.444763   \n",
       "4        70.067818   51.908897                54.082279  172.974228   \n",
       "5        91.159660  119.164604                81.529709  146.164276   \n",
       "6       107.057175   62.716988                70.754715  317.023438   \n",
       "7       147.850784  134.537445                91.253967  466.048279   \n",
       "8        77.354065  164.514420                67.831657  203.992630   \n",
       "\n",
       "                               \n",
       "Region  South East South West  \n",
       "0        37.991550  72.289474  \n",
       "1        68.990608  39.014832  \n",
       "2       107.590286  50.751030  \n",
       "3        85.755196  67.423531  \n",
       "4        78.952789  56.162479  \n",
       "5       139.253387  98.250465  \n",
       "6        87.854584  67.778801  \n",
       "7       199.367126  99.447021  \n",
       "8       202.254807  76.336929  \n",
       "\n",
       "[9 rows x 31 columns]"
      ]
     },
     "metadata": {},
     "output_type": "display_data"
    },
    {
     "name": "stderr",
     "output_type": "stream",
     "text": [
      "[2025-01-21 18:32:30] INFO: Saved R² scores plot -> /home/toor/Projects/GNN_spatiotemporal_project/figures/R2_Scores_All_Experiments.png\n"
     ]
    }
   ],
   "source": [
    "# Saving and Visualizing Results\n",
    "\n",
    "if summary_metrics:\n",
    "    logging.info(\"Saving summary metrics...\")\n",
    "    summary_df = pd.DataFrame(summary_metrics)\n",
    "    summary_metrics_path = os.path.join(project_root, \"report\", \"metrics\", \"summary_metrics.csv\")\n",
    "    os.makedirs(os.path.dirname(summary_metrics_path), exist_ok=True)\n",
    "    summary_df.to_csv(summary_metrics_path, index=False)\n",
    "    logging.info(f\"Saved summary metrics -> {summary_metrics_path}\")\n",
    "\n",
    "    # Pivot table for easier analysis\n",
    "    summary_pivot = summary_df.pivot_table(\n",
    "        index=[\"Experiment_ID\", \"Adjacency_Type\", \"Horizon\"],\n",
    "        columns=\"Region\",\n",
    "        values=[\"MAE\", \"RMSE\", \"R2_Score\", \"Pearson_Correlation\"]\n",
    "    ).reset_index()\n",
    "\n",
    "    pivot_path = os.path.join(project_root, \"report\", \"metrics\", \"summary_metrics_pivot.csv\")\n",
    "    summary_pivot.to_csv(pivot_path, index=False)\n",
    "    logging.info(f\"Saved pivoted summary metrics -> {pivot_path}\")\n",
    "\n",
    "    # Display the summary pivot\n",
    "    display(summary_pivot)\n",
    "\n",
    "    # Plotting R² scores for each experiment\n",
    "    plt.figure(figsize=(12, 8))\n",
    "    for idx, row in summary_pivot.iterrows():\n",
    "        # Extract R2_Score columns\n",
    "        r2_scores = row.filter(regex='R2_Score').values\n",
    "        plt.plot(range(dataset.num_nodes), r2_scores, label=f\"Exp {row['Experiment_ID']} - {row['Adjacency_Type']} - H={row['Horizon']}\")\n",
    "\n",
    "    plt.xlabel(\"Region Index\")\n",
    "    plt.ylabel(\"R² Score\")\n",
    "    plt.title(\"R² Scores Across Regions for All Experiments\")\n",
    "    plt.legend(bbox_to_anchor=(1.05, 1), loc='upper left')\n",
    "    plt.tight_layout()\n",
    "    r2_fig_path = os.path.join(project_root, \"figures\", \"R2_Scores_All_Experiments.png\")\n",
    "    plt.savefig(r2_fig_path, dpi=300, bbox_inches=\"tight\")\n",
    "    plt.close()\n",
    "    logging.info(f\"Saved R² scores plot -> {r2_fig_path}\")\n",
    "\n",
    "else:\n",
    "    logging.warning(\"No metrics collected. Possibly no data or skip conditions were triggered.\")\n"
   ]
  },
  {
   "cell_type": "code",
   "execution_count": null,
   "metadata": {},
   "outputs": [],
   "source": []
  }
 ],
 "metadata": {
  "kernelspec": {
   "display_name": "icu-demand-forecasting",
   "language": "python",
   "name": "python3"
  },
  "language_info": {
   "codemirror_mode": {
    "name": "ipython",
    "version": 3
   },
   "file_extension": ".py",
   "mimetype": "text/x-python",
   "name": "python",
   "nbconvert_exporter": "python",
   "pygments_lexer": "ipython3",
   "version": "3.9.20"
  }
 },
 "nbformat": 4,
 "nbformat_minor": 2
}
